{
 "cells": [
  {
   "cell_type": "code",
   "execution_count": 1,
   "id": "66212b86-8e79-4cca-8811-5562c17beaf8",
   "metadata": {},
   "outputs": [],
   "source": [
    "#import necessary libraries\n",
    "import pandas as pd\n",
    "import numpy as np\n",
    "\n",
    "import matplotlib.pyplot as plt\n",
    "import seaborn as sns\n",
    "from sklearn.tree import DecisionTreeClassifier\n",
    "from sklearn import preprocessing\n",
    "from sklearn.preprocessing import LabelEncoder\n",
    "from sklearn.ensemble import RandomForestClassifier\n",
    "from sklearn.neural_network import MLPClassifier\n",
    "from sklearn.neighbors import KNeighborsClassifier\n",
    "from sklearn.linear_model import LogisticRegression\n",
    "from sklearn.metrics import accuracy_score\n",
    "from sklearn.model_selection import KFold\n",
    "\n",
    "# supress error\n",
    "pd.options.mode.chained_assignment = None"
   ]
  },
  {
   "cell_type": "markdown",
   "id": "b800f93f-551e-4a9d-b5f6-9ac64b63a69d",
   "metadata": {},
   "source": [
    "# load data"
   ]
  },
  {
   "cell_type": "code",
   "execution_count": 2,
   "id": "bb61be5f-a55c-4733-9570-a4f383ae4d8a",
   "metadata": {},
   "outputs": [
    {
     "data": {
      "text/html": [
       "<div>\n",
       "<style scoped>\n",
       "    .dataframe tbody tr th:only-of-type {\n",
       "        vertical-align: middle;\n",
       "    }\n",
       "\n",
       "    .dataframe tbody tr th {\n",
       "        vertical-align: top;\n",
       "    }\n",
       "\n",
       "    .dataframe thead th {\n",
       "        text-align: right;\n",
       "    }\n",
       "</style>\n",
       "<table border=\"1\" class=\"dataframe\">\n",
       "  <thead>\n",
       "    <tr style=\"text-align: right;\">\n",
       "      <th></th>\n",
       "      <th>age</th>\n",
       "      <th>workclass</th>\n",
       "      <th>fnlwgt</th>\n",
       "      <th>education</th>\n",
       "      <th>education_num</th>\n",
       "      <th>marital_status</th>\n",
       "      <th>occupation</th>\n",
       "      <th>relationship</th>\n",
       "      <th>race</th>\n",
       "      <th>sex</th>\n",
       "      <th>capital_gain</th>\n",
       "      <th>capital_loss</th>\n",
       "      <th>hours_per_week</th>\n",
       "      <th>native_country</th>\n",
       "      <th>income</th>\n",
       "    </tr>\n",
       "  </thead>\n",
       "  <tbody>\n",
       "    <tr>\n",
       "      <th>0</th>\n",
       "      <td>39</td>\n",
       "      <td>State-gov</td>\n",
       "      <td>77516</td>\n",
       "      <td>Bachelors</td>\n",
       "      <td>13</td>\n",
       "      <td>Never-married</td>\n",
       "      <td>Adm-clerical</td>\n",
       "      <td>Not-in-family</td>\n",
       "      <td>White</td>\n",
       "      <td>Male</td>\n",
       "      <td>2174</td>\n",
       "      <td>0</td>\n",
       "      <td>40</td>\n",
       "      <td>United-States</td>\n",
       "      <td>&lt;=50K</td>\n",
       "    </tr>\n",
       "    <tr>\n",
       "      <th>1</th>\n",
       "      <td>50</td>\n",
       "      <td>Self-emp-not-inc</td>\n",
       "      <td>83311</td>\n",
       "      <td>Bachelors</td>\n",
       "      <td>13</td>\n",
       "      <td>Married-civ-spouse</td>\n",
       "      <td>Exec-managerial</td>\n",
       "      <td>Husband</td>\n",
       "      <td>White</td>\n",
       "      <td>Male</td>\n",
       "      <td>0</td>\n",
       "      <td>0</td>\n",
       "      <td>13</td>\n",
       "      <td>United-States</td>\n",
       "      <td>&lt;=50K</td>\n",
       "    </tr>\n",
       "  </tbody>\n",
       "</table>\n",
       "</div>"
      ],
      "text/plain": [
       "   age         workclass  fnlwgt  education  education_num  \\\n",
       "0   39         State-gov   77516  Bachelors             13   \n",
       "1   50  Self-emp-not-inc   83311  Bachelors             13   \n",
       "\n",
       "       marital_status       occupation   relationship   race   sex  \\\n",
       "0       Never-married     Adm-clerical  Not-in-family  White  Male   \n",
       "1  Married-civ-spouse  Exec-managerial        Husband  White  Male   \n",
       "\n",
       "   capital_gain  capital_loss  hours_per_week native_country income  \n",
       "0          2174             0              40  United-States  <=50K  \n",
       "1             0             0              13  United-States  <=50K  "
      ]
     },
     "execution_count": 2,
     "metadata": {},
     "output_type": "execute_result"
    }
   ],
   "source": [
    "# importing data and reading data from csv file\n",
    "# entries do have whitespace at before chars --> remove them with skipinitialspace\n",
    "data = pd.read_csv('data/adult.csv', header = None, skipinitialspace=True)\n",
    "# name columns\n",
    "data.columns = ['age', 'workclass', \"fnlwgt\", \"education\", \"education_num\", \"marital_status\", \"occupation\", \"relationship\", \"race\", \"sex\", \"capital_gain\", \"capital_loss\", \"hours_per_week\", \"native_country\", \"income\" ]\n",
    "# show dataset\n",
    "data.head(2)"
   ]
  },
  {
   "cell_type": "markdown",
   "id": "f4ac072a-503c-4eb2-8e65-9392812b8b04",
   "metadata": {},
   "source": [
    "# describe dataset"
   ]
  },
  {
   "cell_type": "code",
   "execution_count": 3,
   "id": "ad10cab4-29d2-44ea-a5df-62ec38763e94",
   "metadata": {},
   "outputs": [
    {
     "data": {
      "text/html": [
       "<div>\n",
       "<style scoped>\n",
       "    .dataframe tbody tr th:only-of-type {\n",
       "        vertical-align: middle;\n",
       "    }\n",
       "\n",
       "    .dataframe tbody tr th {\n",
       "        vertical-align: top;\n",
       "    }\n",
       "\n",
       "    .dataframe thead th {\n",
       "        text-align: right;\n",
       "    }\n",
       "</style>\n",
       "<table border=\"1\" class=\"dataframe\">\n",
       "  <thead>\n",
       "    <tr style=\"text-align: right;\">\n",
       "      <th></th>\n",
       "      <th>Column</th>\n",
       "      <th>Description</th>\n",
       "    </tr>\n",
       "  </thead>\n",
       "  <tbody>\n",
       "    <tr>\n",
       "      <th>0</th>\n",
       "      <td>age</td>\n",
       "      <td>Describes the age of individuals.</td>\n",
       "    </tr>\n",
       "    <tr>\n",
       "      <th>1</th>\n",
       "      <td>workclass</td>\n",
       "      <td>Different types of employment (e.g. State-gov, Never-worked).</td>\n",
       "    </tr>\n",
       "    <tr>\n",
       "      <th>2</th>\n",
       "      <td>fnlwgt</td>\n",
       "      <td>The idea is that if two samples have the same(or similar) fnlwgt they have similar characteristics, demographically speaking. They are not standardized across different states.</td>\n",
       "    </tr>\n",
       "    <tr>\n",
       "      <th>3</th>\n",
       "      <td>education</td>\n",
       "      <td>Different types of academic degrees (e.g. Bachelor).</td>\n",
       "    </tr>\n",
       "    <tr>\n",
       "      <th>4</th>\n",
       "      <td>education_num</td>\n",
       "      <td>Number of years spent in education.</td>\n",
       "    </tr>\n",
       "    <tr>\n",
       "      <th>5</th>\n",
       "      <td>marital_status</td>\n",
       "      <td>The distinct options that describe a person´s relationship with a significant other (e.g. Married).</td>\n",
       "    </tr>\n",
       "    <tr>\n",
       "      <th>6</th>\n",
       "      <td>occupation</td>\n",
       "      <td>A job or profession (e.g. Sales, Tech-support).</td>\n",
       "    </tr>\n",
       "    <tr>\n",
       "      <th>7</th>\n",
       "      <td>relationship</td>\n",
       "      <td>The way in which two or more people or groups regard and behave towards each other (e.g. Wife, Husband).</td>\n",
       "    </tr>\n",
       "    <tr>\n",
       "      <th>8</th>\n",
       "      <td>race</td>\n",
       "      <td>Race of the person (e.g. White, Black).</td>\n",
       "    </tr>\n",
       "    <tr>\n",
       "      <th>9</th>\n",
       "      <td>sex</td>\n",
       "      <td>Gender of the person (Male or Female).</td>\n",
       "    </tr>\n",
       "    <tr>\n",
       "      <th>10</th>\n",
       "      <td>capital_gain</td>\n",
       "      <td>Is the profit one earns on the sale of an asset like stocks.</td>\n",
       "    </tr>\n",
       "    <tr>\n",
       "      <th>11</th>\n",
       "      <td>capital_loss</td>\n",
       "      <td>Loss incurred when a capital asset (e.g. a stock) decreases in value.</td>\n",
       "    </tr>\n",
       "    <tr>\n",
       "      <th>12</th>\n",
       "      <td>hours_per_week</td>\n",
       "      <td>The time a person works per week.</td>\n",
       "    </tr>\n",
       "    <tr>\n",
       "      <th>13</th>\n",
       "      <td>native_country</td>\n",
       "      <td>Country of origin.</td>\n",
       "    </tr>\n",
       "    <tr>\n",
       "      <th>14</th>\n",
       "      <td>income</td>\n",
       "      <td>Annual salary.</td>\n",
       "    </tr>\n",
       "  </tbody>\n",
       "</table>\n",
       "</div>"
      ],
      "text/plain": [
       "            Column  \\\n",
       "0              age   \n",
       "1        workclass   \n",
       "2           fnlwgt   \n",
       "3        education   \n",
       "4    education_num   \n",
       "5   marital_status   \n",
       "6       occupation   \n",
       "7     relationship   \n",
       "8             race   \n",
       "9              sex   \n",
       "10    capital_gain   \n",
       "11    capital_loss   \n",
       "12  hours_per_week   \n",
       "13  native_country   \n",
       "14          income   \n",
       "\n",
       "                                                                                                                                                                         Description  \n",
       "0                                                                                                                                                  Describes the age of individuals.  \n",
       "1                                                                                                                      Different types of employment (e.g. State-gov, Never-worked).  \n",
       "2   The idea is that if two samples have the same(or similar) fnlwgt they have similar characteristics, demographically speaking. They are not standardized across different states.  \n",
       "3                                                                                                                               Different types of academic degrees (e.g. Bachelor).  \n",
       "4                                                                                                                                                Number of years spent in education.  \n",
       "5                                                                                The distinct options that describe a person´s relationship with a significant other (e.g. Married).  \n",
       "6                                                                                                                                    A job or profession (e.g. Sales, Tech-support).  \n",
       "7                                                                           The way in which two or more people or groups regard and behave towards each other (e.g. Wife, Husband).  \n",
       "8                                                                                                                                            Race of the person (e.g. White, Black).  \n",
       "9                                                                                                                                             Gender of the person (Male or Female).  \n",
       "10                                                                                                                      Is the profit one earns on the sale of an asset like stocks.  \n",
       "11                                                                                                             Loss incurred when a capital asset (e.g. a stock) decreases in value.  \n",
       "12                                                                                                                                                 The time a person works per week.  \n",
       "13                                                                                                                                                                Country of origin.  \n",
       "14                                                                                                                                                                    Annual salary.  "
      ]
     },
     "execution_count": 3,
     "metadata": {},
     "output_type": "execute_result"
    }
   ],
   "source": [
    "pd.set_option(\"max_colwidth\", None)\n",
    "desc = ['Describes the age of individuals.','Different types of employment (e.g. State-gov, Never-worked).','If two samples have the same(or similar) fnlwgt they have similar characteristics, demographically speaking. They are not standardized across different states.',\n",
    "       'Different types of academic degrees (e.g. Bachelor).','Number of years spent in education.','The distinct options that describe a person´s relationship with a significant other (e.g. Married).',\n",
    "        'A job or profession (e.g. Sales, Tech-support).','The way in which two or more people or groups regard and behave towards each other (e.g. Wife, Husband).','Race of the person (e.g. White, Black).','Gender of the person (Male or Female).','Is the profit one earns on the sale of an asset like stocks.',\n",
    "        'Loss incurred when a capital asset (e.g. a stock) decreases in value.','The time a person works per week.','Country of origin.','Annual salary.']\n",
    "data_details = pd.DataFrame(list(zip(data.columns, desc)), columns =['Column', 'Description'])\n",
    "data_details"
   ]
  },
  {
   "cell_type": "code",
   "execution_count": 4,
   "id": "eae074d3-fbab-4b96-bb3d-72dbf0fe4197",
   "metadata": {},
   "outputs": [
    {
     "data": {
      "text/plain": [
       "(32561, 15)"
      ]
     },
     "execution_count": 4,
     "metadata": {},
     "output_type": "execute_result"
    }
   ],
   "source": [
    "# 32561 rows, 15 columns\n",
    "data.shape"
   ]
  },
  {
   "cell_type": "code",
   "execution_count": 5,
   "id": "5b005c79-4283-4d6e-8208-affb120a849c",
   "metadata": {},
   "outputs": [
    {
     "data": {
      "text/plain": [
       "age               0\n",
       "workclass         0\n",
       "fnlwgt            0\n",
       "education         0\n",
       "education_num     0\n",
       "marital_status    0\n",
       "occupation        0\n",
       "relationship      0\n",
       "race              0\n",
       "sex               0\n",
       "capital_gain      0\n",
       "capital_loss      0\n",
       "hours_per_week    0\n",
       "native_country    0\n",
       "income            0\n",
       "dtype: int64"
      ]
     },
     "execution_count": 5,
     "metadata": {},
     "output_type": "execute_result"
    }
   ],
   "source": [
    "# Check for Null Data\n",
    "data.isna().sum()"
   ]
  },
  {
   "cell_type": "code",
   "execution_count": 6,
   "id": "2997a649-800b-40f1-ab3e-096929769b72",
   "metadata": {},
   "outputs": [
    {
     "data": {
      "text/plain": [
       "workclass         1836\n",
       "education            0\n",
       "marital_status       0\n",
       "occupation        1843\n",
       "relationship         0\n",
       "race                 0\n",
       "sex                  0\n",
       "native_country     583\n",
       "income               0\n",
       "dtype: int64"
      ]
     },
     "execution_count": 6,
     "metadata": {},
     "output_type": "execute_result"
    }
   ],
   "source": [
    "# dataset has no NaNs but a lot of ?\n",
    "data.select_dtypes(object).apply(lambda x: x.str.contains('?', regex=False)).sum()"
   ]
  },
  {
   "cell_type": "code",
   "execution_count": 7,
   "id": "2d0db84f-e1f4-4b01-8e67-b743501bb0a6",
   "metadata": {},
   "outputs": [
    {
     "data": {
      "text/plain": [
       "age                int64\n",
       "workclass         object\n",
       "fnlwgt             int64\n",
       "education         object\n",
       "education_num      int64\n",
       "marital_status    object\n",
       "occupation        object\n",
       "relationship      object\n",
       "race              object\n",
       "sex               object\n",
       "capital_gain       int64\n",
       "capital_loss       int64\n",
       "hours_per_week     int64\n",
       "native_country    object\n",
       "income            object\n",
       "dtype: object"
      ]
     },
     "execution_count": 7,
     "metadata": {},
     "output_type": "execute_result"
    }
   ],
   "source": [
    "# Get data types\n",
    "data.dtypes"
   ]
  },
  {
   "cell_type": "code",
   "execution_count": 8,
   "id": "5d2f8b76-28b2-4286-bdcf-fbe32862327e",
   "metadata": {},
   "outputs": [
    {
     "name": "stdout",
     "output_type": "stream",
     "text": [
      "Duplicated entries: 24\n"
     ]
    }
   ],
   "source": [
    "# show all duplicated entries of the dataset\n",
    "print('Duplicated entries:',data.duplicated().sum())"
   ]
  },
  {
   "cell_type": "markdown",
   "id": "d5ba75d6-1016-4292-bf48-3e44fd0d1cf9",
   "metadata": {},
   "source": [
    "## visualization"
   ]
  },
  {
   "cell_type": "code",
   "execution_count": 9,
   "id": "9e6a8a20-4d48-4f74-b60b-07314e838a65",
   "metadata": {},
   "outputs": [
    {
     "data": {
      "image/png": "[encoded data removed]",
      "text/plain": [
       "<Figure size 1080x360 with 1 Axes>"
      ]
     },
     "metadata": {},
     "output_type": "display_data"
    }
   ],
   "source": [
    "# Count of >50K & <=50K\n",
    "sns.set_theme(style=\"darkgrid\")\n",
    "plt.figure(figsize=(15,5))\n",
    "sns.countplot(x=\"income\", data=data)\n",
    "plt.tight_layout()\n",
    "plt.show()"
   ]
  },
  {
   "cell_type": "code",
   "execution_count": 10,
   "id": "daebb82d-62da-4347-bfd8-84afd619798e",
   "metadata": {},
   "outputs": [
    {
     "data": {
      "image/png": "[encoded data removed]",
      "text/plain": [
       "<Figure size 1080x360 with 1 Axes>"
      ]
     },
     "metadata": {},
     "output_type": "display_data"
    }
   ],
   "source": [
    "#difference male and female\n",
    "plt.figure(figsize=(15,5))\n",
    "sns.countplot(x=\"sex\", hue='income', data=data)\n",
    "plt.tight_layout()\n",
    "plt.show()"
   ]
  },
  {
   "cell_type": "code",
   "execution_count": 11,
   "id": "692f23b7-b72b-4565-86a3-9ecb469e16f7",
   "metadata": {},
   "outputs": [],
   "source": [
    "#split age in different groups for visualization\n",
    "data_age = []\n",
    "def age_group(x):\n",
    "    x = int(x)\n",
    "    x = abs(x)\n",
    "    if( 18 < x < 31 ):\n",
    "        return \"19-30\"\n",
    "    if( 30 < x < 41 ):\n",
    "        return \"31-40\"\n",
    "    if( 40 < x < 51 ):\n",
    "        return \"41-50\"\n",
    "    if( 50 < x < 61 ):\n",
    "        return \"51-60\"\n",
    "    if( 60 < x < 71 ):\n",
    "        return \"61-70\"\n",
    "    else:\n",
    "        return \"Greater than 70\"\n",
    "\n",
    "data_age = data['age'].apply(age_group)"
   ]
  },
  {
   "cell_type": "code",
   "execution_count": 12,
   "id": "5f913680-1527-41a8-b31a-3e9ad4114445",
   "metadata": {},
   "outputs": [
    {
     "data": {
      "text/plain": [
       "Text(0.5, 1.0, 'Income of Individuals of Different Age Groups')"
      ]
     },
     "execution_count": 12,
     "metadata": {},
     "output_type": "execute_result"
    },
    {
     "data": {
      "image/png": "[encoded data removed]",
      "text/plain": [
       "<Figure size 1080x360 with 1 Axes>"
      ]
     },
     "metadata": {},
     "output_type": "display_data"
    }
   ],
   "source": [
    "#visualization of age groups\n",
    "plt.figure(figsize=(15,5))\n",
    "order_list = ['19-30', '31-40', '41-50', '51-60', '61-70', 'Greater than 70']\n",
    "sns.countplot(x = data_age, hue = data['income'], order = order_list, data=data)\n",
    "plt.title('Income of Individuals of Different Age Groups')"
   ]
  },
  {
   "cell_type": "code",
   "execution_count": 13,
   "id": "2f94fe6a-834d-44f8-868f-e70760a19b19",
   "metadata": {},
   "outputs": [
    {
     "data": {
      "image/png": "[encoded data removed]",
      "text/plain": [
       "<Figure size 1080x360 with 1 Axes>"
      ]
     },
     "metadata": {},
     "output_type": "display_data"
    }
   ],
   "source": [
    "# income in correlation with education years\n",
    "plt.figure(figsize=(15,5))\n",
    "sns.countplot(x = 'education_num', hue = 'income', data = data)\n",
    "plt.tight_layout()\n",
    "plt.show()"
   ]
  },
  {
   "cell_type": "code",
   "execution_count": 14,
   "id": "93ae8d15-6f3b-4702-9c7a-d582e92029ea",
   "metadata": {},
   "outputs": [
    {
     "data": {
      "image/png": "[encoded data removed]",
      "text/plain": [
       "<Figure size 1080x360 with 1 Axes>"
      ]
     },
     "metadata": {},
     "output_type": "display_data"
    }
   ],
   "source": [
    "#Plotting workclass corresponding to the income\n",
    "plt.figure(figsize=(15,5))\n",
    "sns.countplot(x = 'workclass', hue = 'income', data = data)\n",
    "plt.tight_layout()\n",
    "plt.show()"
   ]
  },
  {
   "cell_type": "code",
   "execution_count": 15,
   "id": "d68df570-69d2-43ff-980a-979389b5a082",
   "metadata": {},
   "outputs": [
    {
     "data": {
      "image/png": "[encoded data removed]",
      "text/plain": [
       "<Figure size 1080x360 with 1 Axes>"
      ]
     },
     "metadata": {},
     "output_type": "display_data"
    }
   ],
   "source": [
    "#Plot of Country corresponding to income\n",
    "# plt.bar(count.index, count.values)\n",
    "# plt.xlabel('Countries')\n",
    "# plt.ylabel('Count')\n",
    "# plt.title('Count from each Country')\n",
    "plt.figure(figsize=(15,5))\n",
    "ax = sns.countplot(x = 'native_country', data = data)\n",
    "ax.set_xticklabels(ax.get_xticklabels(), rotation=40, ha=\"right\")\n",
    "plt.tight_layout()\n",
    "plt.show()"
   ]
  },
  {
   "cell_type": "code",
   "execution_count": 16,
   "id": "8426e21a-7316-43d3-800f-8425149e23a8",
   "metadata": {},
   "outputs": [
    {
     "data": {
      "image/png": "[encoded data removed]",
      "text/plain": [
       "<Figure size 1080x360 with 1 Axes>"
      ]
     },
     "metadata": {},
     "output_type": "display_data"
    }
   ],
   "source": [
    "# visualize race\n",
    "plt.figure(figsize=(15,5))\n",
    "ax = sns.countplot(x = 'race', hue = 'income', data = data)\n",
    "plt.tight_layout()\n",
    "plt.show()"
   ]
  },
  {
   "cell_type": "markdown",
   "id": "9d51b451-a33f-4e38-95d1-adc37e78b300",
   "metadata": {},
   "source": [
    "# preprocess data"
   ]
  },
  {
   "cell_type": "code",
   "execution_count": 17,
   "id": "e7469b5a-80bb-42a0-95d9-8ff1695ecdf5",
   "metadata": {},
   "outputs": [],
   "source": [
    "# replace ? with Nans\n",
    "data = data.replace('?', np.NaN )"
   ]
  },
  {
   "cell_type": "code",
   "execution_count": 18,
   "id": "3ff2677b-b434-430a-994b-ab08fee6d549",
   "metadata": {},
   "outputs": [
    {
     "data": {
      "text/plain": [
       "age                  0\n",
       "workclass         1836\n",
       "fnlwgt               0\n",
       "education            0\n",
       "education_num        0\n",
       "marital_status       0\n",
       "occupation        1843\n",
       "relationship         0\n",
       "race                 0\n",
       "sex                  0\n",
       "capital_gain         0\n",
       "capital_loss         0\n",
       "hours_per_week       0\n",
       "native_country     583\n",
       "income               0\n",
       "dtype: int64"
      ]
     },
     "execution_count": 18,
     "metadata": {},
     "output_type": "execute_result"
    }
   ],
   "source": [
    "# Check again for null data\n",
    "data.isna().sum()"
   ]
  },
  {
   "cell_type": "code",
   "execution_count": 19,
   "id": "1dfabccb-9607-4e89-a71c-71850a06c078",
   "metadata": {},
   "outputs": [
    {
     "name": "stdout",
     "output_type": "stream",
     "text": [
      "Duplicated entries:  0\n"
     ]
    }
   ],
   "source": [
    "# remove 24 duplicates\n",
    "data = data.drop_duplicates()\n",
    "print('Duplicated entries: ', data.duplicated().sum())"
   ]
  },
  {
   "cell_type": "code",
   "execution_count": 20,
   "id": "d62ddbed-a40c-484b-9bcd-aaad29aba5f3",
   "metadata": {},
   "outputs": [
    {
     "name": "stdout",
     "output_type": "stream",
     "text": [
      "(32537, 15)\n",
      "(119,)\n"
     ]
    },
    {
     "data": {
      "text/plain": [
       "(92,)"
      ]
     },
     "execution_count": 20,
     "metadata": {},
     "output_type": "execute_result"
    }
   ],
   "source": [
    "print(data.shape)\n",
    "print(data.capital_gain.unique().shape)\n",
    "data.capital_loss.unique().shape"
   ]
  },
  {
   "cell_type": "code",
   "execution_count": 21,
   "id": "d45033c6-1404-4370-821f-8a4e8e71bbd9",
   "metadata": {},
   "outputs": [
    {
     "data": {
      "text/plain": [
       "age                   0\n",
       "workclass             0\n",
       "fnlwgt                0\n",
       "education             0\n",
       "education_num         0\n",
       "marital_status        0\n",
       "occupation            0\n",
       "relationship          0\n",
       "race                  0\n",
       "sex                   0\n",
       "capital_gain      29825\n",
       "capital_loss      31018\n",
       "hours_per_week        0\n",
       "native_country        0\n",
       "income                0\n",
       "dtype: int64"
      ]
     },
     "execution_count": 21,
     "metadata": {},
     "output_type": "execute_result"
    }
   ],
   "source": [
    "data.eq(0).sum()"
   ]
  },
  {
   "cell_type": "code",
   "execution_count": 22,
   "id": "7fb32dad-15e2-4917-98b5-819cd820e3c2",
   "metadata": {},
   "outputs": [],
   "source": [
    "# dropping unimportant columns\n",
    "# The ‘fnlwgt’ variable (stands for final weight) is removed as it has no predictive power since it is a feature aimed to allocate similar weights to people with similar demographic characteristics. \n",
    "# capital gain and capital loss are mostly 0\n",
    "# education can be described by education-num \n",
    "data.drop(['fnlwgt', 'capital_gain', 'capital_loss', 'education'], axis=1, inplace=True)"
   ]
  },
  {
   "cell_type": "markdown",
   "id": "b76957f1-2cb7-48f9-95e3-b4a241222228",
   "metadata": {},
   "source": [
    "## approach 1 with dropping rows with any na in it"
   ]
  },
  {
   "cell_type": "code",
   "execution_count": 23,
   "id": "8649659b-dba0-461d-b827-7bb8fa2149eb",
   "metadata": {},
   "outputs": [
    {
     "name": "stdout",
     "output_type": "stream",
     "text": [
      "age               0\n",
      "workclass         0\n",
      "education_num     0\n",
      "marital_status    0\n",
      "occupation        0\n",
      "relationship      0\n",
      "race              0\n",
      "sex               0\n",
      "hours_per_week    0\n",
      "native_country    0\n",
      "income            0\n",
      "dtype: int64\n",
      "(30139, 11)\n"
     ]
    }
   ],
   "source": [
    "# drop Na \n",
    "data_dropped = data.dropna(how='any')\n",
    "# reset index after dropping rows\n",
    "data_dropped = data_dropped.reset_index(drop=True)\n",
    "print(data_dropped.isna().sum())\n",
    "print(data_dropped.shape)"
   ]
  },
  {
   "cell_type": "markdown",
   "id": "2978f183-df0b-4adc-824e-b15af961c87e",
   "metadata": {},
   "source": [
    "## approach 2 with replacing na values with mode"
   ]
  },
  {
   "cell_type": "code",
   "execution_count": 24,
   "id": "255b7dd2-12a0-4285-be40-bfa3f1da5fb6",
   "metadata": {},
   "outputs": [
    {
     "data": {
      "text/plain": [
       "age                  0\n",
       "workclass         1836\n",
       "education_num        0\n",
       "marital_status       0\n",
       "occupation        1843\n",
       "relationship         0\n",
       "race                 0\n",
       "sex                  0\n",
       "hours_per_week       0\n",
       "native_country     582\n",
       "income               0\n",
       "dtype: int64"
      ]
     },
     "execution_count": 24,
     "metadata": {},
     "output_type": "execute_result"
    }
   ],
   "source": [
    "data.isnull().sum(axis = 0)"
   ]
  },
  {
   "cell_type": "code",
   "execution_count": 25,
   "id": "719f6a33-952a-4326-bef7-62b9bc3a48bd",
   "metadata": {},
   "outputs": [
    {
     "name": "stdout",
     "output_type": "stream",
     "text": [
      "count              30694\n",
      "unique                14\n",
      "top       Prof-specialty\n",
      "freq                4136\n",
      "Name: occupation, dtype: object\n"
     ]
    }
   ],
   "source": [
    "print(data['occupation'].describe())\n",
    "data['occupation'] = data['occupation'].fillna('Prof-specialty')"
   ]
  },
  {
   "cell_type": "code",
   "execution_count": 26,
   "id": "33e0cab1-2aba-48f4-876a-a033547fc01c",
   "metadata": {},
   "outputs": [
    {
     "name": "stdout",
     "output_type": "stream",
     "text": [
      "count       30701\n",
      "unique          8\n",
      "top       Private\n",
      "freq        22673\n",
      "Name: workclass, dtype: object\n"
     ]
    }
   ],
   "source": [
    "print(data['workclass'].describe())\n",
    "data['workclass'] = data['workclass'].fillna('Private')"
   ]
  },
  {
   "cell_type": "code",
   "execution_count": 27,
   "id": "612afea6-74aa-49c1-9865-3e2425242824",
   "metadata": {},
   "outputs": [
    {
     "name": "stdout",
     "output_type": "stream",
     "text": [
      "count             31955\n",
      "unique               41\n",
      "top       United-States\n",
      "freq              29153\n",
      "Name: native_country, dtype: object\n"
     ]
    }
   ],
   "source": [
    "print(data['native_country'].describe())\n",
    "data['native_country'] = data['native_country'].fillna('United-States')"
   ]
  },
  {
   "cell_type": "code",
   "execution_count": 28,
   "id": "395c8b51-2a35-4993-8c94-66b3739ef737",
   "metadata": {},
   "outputs": [
    {
     "name": "stdout",
     "output_type": "stream",
     "text": [
      "(32537, 11)\n"
     ]
    }
   ],
   "source": [
    "data.isna().sum()\n",
    "print(data.shape)"
   ]
  },
  {
   "cell_type": "markdown",
   "id": "4946f3b2-d342-4684-be63-22f4ed752655",
   "metadata": {},
   "source": [
    "## encoding approach 1"
   ]
  },
  {
   "cell_type": "code",
   "execution_count": 29,
   "id": "d2f53bc2-ddff-4faa-b9f2-ebfc4fdbd8f0",
   "metadata": {},
   "outputs": [
    {
     "data": {
      "text/html": [
       "<div>\n",
       "<style scoped>\n",
       "    .dataframe tbody tr th:only-of-type {\n",
       "        vertical-align: middle;\n",
       "    }\n",
       "\n",
       "    .dataframe tbody tr th {\n",
       "        vertical-align: top;\n",
       "    }\n",
       "\n",
       "    .dataframe thead th {\n",
       "        text-align: right;\n",
       "    }\n",
       "</style>\n",
       "<table border=\"1\" class=\"dataframe\">\n",
       "  <thead>\n",
       "    <tr style=\"text-align: right;\">\n",
       "      <th></th>\n",
       "      <th>age</th>\n",
       "      <th>workclass</th>\n",
       "      <th>education_num</th>\n",
       "      <th>marital_status</th>\n",
       "      <th>occupation</th>\n",
       "      <th>relationship</th>\n",
       "      <th>race</th>\n",
       "      <th>sex</th>\n",
       "      <th>hours_per_week</th>\n",
       "      <th>native_country</th>\n",
       "      <th>income</th>\n",
       "    </tr>\n",
       "  </thead>\n",
       "  <tbody>\n",
       "    <tr>\n",
       "      <th>0</th>\n",
       "      <td>39</td>\n",
       "      <td>5</td>\n",
       "      <td>13</td>\n",
       "      <td>4</td>\n",
       "      <td>0</td>\n",
       "      <td>1</td>\n",
       "      <td>4</td>\n",
       "      <td>1</td>\n",
       "      <td>40</td>\n",
       "      <td>38</td>\n",
       "      <td>0</td>\n",
       "    </tr>\n",
       "    <tr>\n",
       "      <th>1</th>\n",
       "      <td>50</td>\n",
       "      <td>4</td>\n",
       "      <td>13</td>\n",
       "      <td>2</td>\n",
       "      <td>3</td>\n",
       "      <td>0</td>\n",
       "      <td>4</td>\n",
       "      <td>1</td>\n",
       "      <td>13</td>\n",
       "      <td>38</td>\n",
       "      <td>0</td>\n",
       "    </tr>\n",
       "    <tr>\n",
       "      <th>2</th>\n",
       "      <td>38</td>\n",
       "      <td>2</td>\n",
       "      <td>9</td>\n",
       "      <td>0</td>\n",
       "      <td>5</td>\n",
       "      <td>1</td>\n",
       "      <td>4</td>\n",
       "      <td>1</td>\n",
       "      <td>40</td>\n",
       "      <td>38</td>\n",
       "      <td>0</td>\n",
       "    </tr>\n",
       "    <tr>\n",
       "      <th>3</th>\n",
       "      <td>53</td>\n",
       "      <td>2</td>\n",
       "      <td>7</td>\n",
       "      <td>2</td>\n",
       "      <td>5</td>\n",
       "      <td>0</td>\n",
       "      <td>2</td>\n",
       "      <td>1</td>\n",
       "      <td>40</td>\n",
       "      <td>38</td>\n",
       "      <td>0</td>\n",
       "    </tr>\n",
       "    <tr>\n",
       "      <th>4</th>\n",
       "      <td>28</td>\n",
       "      <td>2</td>\n",
       "      <td>13</td>\n",
       "      <td>2</td>\n",
       "      <td>9</td>\n",
       "      <td>5</td>\n",
       "      <td>2</td>\n",
       "      <td>0</td>\n",
       "      <td>40</td>\n",
       "      <td>4</td>\n",
       "      <td>0</td>\n",
       "    </tr>\n",
       "  </tbody>\n",
       "</table>\n",
       "</div>"
      ],
      "text/plain": [
       "   age  workclass  education_num  marital_status  occupation  relationship  \\\n",
       "0   39          5             13               4           0             1   \n",
       "1   50          4             13               2           3             0   \n",
       "2   38          2              9               0           5             1   \n",
       "3   53          2              7               2           5             0   \n",
       "4   28          2             13               2           9             5   \n",
       "\n",
       "   race  sex  hours_per_week  native_country  income  \n",
       "0     4    1              40              38       0  \n",
       "1     4    1              13              38       0  \n",
       "2     4    1              40              38       0  \n",
       "3     2    1              40              38       0  \n",
       "4     2    0              40               4       0  "
      ]
     },
     "execution_count": 29,
     "metadata": {},
     "output_type": "execute_result"
    }
   ],
   "source": [
    "# encoding\n",
    "# 1 = >50K; 0 = <=50K \n",
    "encoder_income = LabelEncoder()\n",
    "data_dropped['income'] = encoder_income.fit_transform(data_dropped['income'])\n",
    "encoder_worklass = LabelEncoder()\n",
    "data_dropped['workclass'] = encoder_worklass.fit_transform(data_dropped['workclass'])\n",
    "encoder_occupation = LabelEncoder()\n",
    "data_dropped['occupation'] = encoder_occupation.fit_transform(data_dropped['occupation'])\n",
    "encoder_relationship = LabelEncoder()\n",
    "data_dropped['relationship'] = encoder_relationship.fit_transform(data_dropped['relationship'])\n",
    "encoder_race = LabelEncoder()\n",
    "data_dropped['race'] = encoder_race.fit_transform(data_dropped['race'])\n",
    "encoder_sex = LabelEncoder()\n",
    "data_dropped['sex'] = encoder_sex.fit_transform(data_dropped['sex'])\n",
    "encoder_nativecountry  = LabelEncoder()\n",
    "data_dropped['native_country'] = encoder_nativecountry.fit_transform(data_dropped['native_country'])\n",
    "encoder_maritalstatus  = LabelEncoder()\n",
    "data_dropped['marital_status'] = encoder_maritalstatus.fit_transform(data_dropped['marital_status'])\n",
    "data_dropped.head()"
   ]
  },
  {
   "cell_type": "code",
   "execution_count": 30,
   "id": "763ec06f-4fce-430a-b05a-7507ddc5530b",
   "metadata": {},
   "outputs": [
    {
     "name": "stdout",
     "output_type": "stream",
     "text": [
      "0        0\n",
      "1        0\n",
      "2        0\n",
      "3        0\n",
      "4        0\n",
      "        ..\n",
      "30134    0\n",
      "30135    1\n",
      "30136    0\n",
      "30137    0\n",
      "30138    1\n",
      "Name: income, Length: 30139, dtype: int32\n"
     ]
    },
    {
     "data": {
      "text/html": [
       "<div>\n",
       "<style scoped>\n",
       "    .dataframe tbody tr th:only-of-type {\n",
       "        vertical-align: middle;\n",
       "    }\n",
       "\n",
       "    .dataframe tbody tr th {\n",
       "        vertical-align: top;\n",
       "    }\n",
       "\n",
       "    .dataframe thead th {\n",
       "        text-align: right;\n",
       "    }\n",
       "</style>\n",
       "<table border=\"1\" class=\"dataframe\">\n",
       "  <thead>\n",
       "    <tr style=\"text-align: right;\">\n",
       "      <th></th>\n",
       "      <th>age</th>\n",
       "      <th>workclass</th>\n",
       "      <th>education_num</th>\n",
       "      <th>marital_status</th>\n",
       "      <th>occupation</th>\n",
       "      <th>relationship</th>\n",
       "      <th>race</th>\n",
       "      <th>sex</th>\n",
       "      <th>hours_per_week</th>\n",
       "      <th>native_country</th>\n",
       "    </tr>\n",
       "  </thead>\n",
       "  <tbody>\n",
       "    <tr>\n",
       "      <th>0</th>\n",
       "      <td>39</td>\n",
       "      <td>5</td>\n",
       "      <td>13</td>\n",
       "      <td>4</td>\n",
       "      <td>0</td>\n",
       "      <td>1</td>\n",
       "      <td>4</td>\n",
       "      <td>1</td>\n",
       "      <td>40</td>\n",
       "      <td>38</td>\n",
       "    </tr>\n",
       "    <tr>\n",
       "      <th>1</th>\n",
       "      <td>50</td>\n",
       "      <td>4</td>\n",
       "      <td>13</td>\n",
       "      <td>2</td>\n",
       "      <td>3</td>\n",
       "      <td>0</td>\n",
       "      <td>4</td>\n",
       "      <td>1</td>\n",
       "      <td>13</td>\n",
       "      <td>38</td>\n",
       "    </tr>\n",
       "    <tr>\n",
       "      <th>2</th>\n",
       "      <td>38</td>\n",
       "      <td>2</td>\n",
       "      <td>9</td>\n",
       "      <td>0</td>\n",
       "      <td>5</td>\n",
       "      <td>1</td>\n",
       "      <td>4</td>\n",
       "      <td>1</td>\n",
       "      <td>40</td>\n",
       "      <td>38</td>\n",
       "    </tr>\n",
       "    <tr>\n",
       "      <th>3</th>\n",
       "      <td>53</td>\n",
       "      <td>2</td>\n",
       "      <td>7</td>\n",
       "      <td>2</td>\n",
       "      <td>5</td>\n",
       "      <td>0</td>\n",
       "      <td>2</td>\n",
       "      <td>1</td>\n",
       "      <td>40</td>\n",
       "      <td>38</td>\n",
       "    </tr>\n",
       "    <tr>\n",
       "      <th>4</th>\n",
       "      <td>28</td>\n",
       "      <td>2</td>\n",
       "      <td>13</td>\n",
       "      <td>2</td>\n",
       "      <td>9</td>\n",
       "      <td>5</td>\n",
       "      <td>2</td>\n",
       "      <td>0</td>\n",
       "      <td>40</td>\n",
       "      <td>4</td>\n",
       "    </tr>\n",
       "  </tbody>\n",
       "</table>\n",
       "</div>"
      ],
      "text/plain": [
       "   age  workclass  education_num  marital_status  occupation  relationship  \\\n",
       "0   39          5             13               4           0             1   \n",
       "1   50          4             13               2           3             0   \n",
       "2   38          2              9               0           5             1   \n",
       "3   53          2              7               2           5             0   \n",
       "4   28          2             13               2           9             5   \n",
       "\n",
       "   race  sex  hours_per_week  native_country  \n",
       "0     4    1              40              38  \n",
       "1     4    1              13              38  \n",
       "2     4    1              40              38  \n",
       "3     2    1              40              38  \n",
       "4     2    0              40               4  "
      ]
     },
     "execution_count": 30,
     "metadata": {},
     "output_type": "execute_result"
    }
   ],
   "source": [
    "#Splitting the data set into features and outcome\n",
    "X_dropped = data_dropped.drop(['income'], axis=1)\n",
    "Y_dropped = data_dropped['income']\n",
    "print(Y_dropped)\n",
    "X_dropped.head()"
   ]
  },
  {
   "cell_type": "markdown",
   "id": "418821f2-c722-4cb7-8fa7-acd18edb7c01",
   "metadata": {},
   "source": [
    "## encoding approach 2"
   ]
  },
  {
   "cell_type": "code",
   "execution_count": 31,
   "id": "666e0191-61c1-47e5-8a3a-8f90e1721ea4",
   "metadata": {},
   "outputs": [
    {
     "data": {
      "text/html": [
       "<div>\n",
       "<style scoped>\n",
       "    .dataframe tbody tr th:only-of-type {\n",
       "        vertical-align: middle;\n",
       "    }\n",
       "\n",
       "    .dataframe tbody tr th {\n",
       "        vertical-align: top;\n",
       "    }\n",
       "\n",
       "    .dataframe thead th {\n",
       "        text-align: right;\n",
       "    }\n",
       "</style>\n",
       "<table border=\"1\" class=\"dataframe\">\n",
       "  <thead>\n",
       "    <tr style=\"text-align: right;\">\n",
       "      <th></th>\n",
       "      <th>age</th>\n",
       "      <th>workclass</th>\n",
       "      <th>education_num</th>\n",
       "      <th>marital_status</th>\n",
       "      <th>occupation</th>\n",
       "      <th>relationship</th>\n",
       "      <th>race</th>\n",
       "      <th>sex</th>\n",
       "      <th>hours_per_week</th>\n",
       "      <th>native_country</th>\n",
       "      <th>income</th>\n",
       "    </tr>\n",
       "  </thead>\n",
       "  <tbody>\n",
       "    <tr>\n",
       "      <th>0</th>\n",
       "      <td>39</td>\n",
       "      <td>6</td>\n",
       "      <td>13</td>\n",
       "      <td>4</td>\n",
       "      <td>0</td>\n",
       "      <td>1</td>\n",
       "      <td>4</td>\n",
       "      <td>1</td>\n",
       "      <td>40</td>\n",
       "      <td>38</td>\n",
       "      <td>0</td>\n",
       "    </tr>\n",
       "    <tr>\n",
       "      <th>1</th>\n",
       "      <td>50</td>\n",
       "      <td>5</td>\n",
       "      <td>13</td>\n",
       "      <td>2</td>\n",
       "      <td>3</td>\n",
       "      <td>0</td>\n",
       "      <td>4</td>\n",
       "      <td>1</td>\n",
       "      <td>13</td>\n",
       "      <td>38</td>\n",
       "      <td>0</td>\n",
       "    </tr>\n",
       "    <tr>\n",
       "      <th>2</th>\n",
       "      <td>38</td>\n",
       "      <td>3</td>\n",
       "      <td>9</td>\n",
       "      <td>0</td>\n",
       "      <td>5</td>\n",
       "      <td>1</td>\n",
       "      <td>4</td>\n",
       "      <td>1</td>\n",
       "      <td>40</td>\n",
       "      <td>38</td>\n",
       "      <td>0</td>\n",
       "    </tr>\n",
       "    <tr>\n",
       "      <th>3</th>\n",
       "      <td>53</td>\n",
       "      <td>3</td>\n",
       "      <td>7</td>\n",
       "      <td>2</td>\n",
       "      <td>5</td>\n",
       "      <td>0</td>\n",
       "      <td>2</td>\n",
       "      <td>1</td>\n",
       "      <td>40</td>\n",
       "      <td>38</td>\n",
       "      <td>0</td>\n",
       "    </tr>\n",
       "    <tr>\n",
       "      <th>4</th>\n",
       "      <td>28</td>\n",
       "      <td>3</td>\n",
       "      <td>13</td>\n",
       "      <td>2</td>\n",
       "      <td>9</td>\n",
       "      <td>5</td>\n",
       "      <td>2</td>\n",
       "      <td>0</td>\n",
       "      <td>40</td>\n",
       "      <td>4</td>\n",
       "      <td>0</td>\n",
       "    </tr>\n",
       "  </tbody>\n",
       "</table>\n",
       "</div>"
      ],
      "text/plain": [
       "   age  workclass  education_num  marital_status  occupation  relationship  \\\n",
       "0   39          6             13               4           0             1   \n",
       "1   50          5             13               2           3             0   \n",
       "2   38          3              9               0           5             1   \n",
       "3   53          3              7               2           5             0   \n",
       "4   28          3             13               2           9             5   \n",
       "\n",
       "   race  sex  hours_per_week  native_country  income  \n",
       "0     4    1              40              38       0  \n",
       "1     4    1              13              38       0  \n",
       "2     4    1              40              38       0  \n",
       "3     2    1              40              38       0  \n",
       "4     2    0              40               4       0  "
      ]
     },
     "execution_count": 31,
     "metadata": {},
     "output_type": "execute_result"
    }
   ],
   "source": [
    "# encoding\n",
    "# 1 = >50K; 0 = <=50K \n",
    "encoder_income = LabelEncoder()\n",
    "data['income'] = encoder_income.fit_transform(data['income'])\n",
    "encoder_worklass = LabelEncoder()\n",
    "data['workclass'] = encoder_worklass.fit_transform(data['workclass'])\n",
    "encoder_occupation = LabelEncoder()\n",
    "data['occupation'] = encoder_occupation.fit_transform(data['occupation'])\n",
    "encoder_relationship = LabelEncoder()\n",
    "data['relationship'] = encoder_relationship.fit_transform(data['relationship'])\n",
    "encoder_race = LabelEncoder()\n",
    "data['race'] = encoder_race.fit_transform(data['race'])\n",
    "encoder_sex = LabelEncoder()\n",
    "data['sex'] = encoder_sex.fit_transform(data['sex'])\n",
    "encoder_nativecountry  = LabelEncoder()\n",
    "data['native_country'] = encoder_nativecountry.fit_transform(data['native_country'])\n",
    "encoder_maritalstatus  = LabelEncoder()\n",
    "data['marital_status'] = encoder_maritalstatus.fit_transform(data['marital_status'])\n",
    "data.head()"
   ]
  },
  {
   "cell_type": "code",
   "execution_count": 32,
   "id": "35b3afcf-7c92-4aed-a609-5cb85bf65974",
   "metadata": {},
   "outputs": [
    {
     "name": "stdout",
     "output_type": "stream",
     "text": [
      "0        0\n",
      "1        0\n",
      "2        0\n",
      "3        0\n",
      "4        0\n",
      "        ..\n",
      "32556    0\n",
      "32557    1\n",
      "32558    0\n",
      "32559    0\n",
      "32560    1\n",
      "Name: income, Length: 32537, dtype: int32\n"
     ]
    },
    {
     "data": {
      "text/html": [
       "<div>\n",
       "<style scoped>\n",
       "    .dataframe tbody tr th:only-of-type {\n",
       "        vertical-align: middle;\n",
       "    }\n",
       "\n",
       "    .dataframe tbody tr th {\n",
       "        vertical-align: top;\n",
       "    }\n",
       "\n",
       "    .dataframe thead th {\n",
       "        text-align: right;\n",
       "    }\n",
       "</style>\n",
       "<table border=\"1\" class=\"dataframe\">\n",
       "  <thead>\n",
       "    <tr style=\"text-align: right;\">\n",
       "      <th></th>\n",
       "      <th>age</th>\n",
       "      <th>workclass</th>\n",
       "      <th>education_num</th>\n",
       "      <th>marital_status</th>\n",
       "      <th>occupation</th>\n",
       "      <th>relationship</th>\n",
       "      <th>race</th>\n",
       "      <th>sex</th>\n",
       "      <th>hours_per_week</th>\n",
       "      <th>native_country</th>\n",
       "    </tr>\n",
       "  </thead>\n",
       "  <tbody>\n",
       "    <tr>\n",
       "      <th>0</th>\n",
       "      <td>39</td>\n",
       "      <td>6</td>\n",
       "      <td>13</td>\n",
       "      <td>4</td>\n",
       "      <td>0</td>\n",
       "      <td>1</td>\n",
       "      <td>4</td>\n",
       "      <td>1</td>\n",
       "      <td>40</td>\n",
       "      <td>38</td>\n",
       "    </tr>\n",
       "    <tr>\n",
       "      <th>1</th>\n",
       "      <td>50</td>\n",
       "      <td>5</td>\n",
       "      <td>13</td>\n",
       "      <td>2</td>\n",
       "      <td>3</td>\n",
       "      <td>0</td>\n",
       "      <td>4</td>\n",
       "      <td>1</td>\n",
       "      <td>13</td>\n",
       "      <td>38</td>\n",
       "    </tr>\n",
       "    <tr>\n",
       "      <th>2</th>\n",
       "      <td>38</td>\n",
       "      <td>3</td>\n",
       "      <td>9</td>\n",
       "      <td>0</td>\n",
       "      <td>5</td>\n",
       "      <td>1</td>\n",
       "      <td>4</td>\n",
       "      <td>1</td>\n",
       "      <td>40</td>\n",
       "      <td>38</td>\n",
       "    </tr>\n",
       "    <tr>\n",
       "      <th>3</th>\n",
       "      <td>53</td>\n",
       "      <td>3</td>\n",
       "      <td>7</td>\n",
       "      <td>2</td>\n",
       "      <td>5</td>\n",
       "      <td>0</td>\n",
       "      <td>2</td>\n",
       "      <td>1</td>\n",
       "      <td>40</td>\n",
       "      <td>38</td>\n",
       "    </tr>\n",
       "    <tr>\n",
       "      <th>4</th>\n",
       "      <td>28</td>\n",
       "      <td>3</td>\n",
       "      <td>13</td>\n",
       "      <td>2</td>\n",
       "      <td>9</td>\n",
       "      <td>5</td>\n",
       "      <td>2</td>\n",
       "      <td>0</td>\n",
       "      <td>40</td>\n",
       "      <td>4</td>\n",
       "    </tr>\n",
       "  </tbody>\n",
       "</table>\n",
       "</div>"
      ],
      "text/plain": [
       "   age  workclass  education_num  marital_status  occupation  relationship  \\\n",
       "0   39          6             13               4           0             1   \n",
       "1   50          5             13               2           3             0   \n",
       "2   38          3              9               0           5             1   \n",
       "3   53          3              7               2           5             0   \n",
       "4   28          3             13               2           9             5   \n",
       "\n",
       "   race  sex  hours_per_week  native_country  \n",
       "0     4    1              40              38  \n",
       "1     4    1              13              38  \n",
       "2     4    1              40              38  \n",
       "3     2    1              40              38  \n",
       "4     2    0              40               4  "
      ]
     },
     "execution_count": 32,
     "metadata": {},
     "output_type": "execute_result"
    }
   ],
   "source": [
    "#Splitting the data set into features and outcome\n",
    "X = data.drop(['income'], axis=1)\n",
    "Y = data['income']\n",
    "print(Y)\n",
    "X.head()"
   ]
  },
  {
   "cell_type": "markdown",
   "id": "bb18a62a-f5ef-41fc-8e5b-ab9654f2ce6a",
   "metadata": {},
   "source": [
    "# train data "
   ]
  },
  {
   "cell_type": "code",
   "execution_count": 33,
   "id": "2d10cef0-b453-4d29-95ac-d23322c8c4d5",
   "metadata": {},
   "outputs": [],
   "source": [
    "# define k-fold properties\n",
    "# @Tim welches n_splits ist sinnvoll?\n",
    "kf = KFold(n_splits=10, shuffle=True)"
   ]
  },
  {
   "cell_type": "markdown",
   "id": "83ce9f1b-90b8-4663-abc0-0d765f258773",
   "metadata": {},
   "source": [
    "## approach 1"
   ]
  },
  {
   "cell_type": "code",
   "execution_count": 34,
   "id": "cb57b8ab-24f4-48d5-8c78-bb32a56844d1",
   "metadata": {},
   "outputs": [],
   "source": [
    "# define arrays to save the accuracy of every step of k-fold cross validation\n",
    "accuracy_kNeighbor_1 = []\n",
    "accuracy_decisionTree_1 = []\n",
    "accuracy_randomForest_1 = []\n",
    "accuracy_logisticRegression_1 = []\n",
    "accuracy_neuronalNet_1 = []"
   ]
  },
  {
   "cell_type": "code",
   "execution_count": 35,
   "id": "b19fbe07-1364-41b3-b817-0a5c3c80189e",
   "metadata": {},
   "outputs": [],
   "source": [
    "X_dropped = X_dropped.to_numpy()\n",
    "Y_dropped = Y_dropped.to_numpy()"
   ]
  },
  {
   "cell_type": "code",
   "execution_count": 36,
   "id": "b7919eba-f54c-4c28-aed1-ee9db7bff854",
   "metadata": {},
   "outputs": [
    {
     "name": "stdout",
     "output_type": "stream",
     "text": [
      "K Nearest Neighbor: 0.7992700729927007\n",
      "Decision Tree: 0.7760451227604512\n",
      "Random Forest: 0.805242203052422\n",
      "Logistic Regression: 0.7979429329794293\n",
      "Neuronales Net: 0.8175182481751825\n",
      "\n",
      "\n",
      "K Nearest Neighbor: 0.809555408095554\n",
      "Decision Tree: 0.7816854678168547\n",
      "Random Forest: 0.8115461181154612\n",
      "Logistic Regression: 0.8002654280026543\n",
      "Neuronales Net: 0.8307896483078965\n",
      "\n",
      "\n",
      "K Nearest Neighbor: 0.8085600530856005\n",
      "Decision Tree: 0.7932979429329794\n",
      "Random Forest: 0.8191771731917717\n",
      "Logistic Regression: 0.8092236230922363\n",
      "Neuronales Net: 0.8327803583278036\n",
      "\n",
      "\n",
      "K Nearest Neighbor: 0.8039150630391506\n",
      "Decision Tree: 0.7826808228268082\n",
      "Random Forest: 0.8078964830789648\n",
      "Logistic Regression: 0.8088918380889184\n",
      "Neuronales Net: 0.8324485733244857\n",
      "\n",
      "\n",
      "K Nearest Neighbor: 0.7989382879893829\n",
      "Decision Tree: 0.7690776376907764\n",
      "Random Forest: 0.8085600530856005\n",
      "Logistic Regression: 0.7986065029860651\n",
      "Neuronales Net: 0.818513603185136\n",
      "\n",
      "\n",
      "K Nearest Neighbor: 0.7986065029860651\n",
      "Decision Tree: 0.7856668878566688\n",
      "Random Forest: 0.8168546781685467\n",
      "Logistic Regression: 0.807564698075647\n",
      "Neuronales Net: 0.8258128732581287\n",
      "\n",
      "\n",
      "K Nearest Neighbor: 0.7972793629727937\n",
      "Decision Tree: 0.7727272727272727\n",
      "Random Forest: 0.7913072329130724\n",
      "Logistic Regression: 0.7929661579296616\n",
      "Neuronales Net: 0.8307896483078965\n",
      "\n",
      "\n",
      "K Nearest Neighbor: 0.789980092899801\n",
      "Decision Tree: 0.7753815527538155\n",
      "Random Forest: 0.7936297279362973\n",
      "Logistic Regression: 0.794293297942933\n",
      "Neuronales Net: 0.8195089581950896\n",
      "\n",
      "\n",
      "K Nearest Neighbor: 0.8039150630391506\n",
      "Decision Tree: 0.7770404777704047\n",
      "Random Forest: 0.807564698075647\n",
      "Logistic Regression: 0.8078964830789648\n",
      "Neuronales Net: 0.829794293297943\n",
      "\n",
      "\n",
      "K Nearest Neighbor: 0.7938931297709924\n",
      "Decision Tree: 0.782608695652174\n",
      "Random Forest: 0.8065051443743777\n",
      "Logistic Regression: 0.7968801858612679\n",
      "Neuronales Net: 0.8244274809160306\n",
      "\n",
      "\n"
     ]
    }
   ],
   "source": [
    "for train_index, test_index in kf.split(X_dropped):\n",
    "    \n",
    "        X_train, X_test = X_dropped[train_index], X_dropped[test_index]\n",
    "        Y_train, Y_test = Y_dropped[train_index], Y_dropped[test_index]\n",
    "        \n",
    "    #K nearest neighbor\n",
    "        kNeighbor = KNeighborsClassifier(n_neighbors=5)\n",
    "        #train random forest only on training data\n",
    "        kNeighbor = kNeighbor.fit(X_train, Y_train)\n",
    "        #test random forest with test data\n",
    "        kNeighbor_pred = kNeighbor.predict(X_test)\n",
    "        kNeighbor_accuracy = accuracy_score(Y_test, kNeighbor_pred)\n",
    "        print(f'K Nearest Neighbor: {kNeighbor_accuracy}')\n",
    "        accuracy_kNeighbor_1.append(kNeighbor_accuracy)\n",
    "        #cm_KNN_1.append(confusion_matrix(Y_test, kNeighbor_pred))\n",
    "        \n",
    "    #Decision Tree\n",
    "        decisionTree = DecisionTreeClassifier(random_state=0, criterion = 'entropy')\n",
    "        #train decision tree only on training data\n",
    "        decisionTree = decisionTree.fit(X_train, Y_train)\n",
    "        #test decision tree with test data\n",
    "        decisionTree_pred = decisionTree.predict(X_test)\n",
    "        decisionTree_accuracy = accuracy_score(Y_test, decisionTree_pred)\n",
    "        print(f'Decision Tree: {decisionTree_accuracy}')\n",
    "        accuracy_decisionTree_1.append(decisionTree_accuracy)\n",
    "        \n",
    "    #Random Forest\n",
    "        randomForest = RandomForestClassifier(max_depth=2, random_state=0)\n",
    "        #train random forest only on training data\n",
    "        randomForest = randomForest.fit(X_train, Y_train)\n",
    "        #test random forest with test data\n",
    "        randomForest_pred = randomForest.predict(X_test)\n",
    "        randomForest_accuracy = accuracy_score(Y_test, randomForest_pred)\n",
    "        print(f'Random Forest: {randomForest_accuracy}')\n",
    "        accuracy_randomForest_1.append(randomForest_accuracy)\n",
    "        \n",
    "    #Logistic Regression\n",
    "        logisticRegression = LogisticRegression(random_state=0, max_iter=500)\n",
    "        #train logistic regression only on training data\n",
    "        logisticRegression = logisticRegression.fit(X_train, Y_train)\n",
    "        #test random forest with test data\n",
    "        logisticRegression_pred = logisticRegression.predict(X_test)\n",
    "        logisticRegression_accuracy = accuracy_score(Y_test, logisticRegression_pred)\n",
    "        print(f'Logistic Regression: {logisticRegression_accuracy}')\n",
    "        accuracy_logisticRegression_1.append(logisticRegression_accuracy)\n",
    "        \n",
    "    #Neuronal Net\n",
    "        neuronalNet = MLPClassifier(random_state=1, max_iter=500).fit(X_train, Y_train)\n",
    "        neuronalNet_pred = neuronalNet.predict(X_test)\n",
    "        neuronalNet_accuracy = accuracy_score(Y_test, neuronalNet_pred)\n",
    "        print(f'Neuronales Net: {neuronalNet_accuracy}')\n",
    "        accuracy_neuronalNet_1.append(neuronalNet_accuracy)\n",
    "        print('\\n')"
   ]
  },
  {
   "cell_type": "code",
   "execution_count": 37,
   "id": "3be73e6f-9ca6-4751-963b-8d9b9dd5cd17",
   "metadata": {},
   "outputs": [
    {
     "data": {
      "image/png": "[encoded data removed]",
      "text/plain": [
       "<Figure size 1080x360 with 1 Axes>"
      ]
     },
     "metadata": {},
     "output_type": "display_data"
    }
   ],
   "source": [
    "# print accuracy of each kfold step\n",
    "plt.figure(figsize=(15,5))\n",
    "ax = plt.subplot()\n",
    "width = 0.1\n",
    "\n",
    "X_label = ['1', '2', '3', '4', '5', '6', '7', '8', '9', '10']\n",
    "_X = np.arange(len(X_label))\n",
    "\n",
    "ax.bar(_X, accuracy_kNeighbor_1, width, label='kNeighbor')\n",
    "ax.bar(_X + width, accuracy_decisionTree_1, width, label='decision tree')\n",
    "ax.bar(_X + (2*width), accuracy_randomForest_1, width, label='random Forest')\n",
    "ax.bar(_X + (3*width), accuracy_logisticRegression_1, width, label='logistic regression')\n",
    "ax.bar(_X + (4*width), accuracy_neuronalNet_1, width, label='neuronal net')\n",
    "\n",
    "ax.set_ylabel('Accuracy')\n",
    "ax.set_ylim(0.7,1)\n",
    "ax.set_xticks(_X + width + width/2)\n",
    "ax.set_xticklabels(X_label)\n",
    "ax.set_title('Accuracy of the diffrent models in every kfold step')\n",
    "ax.legend()\n",
    "\n",
    "plt.tight_layout()\n",
    "\n",
    "plt.show()"
   ]
  },
  {
   "cell_type": "code",
   "execution_count": 38,
   "id": "2e64566d-d245-4003-9cf7-34732ddf2027",
   "metadata": {},
   "outputs": [],
   "source": [
    "# calculate average accuracy\n",
    "avg_kNeigbor_1 = sum(accuracy_kNeighbor_1)/len(accuracy_kNeighbor_1)\n",
    "avg_decisionTree_1 = sum(accuracy_decisionTree_1)/len(accuracy_decisionTree_1)\n",
    "avg_randomForest_1 = sum(accuracy_randomForest_1)/len(accuracy_randomForest_1)\n",
    "avg_logisticRegression_1 = sum(accuracy_logisticRegression_1)/len(accuracy_logisticRegression_1)\n",
    "avg_neuronalNet_1 = sum(accuracy_neuronalNet_1)/len(accuracy_neuronalNet_1)"
   ]
  },
  {
   "cell_type": "code",
   "execution_count": 39,
   "id": "d964294b-b46b-45f1-9cbf-ebd55703979c",
   "metadata": {},
   "outputs": [
    {
     "name": "stdout",
     "output_type": "stream",
     "text": [
      "KNeighbor: 0.8003913036871191\n",
      "Decision Tree: 0.7796211880788205\n",
      "Random Forest: 0.8068283511992161\n",
      "Logistic Regression: 0.8014531148037778\n",
      "Neuronal Net: 0.8262383685295592\n"
     ]
    }
   ],
   "source": [
    "print(f'KNeighbor: {avg_kNeigbor_1}')\n",
    "print(f'Decision Tree: {avg_decisionTree_1}')\n",
    "print(f'Random Forest: {avg_randomForest_1}')\n",
    "print(f'Logistic Regression: {avg_logisticRegression_1}')\n",
    "print(f'Neuronal Net: {avg_neuronalNet_1}')"
   ]
  },
  {
   "cell_type": "code",
   "execution_count": 40,
   "id": "249f9e40-863a-4238-a069-b2fd8da0495a",
   "metadata": {},
   "outputs": [
    {
     "data": {
      "image/png": "[encoded data removed]",
      "text/plain": [
       "<Figure size 1080x360 with 1 Axes>"
      ]
     },
     "metadata": {},
     "output_type": "display_data"
    }
   ],
   "source": [
    "# print average accuracy of each model\n",
    "plt.figure(figsize=(15,5))\n",
    "ax = plt.subplot()\n",
    "models = ['KNeigbor', 'Decision Tree', 'Random Forest', 'Logistic Regression', 'Neuronal Net']\n",
    "avg_accuracies_1 = [avg_kNeigbor_1, avg_decisionTree_1, avg_randomForest_1, avg_logisticRegression_1, avg_neuronalNet_1] \n",
    "\n",
    "ax.bar(models, avg_accuracies_1)\n",
    "\n",
    "ax.set_ylabel('Average Accuracy')\n",
    "ax.set_ylim(0.7,1)\n",
    "ax.set_title('Average Accurancy of the different models')\n",
    "\n",
    "plt.tight_layout()\n",
    "plt.show()"
   ]
  },
  {
   "cell_type": "markdown",
   "id": "5b201045-000e-43f6-b271-f0d3787669e9",
   "metadata": {},
   "source": [
    "## aproach 2"
   ]
  },
  {
   "cell_type": "code",
   "execution_count": 41,
   "id": "008bcd86-7f88-4f55-bbeb-dca9b4d69eaf",
   "metadata": {},
   "outputs": [],
   "source": [
    "# define arrays to save the accuracy of every step of k-fold cross validation\n",
    "accuracy_kNeighbor_2 = []\n",
    "accuracy_decisionTree_2 = []\n",
    "accuracy_randomForest_2 = []\n",
    "accuracy_logisticRegression_2 = []\n",
    "accuracy_neuronalNet_2 = []"
   ]
  },
  {
   "cell_type": "code",
   "execution_count": 42,
   "id": "bcddfa13-8c3f-4e2a-8b72-34e717ae3d14",
   "metadata": {},
   "outputs": [],
   "source": [
    "X = X.to_numpy()\n",
    "Y = Y.to_numpy()"
   ]
  },
  {
   "cell_type": "code",
   "execution_count": 43,
   "id": "28122bda-e602-4f35-accd-51d670338c04",
   "metadata": {},
   "outputs": [
    {
     "name": "stdout",
     "output_type": "stream",
     "text": [
      "K Nearest Neighbor: 0.7947141979102643\n",
      "Decision Tree: 0.7698217578365089\n",
      "Random Forest: 0.7821143208358943\n",
      "Logistic Regression: 0.7919483712354026\n",
      "Neuronales Net: 0.8113091579594346\n",
      "\n",
      "\n",
      "K Nearest Neighbor: 0.8063921327596804\n",
      "Decision Tree: 0.7907191149354641\n",
      "Random Forest: 0.806699446834665\n",
      "Logistic Regression: 0.8100799016594961\n",
      "Neuronales Net: 0.8211432083589428\n",
      "\n",
      "\n",
      "K Nearest Neighbor: 0.8060848186846957\n",
      "Decision Tree: 0.7885679164105716\n",
      "Random Forest: 0.809157959434542\n",
      "Logistic Regression: 0.803318992009834\n",
      "Neuronales Net: 0.826060233558697\n",
      "\n",
      "\n",
      "K Nearest Neighbor: 0.8017824216349109\n",
      "Decision Tree: 0.7851874615857406\n",
      "Random Forest: 0.8005531653349723\n",
      "Logistic Regression: 0.8073140749846343\n",
      "Neuronales Net: 0.8248309772587584\n",
      "\n",
      "\n",
      "K Nearest Neighbor: 0.8020897357098955\n",
      "Decision Tree: 0.7796558082360172\n",
      "Random Forest: 0.8039336201598033\n",
      "Logistic Regression: 0.8042409342347879\n",
      "Neuronales Net: 0.8229870928088506\n",
      "\n",
      "\n",
      "K Nearest Neighbor: 0.8011677934849416\n",
      "Decision Tree: 0.7842655193607867\n",
      "Random Forest: 0.7913337430854334\n",
      "Logistic Regression: 0.8020897357098955\n",
      "Neuronales Net: 0.826060233558697\n",
      "\n",
      "\n",
      "K Nearest Neighbor: 0.8076213890596189\n",
      "Decision Tree: 0.7876459741856177\n",
      "Random Forest: 0.797480024585126\n",
      "Logistic Regression: 0.8094652735095267\n",
      "Neuronales Net: 0.8380454824830977\n",
      "\n",
      "\n",
      "K Nearest Neighbor: 0.811558561328005\n",
      "Decision Tree: 0.804180756225023\n",
      "Random Forest: 0.811558561328005\n",
      "Logistic Regression: 0.8134030126037504\n",
      "Neuronales Net: 0.8373808791884414\n",
      "\n",
      "\n",
      "K Nearest Neighbor: 0.811558561328005\n",
      "Decision Tree: 0.7820473409160774\n",
      "Random Forest: 0.8094067015063019\n",
      "Logistic Regression: 0.8094067015063019\n",
      "Neuronales Net: 0.8281586228097141\n",
      "\n",
      "\n",
      "K Nearest Neighbor: 0.8072548416845988\n",
      "Decision Tree: 0.7829695665539502\n",
      "Random Forest: 0.8014140793114048\n",
      "Logistic Regression: 0.8127881955118352\n",
      "Neuronales Net: 0.8324623424531202\n",
      "\n",
      "\n"
     ]
    }
   ],
   "source": [
    "for train_index, test_index in kf.split(X):\n",
    "    \n",
    "        X_train, X_test = X[train_index], X[test_index]\n",
    "        Y_train, Y_test = Y[train_index], Y[test_index]\n",
    "        \n",
    "    #KNeighbor\n",
    "        kNeighbor = KNeighborsClassifier(n_neighbors=5)\n",
    "        #train random forest only on training data\n",
    "        kNeighbor = kNeighbor.fit(X_train, Y_train)\n",
    "        #test random forest with test data\n",
    "        kNeighbor_pred = kNeighbor.predict(X_test)\n",
    "        kNeighbor_accuracy = accuracy_score(Y_test, kNeighbor_pred)\n",
    "        print(f'K Nearest Neighbor: {kNeighbor_accuracy}')\n",
    "        accuracy_kNeighbor_2.append(kNeighbor_accuracy)\n",
    "        \n",
    "    #Decision Tree\n",
    "        decisionTree = DecisionTreeClassifier(random_state=0, criterion = 'entropy')\n",
    "        #train decision tree only on training data\n",
    "        decisionTree = decisionTree.fit(X_train, Y_train)\n",
    "        #test decision tree with test data\n",
    "        decisionTree_pred = decisionTree.predict(X_test)\n",
    "        decisionTree_accuracy = accuracy_score(Y_test, decisionTree_pred)\n",
    "        print(f'Decision Tree: {decisionTree_accuracy}')\n",
    "        accuracy_decisionTree_2.append(decisionTree_accuracy)\n",
    "        \n",
    "    #Random Forest\n",
    "        randomForest = RandomForestClassifier(max_depth=2, random_state=0)\n",
    "        #train random forest only on training data\n",
    "        randomForest = randomForest.fit(X_train, Y_train)\n",
    "        #test random forest with test data\n",
    "        randomForest_pred = randomForest.predict(X_test)\n",
    "        randomForest_accuracy = accuracy_score(Y_test, randomForest_pred)\n",
    "        print(f'Random Forest: {randomForest_accuracy}')\n",
    "        accuracy_randomForest_2.append(randomForest_accuracy)\n",
    "        \n",
    "    #Logistic Regression\n",
    "        logisticRegression = LogisticRegression(random_state=0, max_iter=500)\n",
    "        #train logistic regression only on training data\n",
    "        logisticRegression = logisticRegression.fit(X_train, Y_train)\n",
    "        #test random forest with test data\n",
    "        logisticRegression_pred = logisticRegression.predict(X_test)\n",
    "        logisticRegression_accuracy = accuracy_score(Y_test, logisticRegression_pred)\n",
    "        print(f'Logistic Regression: {logisticRegression_accuracy}')\n",
    "        accuracy_logisticRegression_2.append(logisticRegression_accuracy)\n",
    "        \n",
    "    #Neuronal Net\n",
    "        neuronalNet = MLPClassifier(random_state=1, max_iter=500).fit(X_train, Y_train)\n",
    "        neuronalNet_pred = neuronalNet.predict(X_test)\n",
    "        neuronalNet_accuracy = accuracy_score(Y_test, neuronalNet_pred)\n",
    "        print(f'Neuronales Net: {neuronalNet_accuracy}')\n",
    "        accuracy_neuronalNet_2.append(neuronalNet_accuracy)\n",
    "        print('\\n')"
   ]
  },
  {
   "cell_type": "code",
   "execution_count": 44,
   "id": "7e6de0d5-fdfa-4cb7-a73c-27bb72a9bc70",
   "metadata": {},
   "outputs": [
    {
     "data": {
      "image/png": "[encoded data removed]",
      "text/plain": [
       "<Figure size 1080x360 with 1 Axes>"
      ]
     },
     "metadata": {},
     "output_type": "display_data"
    }
   ],
   "source": [
    "# print accuracy of each kfold step\n",
    "plt.figure(figsize=(15,5))\n",
    "ax = plt.subplot()\n",
    "width = 0.1\n",
    "\n",
    "X_label = ['1', '2', '3', '4', '5', '6', '7', '8', '9', '10']\n",
    "_X = np.arange(len(X_label))\n",
    "\n",
    "ax.bar(_X, accuracy_kNeighbor_2, width, label='kNeighbor')\n",
    "ax.bar(_X + width, accuracy_decisionTree_2, width, label='decision tree')\n",
    "ax.bar(_X + (2*width), accuracy_randomForest_2, width, label='random Forest')\n",
    "ax.bar(_X + (3*width), accuracy_logisticRegression_2, width, label='logistic regression')\n",
    "ax.bar(_X + (4*width), accuracy_neuronalNet_2, width, label='neuronal net')\n",
    "\n",
    "ax.set_ylabel('Accuracy')\n",
    "ax.set_ylim(0.7,1)\n",
    "ax.set_xticks(_X + width + width/2)\n",
    "ax.set_xticklabels(X_label)\n",
    "ax.set_title('Accurancy of the different models in every kfold step')\n",
    "ax.legend()\n",
    "\n",
    "plt.tight_layout()\n",
    "\n",
    "plt.show()"
   ]
  },
  {
   "cell_type": "code",
   "execution_count": 45,
   "id": "e4eb765d-f80b-4821-b94b-a94e2888472d",
   "metadata": {},
   "outputs": [],
   "source": [
    "# calculate average accuracy\n",
    "avg_kNeigbor_2 = sum(accuracy_kNeighbor_2)/len(accuracy_kNeighbor_2)\n",
    "avg_decisionTree_2 = sum(accuracy_decisionTree_2)/len(accuracy_decisionTree_2)\n",
    "avg_randomForest_2 = sum(accuracy_randomForest_2)/len(accuracy_randomForest_2)\n",
    "avg_logisticRegression_2 = sum(accuracy_logisticRegression_2)/len(accuracy_logisticRegression_2)\n",
    "avg_neuronalNet_2 = sum(accuracy_neuronalNet_2)/len(accuracy_neuronalNet_2)"
   ]
  },
  {
   "cell_type": "code",
   "execution_count": 46,
   "id": "ff4551cd-5c62-4fa6-aaf8-83bfb0de10e0",
   "metadata": {},
   "outputs": [
    {
     "name": "stdout",
     "output_type": "stream",
     "text": [
      "KNeighbor: 0.8050224453584616\n",
      "Decision Tree: 0.7855061216245757\n",
      "Random Forest: 0.8013651622416148\n",
      "Logistic Regression: 0.8064055192965464\n",
      "Neuronal Net: 0.8268438230437754\n"
     ]
    }
   ],
   "source": [
    "print(f'KNeighbor: {avg_kNeigbor_2}')\n",
    "print(f'Decision Tree: {avg_decisionTree_2}')\n",
    "print(f'Random Forest: {avg_randomForest_2}')\n",
    "print(f'Logistic Regression: {avg_logisticRegression_2}')\n",
    "print(f'Neuronal Net: {avg_neuronalNet_2}')"
   ]
  },
  {
   "cell_type": "code",
   "execution_count": 47,
   "id": "663b29d4-0c6c-404c-81f3-610f03842208",
   "metadata": {},
   "outputs": [
    {
     "data": {
      "image/png": "[encoded data removed]",
      "text/plain": [
       "<Figure size 1080x360 with 1 Axes>"
      ]
     },
     "metadata": {},
     "output_type": "display_data"
    }
   ],
   "source": [
    "# print average accuracy of each model\n",
    "plt.figure(figsize=(15,5))\n",
    "ax = plt.subplot()\n",
    "models = ['KNeigbor', 'Decision Tree', 'Random Forest', 'Logistic Regression', 'Neuronal Net']\n",
    "avg_accuracies_2 = [avg_kNeigbor_2, avg_decisionTree_2, avg_randomForest_2, avg_logisticRegression_2, avg_neuronalNet_2] \n",
    "\n",
    "ax.bar(models, avg_accuracies_2)\n",
    "\n",
    "ax.set_ylabel('Average Accuracy')\n",
    "ax.set_ylim(0.7,1)\n",
    "ax.set_title('Average Accurancy of the diffrent models')\n",
    "\n",
    "plt.tight_layout()\n",
    "plt.show()"
   ]
  },
  {
   "cell_type": "markdown",
   "id": "33406909-371d-4e05-9ae0-354862cfcb07",
   "metadata": {},
   "source": [
    "# evaluation"
   ]
  },
  {
   "cell_type": "code",
   "execution_count": 48,
   "id": "23bc7625-2671-49d5-b762-10332c89e837",
   "metadata": {},
   "outputs": [
    {
     "data": {
      "image/png": "[encoded data removed]",
      "text/plain": [
       "<Figure size 720x360 with 1 Axes>"
      ]
     },
     "metadata": {},
     "output_type": "display_data"
    }
   ],
   "source": [
    "# print average accuracy of each approach\n",
    "plt.figure(figsize=(10,5))\n",
    "ax = plt.subplot()\n",
    "width = 0.1\n",
    "\n",
    "X_label = ['KNeigbor', 'Decision Tree', 'Random Forest', 'Logistic Regression', 'Neuronal Net']\n",
    "_X = np.arange(len(X_label))\n",
    "\n",
    "ax.bar(_X, avg_accuracies_1, width, label='approach 1')\n",
    "ax.bar(_X + width, avg_accuracies_2, width, label='approach 2')\n",
    "\n",
    "ax.set_ylabel('Average Accuracy')\n",
    "ax.set_ylim(0.7,1)\n",
    "ax.set_xticks(_X + width + width/2)\n",
    "ax.set_xticklabels(X_label)\n",
    "ax.set_title('Accuracy of the different models in the different approaches')\n",
    "ax.legend()\n",
    "\n",
    "plt.tight_layout()\n",
    "\n",
    "plt.show()"
   ]
  }
 ],
 "metadata": {
  "kernelspec": {
   "display_name": "Python 3",
   "language": "python",
   "name": "python3"
  },
  "language_info": {
   "codemirror_mode": {
    "name": "ipython",
    "version": 3
   },
   "file_extension": ".py",
   "mimetype": "text/x-python",
   "name": "python",
   "nbconvert_exporter": "python",
   "pygments_lexer": "ipython3",
   "version": "3.8.8"
  }
 },
 "nbformat": 4,
 "nbformat_minor": 5
}
