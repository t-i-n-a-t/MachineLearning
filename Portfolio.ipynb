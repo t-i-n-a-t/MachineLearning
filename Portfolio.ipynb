{
 "cells": [
  {
   "cell_type": "code",
   "execution_count": 1,
   "id": "66212b86-8e79-4cca-8811-5562c17beaf8",
   "metadata": {},
   "outputs": [],
   "source": [
    "#import necessary libraries\n",
    "import pandas as pd\n",
    "import numpy as np\n",
    "import matplotlib.pyplot as plt\n",
    "import seaborn as sns\n",
    "from sklearn.tree import DecisionTreeClassifier\n",
    "from sklearn import preprocessing\n",
    "from sklearn.preprocessing import LabelEncoder\n",
    "from sklearn.ensemble import RandomForestClassifier\n",
    "from sklearn.neural_network import MLPClassifier\n",
    "from sklearn.neighbors import KNeighborsClassifier\n",
    "from sklearn.linear_model import LogisticRegression\n",
    "from sklearn.metrics import accuracy_score\n",
    "from sklearn.model_selection import KFold\n",
    "\n",
    "# supress warning\n",
    "pd.options.mode.chained_assignment = None"
   ]
  },
  {
   "cell_type": "markdown",
   "id": "b800f93f-551e-4a9d-b5f6-9ac64b63a69d",
   "metadata": {},
   "source": [
    "# load data"
   ]
  },
  {
   "cell_type": "code",
   "execution_count": 2,
   "id": "bb61be5f-a55c-4733-9570-a4f383ae4d8a",
   "metadata": {},
   "outputs": [
    {
     "data": {
      "text/html": [
       "<div>\n",
       "<style scoped>\n",
       "    .dataframe tbody tr th:only-of-type {\n",
       "        vertical-align: middle;\n",
       "    }\n",
       "\n",
       "    .dataframe tbody tr th {\n",
       "        vertical-align: top;\n",
       "    }\n",
       "\n",
       "    .dataframe thead th {\n",
       "        text-align: right;\n",
       "    }\n",
       "</style>\n",
       "<table border=\"1\" class=\"dataframe\">\n",
       "  <thead>\n",
       "    <tr style=\"text-align: right;\">\n",
       "      <th></th>\n",
       "      <th>age</th>\n",
       "      <th>workclass</th>\n",
       "      <th>fnlwgt</th>\n",
       "      <th>education</th>\n",
       "      <th>education_num</th>\n",
       "      <th>marital_status</th>\n",
       "      <th>occupation</th>\n",
       "      <th>relationship</th>\n",
       "      <th>race</th>\n",
       "      <th>sex</th>\n",
       "      <th>capital_gain</th>\n",
       "      <th>capital_loss</th>\n",
       "      <th>hours_per_week</th>\n",
       "      <th>native_country</th>\n",
       "      <th>income</th>\n",
       "    </tr>\n",
       "  </thead>\n",
       "  <tbody>\n",
       "    <tr>\n",
       "      <th>0</th>\n",
       "      <td>39</td>\n",
       "      <td>State-gov</td>\n",
       "      <td>77516</td>\n",
       "      <td>Bachelors</td>\n",
       "      <td>13</td>\n",
       "      <td>Never-married</td>\n",
       "      <td>Adm-clerical</td>\n",
       "      <td>Not-in-family</td>\n",
       "      <td>White</td>\n",
       "      <td>Male</td>\n",
       "      <td>2174</td>\n",
       "      <td>0</td>\n",
       "      <td>40</td>\n",
       "      <td>United-States</td>\n",
       "      <td>&lt;=50K</td>\n",
       "    </tr>\n",
       "    <tr>\n",
       "      <th>1</th>\n",
       "      <td>50</td>\n",
       "      <td>Self-emp-not-inc</td>\n",
       "      <td>83311</td>\n",
       "      <td>Bachelors</td>\n",
       "      <td>13</td>\n",
       "      <td>Married-civ-spouse</td>\n",
       "      <td>Exec-managerial</td>\n",
       "      <td>Husband</td>\n",
       "      <td>White</td>\n",
       "      <td>Male</td>\n",
       "      <td>0</td>\n",
       "      <td>0</td>\n",
       "      <td>13</td>\n",
       "      <td>United-States</td>\n",
       "      <td>&lt;=50K</td>\n",
       "    </tr>\n",
       "  </tbody>\n",
       "</table>\n",
       "</div>"
      ],
      "text/plain": [
       "   age         workclass  fnlwgt  education  education_num  \\\n",
       "0   39         State-gov   77516  Bachelors             13   \n",
       "1   50  Self-emp-not-inc   83311  Bachelors             13   \n",
       "\n",
       "       marital_status       occupation   relationship   race   sex  \\\n",
       "0       Never-married     Adm-clerical  Not-in-family  White  Male   \n",
       "1  Married-civ-spouse  Exec-managerial        Husband  White  Male   \n",
       "\n",
       "   capital_gain  capital_loss  hours_per_week native_country income  \n",
       "0          2174             0              40  United-States  <=50K  \n",
       "1             0             0              13  United-States  <=50K  "
      ]
     },
     "execution_count": 2,
     "metadata": {},
     "output_type": "execute_result"
    }
   ],
   "source": [
    "# importing data and reading data from csv file\n",
    "# Values have spaces at the beginning --> remove them with skipinitialspace\n",
    "data = pd.read_csv('data/adult.csv', header = None, skipinitialspace = True)\n",
    "# set headers\n",
    "data.columns = ['age', 'workclass', \"fnlwgt\", \"education\", \"education_num\", \"marital_status\", \"occupation\", \"relationship\", \"race\", \"sex\", \"capital_gain\", \"capital_loss\", \"hours_per_week\", \"native_country\", \"income\" ]\n",
    "# show dataset\n",
    "data.head(2)"
   ]
  },
  {
   "cell_type": "markdown",
   "id": "f4ac072a-503c-4eb2-8e65-9392812b8b04",
   "metadata": {},
   "source": [
    "# describe dataset"
   ]
  },
  {
   "cell_type": "code",
   "execution_count": 47,
   "id": "ad10cab4-29d2-44ea-a5df-62ec38763e94",
   "metadata": {},
   "outputs": [
    {
     "data": {
      "text/plain": [
       "count    32537.000000\n",
       "mean        38.585549\n",
       "std         13.637984\n",
       "min         17.000000\n",
       "25%         28.000000\n",
       "50%         37.000000\n",
       "75%         48.000000\n",
       "max         90.000000\n",
       "Name: age, dtype: float64"
      ]
     },
     "execution_count": 47,
     "metadata": {},
     "output_type": "execute_result"
    }
   ],
   "source": [
    "# description of the dataset\n",
    "pd.set_option(\"max_colwidth\", None)\n",
    "desc = ['Describes the age of individuals.','Different types of employment (e.g. State-gov, Never-worked).','If two samples have the same(or similar) fnlwgt they have similar characteristics, demographically speaking. They are not standardized across different states.',\n",
    "       'Different types of academic degrees (e.g. Bachelor).','Number of years spent in education.','The distinct options that describe a person´s relationship with a significant other (e.g. Married).',\n",
    "        'A job or profession (e.g. Sales, Tech-support).','The way in which two or more people or groups regard and behave towards each other (e.g. Wife, Husband).','Race of the person (e.g. White, Black).','Gender of the person (Male or Female).','Is the profit one earns on the sale of an asset like stocks.',\n",
    "        'Loss incurred when a capital asset (e.g. a stock) decreases in value.','The time a person works per week.','Country of origin.','Annual salary.']\n",
    "data_details = pd.DataFrame(list(zip(data.columns, desc)), columns =['Column', 'Description'])\n",
    "data_details"
   ]
  },
  {
   "cell_type": "code",
   "execution_count": 4,
   "id": "eae074d3-fbab-4b96-bb3d-72dbf0fe4197",
   "metadata": {},
   "outputs": [
    {
     "data": {
      "text/plain": [
       "(32561, 15)"
      ]
     },
     "execution_count": 4,
     "metadata": {},
     "output_type": "execute_result"
    }
   ],
   "source": [
    "# 32561 rows, 15 columns\n",
    "data.shape"
   ]
  },
  {
   "cell_type": "code",
   "execution_count": 5,
   "id": "5b005c79-4283-4d6e-8208-affb120a849c",
   "metadata": {},
   "outputs": [
    {
     "data": {
      "text/plain": [
       "age               0\n",
       "workclass         0\n",
       "fnlwgt            0\n",
       "education         0\n",
       "education_num     0\n",
       "marital_status    0\n",
       "occupation        0\n",
       "relationship      0\n",
       "race              0\n",
       "sex               0\n",
       "capital_gain      0\n",
       "capital_loss      0\n",
       "hours_per_week    0\n",
       "native_country    0\n",
       "income            0\n",
       "dtype: int64"
      ]
     },
     "execution_count": 5,
     "metadata": {},
     "output_type": "execute_result"
    }
   ],
   "source": [
    "# Check for Null Data\n",
    "data.isna().sum()"
   ]
  },
  {
   "cell_type": "code",
   "execution_count": 6,
   "id": "2997a649-800b-40f1-ab3e-096929769b72",
   "metadata": {},
   "outputs": [
    {
     "data": {
      "text/plain": [
       "workclass         1836\n",
       "education            0\n",
       "marital_status       0\n",
       "occupation        1843\n",
       "relationship         0\n",
       "race                 0\n",
       "sex                  0\n",
       "native_country     583\n",
       "income               0\n",
       "dtype: int64"
      ]
     },
     "execution_count": 6,
     "metadata": {},
     "output_type": "execute_result"
    }
   ],
   "source": [
    "# dataset has no NaNs but a lot of ?\n",
    "data.select_dtypes(object).apply(lambda x: x.str.contains('?', regex=False)).sum()"
   ]
  },
  {
   "cell_type": "code",
   "execution_count": 7,
   "id": "2d0db84f-e1f4-4b01-8e67-b743501bb0a6",
   "metadata": {},
   "outputs": [
    {
     "data": {
      "text/plain": [
       "age                int64\n",
       "workclass         object\n",
       "fnlwgt             int64\n",
       "education         object\n",
       "education_num      int64\n",
       "marital_status    object\n",
       "occupation        object\n",
       "relationship      object\n",
       "race              object\n",
       "sex               object\n",
       "capital_gain       int64\n",
       "capital_loss       int64\n",
       "hours_per_week     int64\n",
       "native_country    object\n",
       "income            object\n",
       "dtype: object"
      ]
     },
     "execution_count": 7,
     "metadata": {},
     "output_type": "execute_result"
    }
   ],
   "source": [
    "# Get data types\n",
    "data.dtypes"
   ]
  },
  {
   "cell_type": "code",
   "execution_count": 8,
   "id": "5d2f8b76-28b2-4286-bdcf-fbe32862327e",
   "metadata": {},
   "outputs": [
    {
     "name": "stdout",
     "output_type": "stream",
     "text": [
      "Duplicated entries: 24\n"
     ]
    }
   ],
   "source": [
    "# show all duplicated entries of the dataset\n",
    "print('Duplicated entries:', data.duplicated().sum())"
   ]
  },
  {
   "cell_type": "markdown",
   "id": "d5ba75d6-1016-4292-bf48-3e44fd0d1cf9",
   "metadata": {},
   "source": [
    "## visualization"
   ]
  },
  {
   "cell_type": "code",
   "execution_count": 9,
   "id": "9e6a8a20-4d48-4f74-b60b-07314e838a65",
   "metadata": {},
   "outputs": [
    {
     "data": {
      "image/png": "[encoded data removed]",
      "text/plain": [
       "<Figure size 1080x360 with 1 Axes>"
      ]
     },
     "metadata": {},
     "output_type": "display_data"
    }
   ],
   "source": [
    "# visualization of the distribution of income\n",
    "sns.set_theme(style=\"darkgrid\")\n",
    "plt.figure(figsize=(15,5))\n",
    "sns.countplot(x=\"income\", data=data)\n",
    "plt.tight_layout()\n",
    "plt.title('visualization of the distribution of income')\n",
    "plt.show()"
   ]
  },
  {
   "cell_type": "code",
   "execution_count": 10,
   "id": "daebb82d-62da-4347-bfd8-84afd619798e",
   "metadata": {},
   "outputs": [
    {
     "data": {
      "image/png": "[encoded data removed]",
      "text/plain": [
       "<Figure size 1080x360 with 1 Axes>"
      ]
     },
     "metadata": {},
     "output_type": "display_data"
    }
   ],
   "source": [
    "# visualization of the distribution in income by gender\n",
    "plt.figure(figsize=(15,5))\n",
    "sns.countplot(x=\"sex\", hue='income', data=data)\n",
    "plt.title('visualization of the distribution in income by gender')\n",
    "plt.show()"
   ]
  },
  {
   "cell_type": "code",
   "execution_count": 11,
   "id": "692f23b7-b72b-4565-86a3-9ecb469e16f7",
   "metadata": {},
   "outputs": [],
   "source": [
    "#split age in different groups for visualization\n",
    "data_age = []\n",
    "def age_group(x):\n",
    "    x = int(x)\n",
    "    x = abs(x)\n",
    "    if( 18 < x < 31 ):\n",
    "        return \"19-30\"\n",
    "    if( 30 < x < 41 ):\n",
    "        return \"31-40\"\n",
    "    if( 40 < x < 51 ):\n",
    "        return \"41-50\"\n",
    "    if( 50 < x < 61 ):\n",
    "        return \"51-60\"\n",
    "    if( 60 < x < 71 ):\n",
    "        return \"61-70\"\n",
    "    else:\n",
    "        return \"Greater than 70\"\n",
    "\n",
    "data_age = data['age'].apply(age_group)"
   ]
  },
  {
   "cell_type": "code",
   "execution_count": 12,
   "id": "5f913680-1527-41a8-b31a-3e9ad4114445",
   "metadata": {},
   "outputs": [
    {
     "data": {
      "image/png": "[encoded data removed]",
      "text/plain": [
       "<Figure size 1080x360 with 1 Axes>"
      ]
     },
     "metadata": {},
     "output_type": "display_data"
    }
   ],
   "source": [
    "# visualization of the distribution in income by age group\n",
    "plt.figure(figsize=(15,5))\n",
    "order_list = ['19-30', '31-40', '41-50', '51-60', '61-70', 'Greater than 70']\n",
    "sns.countplot(x = data_age, hue = data['income'], order = order_list, data=data)\n",
    "plt.title('Income of Individuals of Different Age Groups')\n",
    "plt.show()"
   ]
  },
  {
   "cell_type": "code",
   "execution_count": 13,
   "id": "2f94fe6a-834d-44f8-868f-e70760a19b19",
   "metadata": {},
   "outputs": [
    {
     "data": {
      "image/png": "[encoded data removed]",
      "text/plain": [
       "<Figure size 1080x360 with 1 Axes>"
      ]
     },
     "metadata": {},
     "output_type": "display_data"
    }
   ],
   "source": [
    "# visualization of the distribution in income by education years\n",
    "plt.figure(figsize=(15,5))\n",
    "sns.countplot(x = 'education_num', hue = 'income', data = data)\n",
    "plt.tight_layout()\n",
    "plt.title('visualization of the distribution in income by education years')\n",
    "plt.show()"
   ]
  },
  {
   "cell_type": "code",
   "execution_count": 14,
   "id": "93ae8d15-6f3b-4702-9c7a-d582e92029ea",
   "metadata": {},
   "outputs": [
    {
     "data": {
      "image/png": "[encoded data removed]",
      "text/plain": [
       "<Figure size 1080x360 with 1 Axes>"
      ]
     },
     "metadata": {},
     "output_type": "display_data"
    }
   ],
   "source": [
    "# visualization of the distribution in income by workclass\n",
    "plt.figure(figsize=(15,5))\n",
    "sns.countplot(x = 'workclass', hue = 'income', data = data)\n",
    "plt.tight_layout()\n",
    "plt.title('visualization of the distribution in income by workclass')\n",
    "plt.show()"
   ]
  },
  {
   "cell_type": "code",
   "execution_count": 15,
   "id": "d68df570-69d2-43ff-980a-979389b5a082",
   "metadata": {},
   "outputs": [
    {
     "data": {
      "image/png": "[encoded data removed]",
      "text/plain": [
       "<Figure size 1080x360 with 1 Axes>"
      ]
     },
     "metadata": {},
     "output_type": "display_data"
    }
   ],
   "source": [
    "# visualization of the distribution in income by country\n",
    "plt.figure(figsize=(15,5))\n",
    "ax = sns.countplot(x = 'native_country', data = data)\n",
    "ax.set_xticklabels(ax.get_xticklabels(), rotation=40, ha=\"right\")\n",
    "plt.tight_layout()\n",
    "plt.title('visualization of the distribution in income by country')\n",
    "plt.show()"
   ]
  },
  {
   "cell_type": "code",
   "execution_count": 16,
   "id": "8426e21a-7316-43d3-800f-8425149e23a8",
   "metadata": {},
   "outputs": [
    {
     "data": {
      "image/png": "[encoded data removed]",
      "text/plain": [
       "<Figure size 1080x360 with 1 Axes>"
      ]
     },
     "metadata": {},
     "output_type": "display_data"
    }
   ],
   "source": [
    "# visualization of the distribution in income by race\n",
    "plt.figure(figsize=(15,5))\n",
    "ax = sns.countplot(x = 'race', hue = 'income', data = data)\n",
    "plt.tight_layout()\n",
    "plt.title('visualization of the distribution in income by race')\n",
    "plt.show()"
   ]
  },
  {
   "cell_type": "markdown",
   "id": "9d51b451-a33f-4e38-95d1-adc37e78b300",
   "metadata": {},
   "source": [
    "# preprocess data"
   ]
  },
  {
   "cell_type": "code",
   "execution_count": 17,
   "id": "e7469b5a-80bb-42a0-95d9-8ff1695ecdf5",
   "metadata": {},
   "outputs": [
    {
     "data": {
      "text/plain": [
       "age                  0\n",
       "workclass         1836\n",
       "fnlwgt               0\n",
       "education            0\n",
       "education_num        0\n",
       "marital_status       0\n",
       "occupation        1843\n",
       "relationship         0\n",
       "race                 0\n",
       "sex                  0\n",
       "capital_gain         0\n",
       "capital_loss         0\n",
       "hours_per_week       0\n",
       "native_country     583\n",
       "income               0\n",
       "dtype: int64"
      ]
     },
     "execution_count": 17,
     "metadata": {},
     "output_type": "execute_result"
    }
   ],
   "source": [
    "# replace ? with Nans\n",
    "data = data.replace('?', np.NaN )\n",
    "\n",
    "# Check again for null data\n",
    "data.isna().sum()"
   ]
  },
  {
   "cell_type": "code",
   "execution_count": 18,
   "id": "1dfabccb-9607-4e89-a71c-71850a06c078",
   "metadata": {},
   "outputs": [
    {
     "name": "stdout",
     "output_type": "stream",
     "text": [
      "Duplicated entries:  0\n"
     ]
    }
   ],
   "source": [
    "# remove 24 duplicates\n",
    "data = data.drop_duplicates()\n",
    "print('Duplicated entries: ', data.duplicated().sum())"
   ]
  },
  {
   "cell_type": "code",
   "execution_count": 19,
   "id": "d62ddbed-a40c-484b-9bcd-aaad29aba5f3",
   "metadata": {},
   "outputs": [
    {
     "name": "stdout",
     "output_type": "stream",
     "text": [
      "capital gain:  (119,)\n",
      "capital loss:  (92,)\n",
      "age                   0\n",
      "workclass             0\n",
      "fnlwgt                0\n",
      "education             0\n",
      "education_num         0\n",
      "marital_status        0\n",
      "occupation            0\n",
      "relationship          0\n",
      "race                  0\n",
      "sex                   0\n",
      "capital_gain      29825\n",
      "capital_loss      31018\n",
      "hours_per_week        0\n",
      "native_country        0\n",
      "income                0\n",
      "dtype: int64\n"
     ]
    }
   ],
   "source": [
    "# closer look at the attributes capital_gain and capital_loss\n",
    "print('capital gain: ', data.capital_gain.unique().shape)\n",
    "print ('capital loss: ', data.capital_loss.unique().shape)\n",
    "print (data.eq(0).sum())"
   ]
  },
  {
   "cell_type": "code",
   "execution_count": 20,
   "id": "7fb32dad-15e2-4917-98b5-819cd820e3c2",
   "metadata": {},
   "outputs": [
    {
     "data": {
      "text/plain": [
       "(32537, 11)"
      ]
     },
     "execution_count": 20,
     "metadata": {},
     "output_type": "execute_result"
    }
   ],
   "source": [
    "# dropping  columns\n",
    "# fnlwgt is removed as it has no predictive power since it is a feature aimed to allocate similar weights to people with similar demographic characteristics\n",
    "# capital gain and capital loss are mostly 0\n",
    "# education can be described by education-num \n",
    "data.drop(['fnlwgt', 'capital_gain', 'capital_loss', 'education'], axis=1, inplace=True)\n",
    "data.shape"
   ]
  },
  {
   "cell_type": "markdown",
   "id": "b76957f1-2cb7-48f9-95e3-b4a241222228",
   "metadata": {},
   "source": [
    "## approach 1: drop rows with na values"
   ]
  },
  {
   "cell_type": "code",
   "execution_count": 21,
   "id": "8649659b-dba0-461d-b827-7bb8fa2149eb",
   "metadata": {},
   "outputs": [
    {
     "name": "stdout",
     "output_type": "stream",
     "text": [
      "age               0\n",
      "workclass         0\n",
      "education_num     0\n",
      "marital_status    0\n",
      "occupation        0\n",
      "relationship      0\n",
      "race              0\n",
      "sex               0\n",
      "hours_per_week    0\n",
      "native_country    0\n",
      "income            0\n",
      "dtype: int64\n",
      "(30139, 11)\n"
     ]
    }
   ],
   "source": [
    "# drop Na-Values\n",
    "data_dropped = data.dropna(how='any')\n",
    "\n",
    "# reset index after dropping rows\n",
    "data_dropped = data_dropped.reset_index(drop=True)\n",
    "\n",
    "# overview of the current data_dropped\n",
    "print(data_dropped.isna().sum())\n",
    "print(data_dropped.shape)"
   ]
  },
  {
   "cell_type": "markdown",
   "id": "2978f183-df0b-4adc-824e-b15af961c87e",
   "metadata": {},
   "source": [
    "## approach 2: replace na values with respective mode"
   ]
  },
  {
   "cell_type": "code",
   "execution_count": 22,
   "id": "255b7dd2-12a0-4285-be40-bfa3f1da5fb6",
   "metadata": {},
   "outputs": [
    {
     "data": {
      "text/plain": [
       "age                  0\n",
       "workclass         1836\n",
       "education_num        0\n",
       "marital_status       0\n",
       "occupation        1843\n",
       "relationship         0\n",
       "race                 0\n",
       "sex                  0\n",
       "hours_per_week       0\n",
       "native_country     582\n",
       "income               0\n",
       "dtype: int64"
      ]
     },
     "execution_count": 22,
     "metadata": {},
     "output_type": "execute_result"
    }
   ],
   "source": [
    "data.isnull().sum(axis = 0)"
   ]
  },
  {
   "cell_type": "code",
   "execution_count": 23,
   "id": "719f6a33-952a-4326-bef7-62b9bc3a48bd",
   "metadata": {},
   "outputs": [
    {
     "name": "stdout",
     "output_type": "stream",
     "text": [
      "count              30694\n",
      "unique                14\n",
      "top       Prof-specialty\n",
      "freq                4136\n",
      "Name: occupation, dtype: object\n"
     ]
    }
   ],
   "source": [
    "# closer look at occupation\n",
    "print(data['occupation'].describe())\n",
    "data['occupation'] = data['occupation'].fillna('Prof-specialty')"
   ]
  },
  {
   "cell_type": "code",
   "execution_count": 24,
   "id": "33e0cab1-2aba-48f4-876a-a033547fc01c",
   "metadata": {},
   "outputs": [
    {
     "name": "stdout",
     "output_type": "stream",
     "text": [
      "count       30701\n",
      "unique          8\n",
      "top       Private\n",
      "freq        22673\n",
      "Name: workclass, dtype: object\n"
     ]
    }
   ],
   "source": [
    "# closer look at workclass\n",
    "print(data['workclass'].describe())\n",
    "data['workclass'] = data['workclass'].fillna('Private')"
   ]
  },
  {
   "cell_type": "code",
   "execution_count": 25,
   "id": "612afea6-74aa-49c1-9865-3e2425242824",
   "metadata": {},
   "outputs": [
    {
     "name": "stdout",
     "output_type": "stream",
     "text": [
      "count             31955\n",
      "unique               41\n",
      "top       United-States\n",
      "freq              29153\n",
      "Name: native_country, dtype: object\n"
     ]
    }
   ],
   "source": [
    "# closer look at native_country\n",
    "print(data['native_country'].describe())\n",
    "data['native_country'] = data['native_country'].fillna('United-States')"
   ]
  },
  {
   "cell_type": "code",
   "execution_count": 26,
   "id": "395c8b51-2a35-4993-8c94-66b3739ef737",
   "metadata": {},
   "outputs": [
    {
     "name": "stdout",
     "output_type": "stream",
     "text": [
      "(32537, 11)\n"
     ]
    }
   ],
   "source": [
    "# overview of the current data\n",
    "data.isna().sum()\n",
    "print(data.shape)"
   ]
  },
  {
   "cell_type": "markdown",
   "id": "4946f3b2-d342-4684-be63-22f4ed752655",
   "metadata": {},
   "source": [
    "## encoding approach 1"
   ]
  },
  {
   "cell_type": "code",
   "execution_count": 27,
   "id": "d2f53bc2-ddff-4faa-b9f2-ebfc4fdbd8f0",
   "metadata": {},
   "outputs": [
    {
     "data": {
      "text/html": [
       "<div>\n",
       "<style scoped>\n",
       "    .dataframe tbody tr th:only-of-type {\n",
       "        vertical-align: middle;\n",
       "    }\n",
       "\n",
       "    .dataframe tbody tr th {\n",
       "        vertical-align: top;\n",
       "    }\n",
       "\n",
       "    .dataframe thead th {\n",
       "        text-align: right;\n",
       "    }\n",
       "</style>\n",
       "<table border=\"1\" class=\"dataframe\">\n",
       "  <thead>\n",
       "    <tr style=\"text-align: right;\">\n",
       "      <th></th>\n",
       "      <th>age</th>\n",
       "      <th>workclass</th>\n",
       "      <th>education_num</th>\n",
       "      <th>marital_status</th>\n",
       "      <th>occupation</th>\n",
       "      <th>relationship</th>\n",
       "      <th>race</th>\n",
       "      <th>sex</th>\n",
       "      <th>hours_per_week</th>\n",
       "      <th>native_country</th>\n",
       "      <th>income</th>\n",
       "    </tr>\n",
       "  </thead>\n",
       "  <tbody>\n",
       "    <tr>\n",
       "      <th>0</th>\n",
       "      <td>39</td>\n",
       "      <td>5</td>\n",
       "      <td>13</td>\n",
       "      <td>4</td>\n",
       "      <td>0</td>\n",
       "      <td>1</td>\n",
       "      <td>4</td>\n",
       "      <td>1</td>\n",
       "      <td>40</td>\n",
       "      <td>38</td>\n",
       "      <td>0</td>\n",
       "    </tr>\n",
       "    <tr>\n",
       "      <th>1</th>\n",
       "      <td>50</td>\n",
       "      <td>4</td>\n",
       "      <td>13</td>\n",
       "      <td>2</td>\n",
       "      <td>3</td>\n",
       "      <td>0</td>\n",
       "      <td>4</td>\n",
       "      <td>1</td>\n",
       "      <td>13</td>\n",
       "      <td>38</td>\n",
       "      <td>0</td>\n",
       "    </tr>\n",
       "    <tr>\n",
       "      <th>2</th>\n",
       "      <td>38</td>\n",
       "      <td>2</td>\n",
       "      <td>9</td>\n",
       "      <td>0</td>\n",
       "      <td>5</td>\n",
       "      <td>1</td>\n",
       "      <td>4</td>\n",
       "      <td>1</td>\n",
       "      <td>40</td>\n",
       "      <td>38</td>\n",
       "      <td>0</td>\n",
       "    </tr>\n",
       "    <tr>\n",
       "      <th>3</th>\n",
       "      <td>53</td>\n",
       "      <td>2</td>\n",
       "      <td>7</td>\n",
       "      <td>2</td>\n",
       "      <td>5</td>\n",
       "      <td>0</td>\n",
       "      <td>2</td>\n",
       "      <td>1</td>\n",
       "      <td>40</td>\n",
       "      <td>38</td>\n",
       "      <td>0</td>\n",
       "    </tr>\n",
       "    <tr>\n",
       "      <th>4</th>\n",
       "      <td>28</td>\n",
       "      <td>2</td>\n",
       "      <td>13</td>\n",
       "      <td>2</td>\n",
       "      <td>9</td>\n",
       "      <td>5</td>\n",
       "      <td>2</td>\n",
       "      <td>0</td>\n",
       "      <td>40</td>\n",
       "      <td>4</td>\n",
       "      <td>0</td>\n",
       "    </tr>\n",
       "  </tbody>\n",
       "</table>\n",
       "</div>"
      ],
      "text/plain": [
       "   age  workclass  education_num  marital_status  occupation  relationship  \\\n",
       "0   39          5             13               4           0             1   \n",
       "1   50          4             13               2           3             0   \n",
       "2   38          2              9               0           5             1   \n",
       "3   53          2              7               2           5             0   \n",
       "4   28          2             13               2           9             5   \n",
       "\n",
       "   race  sex  hours_per_week  native_country  income  \n",
       "0     4    1              40              38       0  \n",
       "1     4    1              13              38       0  \n",
       "2     4    1              40              38       0  \n",
       "3     2    1              40              38       0  \n",
       "4     2    0              40               4       0  "
      ]
     },
     "execution_count": 27,
     "metadata": {},
     "output_type": "execute_result"
    }
   ],
   "source": [
    "# encoding income, workclass, occupation, relationship, race, sex, native_country and marital_status\n",
    "encoder_income = LabelEncoder()\n",
    "data_dropped['income'] = encoder_income.fit_transform(data_dropped['income'])\n",
    "\n",
    "encoder_worklass = LabelEncoder()\n",
    "data_dropped['workclass'] = encoder_worklass.fit_transform(data_dropped['workclass'])\n",
    "\n",
    "encoder_occupation = LabelEncoder()\n",
    "data_dropped['occupation'] = encoder_occupation.fit_transform(data_dropped['occupation'])\n",
    "\n",
    "encoder_relationship = LabelEncoder()\n",
    "data_dropped['relationship'] = encoder_relationship.fit_transform(data_dropped['relationship'])\n",
    "\n",
    "encoder_race = LabelEncoder()\n",
    "data_dropped['race'] = encoder_race.fit_transform(data_dropped['race'])\n",
    "\n",
    "encoder_sex = LabelEncoder()\n",
    "data_dropped['sex'] = encoder_sex.fit_transform(data_dropped['sex'])\n",
    "\n",
    "encoder_nativecountry  = LabelEncoder()\n",
    "data_dropped['native_country'] = encoder_nativecountry.fit_transform(data_dropped['native_country'])\n",
    "\n",
    "encoder_maritalstatus  = LabelEncoder()\n",
    "data_dropped['marital_status'] = encoder_maritalstatus.fit_transform(data_dropped['marital_status'])\n",
    "\n",
    "data_dropped.head()"
   ]
  },
  {
   "cell_type": "code",
   "execution_count": 28,
   "id": "763ec06f-4fce-430a-b05a-7507ddc5530b",
   "metadata": {},
   "outputs": [
    {
     "name": "stdout",
     "output_type": "stream",
     "text": [
      "0        0\n",
      "1        0\n",
      "2        0\n",
      "3        0\n",
      "4        0\n",
      "        ..\n",
      "30134    0\n",
      "30135    1\n",
      "30136    0\n",
      "30137    0\n",
      "30138    1\n",
      "Name: income, Length: 30139, dtype: int32\n"
     ]
    },
    {
     "data": {
      "text/html": [
       "<div>\n",
       "<style scoped>\n",
       "    .dataframe tbody tr th:only-of-type {\n",
       "        vertical-align: middle;\n",
       "    }\n",
       "\n",
       "    .dataframe tbody tr th {\n",
       "        vertical-align: top;\n",
       "    }\n",
       "\n",
       "    .dataframe thead th {\n",
       "        text-align: right;\n",
       "    }\n",
       "</style>\n",
       "<table border=\"1\" class=\"dataframe\">\n",
       "  <thead>\n",
       "    <tr style=\"text-align: right;\">\n",
       "      <th></th>\n",
       "      <th>age</th>\n",
       "      <th>workclass</th>\n",
       "      <th>education_num</th>\n",
       "      <th>marital_status</th>\n",
       "      <th>occupation</th>\n",
       "      <th>relationship</th>\n",
       "      <th>race</th>\n",
       "      <th>sex</th>\n",
       "      <th>hours_per_week</th>\n",
       "      <th>native_country</th>\n",
       "    </tr>\n",
       "  </thead>\n",
       "  <tbody>\n",
       "    <tr>\n",
       "      <th>0</th>\n",
       "      <td>39</td>\n",
       "      <td>5</td>\n",
       "      <td>13</td>\n",
       "      <td>4</td>\n",
       "      <td>0</td>\n",
       "      <td>1</td>\n",
       "      <td>4</td>\n",
       "      <td>1</td>\n",
       "      <td>40</td>\n",
       "      <td>38</td>\n",
       "    </tr>\n",
       "    <tr>\n",
       "      <th>1</th>\n",
       "      <td>50</td>\n",
       "      <td>4</td>\n",
       "      <td>13</td>\n",
       "      <td>2</td>\n",
       "      <td>3</td>\n",
       "      <td>0</td>\n",
       "      <td>4</td>\n",
       "      <td>1</td>\n",
       "      <td>13</td>\n",
       "      <td>38</td>\n",
       "    </tr>\n",
       "    <tr>\n",
       "      <th>2</th>\n",
       "      <td>38</td>\n",
       "      <td>2</td>\n",
       "      <td>9</td>\n",
       "      <td>0</td>\n",
       "      <td>5</td>\n",
       "      <td>1</td>\n",
       "      <td>4</td>\n",
       "      <td>1</td>\n",
       "      <td>40</td>\n",
       "      <td>38</td>\n",
       "    </tr>\n",
       "    <tr>\n",
       "      <th>3</th>\n",
       "      <td>53</td>\n",
       "      <td>2</td>\n",
       "      <td>7</td>\n",
       "      <td>2</td>\n",
       "      <td>5</td>\n",
       "      <td>0</td>\n",
       "      <td>2</td>\n",
       "      <td>1</td>\n",
       "      <td>40</td>\n",
       "      <td>38</td>\n",
       "    </tr>\n",
       "    <tr>\n",
       "      <th>4</th>\n",
       "      <td>28</td>\n",
       "      <td>2</td>\n",
       "      <td>13</td>\n",
       "      <td>2</td>\n",
       "      <td>9</td>\n",
       "      <td>5</td>\n",
       "      <td>2</td>\n",
       "      <td>0</td>\n",
       "      <td>40</td>\n",
       "      <td>4</td>\n",
       "    </tr>\n",
       "  </tbody>\n",
       "</table>\n",
       "</div>"
      ],
      "text/plain": [
       "   age  workclass  education_num  marital_status  occupation  relationship  \\\n",
       "0   39          5             13               4           0             1   \n",
       "1   50          4             13               2           3             0   \n",
       "2   38          2              9               0           5             1   \n",
       "3   53          2              7               2           5             0   \n",
       "4   28          2             13               2           9             5   \n",
       "\n",
       "   race  sex  hours_per_week  native_country  \n",
       "0     4    1              40              38  \n",
       "1     4    1              13              38  \n",
       "2     4    1              40              38  \n",
       "3     2    1              40              38  \n",
       "4     2    0              40               4  "
      ]
     },
     "execution_count": 28,
     "metadata": {},
     "output_type": "execute_result"
    }
   ],
   "source": [
    "# splitting dataset into features and outcome\n",
    "X_dropped = data_dropped.drop(['income'], axis=1)\n",
    "Y_dropped = data_dropped['income']\n",
    "\n",
    "print(Y_dropped)\n",
    "X_dropped.head()"
   ]
  },
  {
   "cell_type": "markdown",
   "id": "418821f2-c722-4cb7-8fa7-acd18edb7c01",
   "metadata": {},
   "source": [
    "## encoding approach 2"
   ]
  },
  {
   "cell_type": "code",
   "execution_count": 29,
   "id": "666e0191-61c1-47e5-8a3a-8f90e1721ea4",
   "metadata": {},
   "outputs": [
    {
     "data": {
      "text/html": [
       "<div>\n",
       "<style scoped>\n",
       "    .dataframe tbody tr th:only-of-type {\n",
       "        vertical-align: middle;\n",
       "    }\n",
       "\n",
       "    .dataframe tbody tr th {\n",
       "        vertical-align: top;\n",
       "    }\n",
       "\n",
       "    .dataframe thead th {\n",
       "        text-align: right;\n",
       "    }\n",
       "</style>\n",
       "<table border=\"1\" class=\"dataframe\">\n",
       "  <thead>\n",
       "    <tr style=\"text-align: right;\">\n",
       "      <th></th>\n",
       "      <th>age</th>\n",
       "      <th>workclass</th>\n",
       "      <th>education_num</th>\n",
       "      <th>marital_status</th>\n",
       "      <th>occupation</th>\n",
       "      <th>relationship</th>\n",
       "      <th>race</th>\n",
       "      <th>sex</th>\n",
       "      <th>hours_per_week</th>\n",
       "      <th>native_country</th>\n",
       "      <th>income</th>\n",
       "    </tr>\n",
       "  </thead>\n",
       "  <tbody>\n",
       "    <tr>\n",
       "      <th>0</th>\n",
       "      <td>39</td>\n",
       "      <td>6</td>\n",
       "      <td>13</td>\n",
       "      <td>4</td>\n",
       "      <td>0</td>\n",
       "      <td>1</td>\n",
       "      <td>4</td>\n",
       "      <td>1</td>\n",
       "      <td>40</td>\n",
       "      <td>38</td>\n",
       "      <td>0</td>\n",
       "    </tr>\n",
       "    <tr>\n",
       "      <th>1</th>\n",
       "      <td>50</td>\n",
       "      <td>5</td>\n",
       "      <td>13</td>\n",
       "      <td>2</td>\n",
       "      <td>3</td>\n",
       "      <td>0</td>\n",
       "      <td>4</td>\n",
       "      <td>1</td>\n",
       "      <td>13</td>\n",
       "      <td>38</td>\n",
       "      <td>0</td>\n",
       "    </tr>\n",
       "    <tr>\n",
       "      <th>2</th>\n",
       "      <td>38</td>\n",
       "      <td>3</td>\n",
       "      <td>9</td>\n",
       "      <td>0</td>\n",
       "      <td>5</td>\n",
       "      <td>1</td>\n",
       "      <td>4</td>\n",
       "      <td>1</td>\n",
       "      <td>40</td>\n",
       "      <td>38</td>\n",
       "      <td>0</td>\n",
       "    </tr>\n",
       "    <tr>\n",
       "      <th>3</th>\n",
       "      <td>53</td>\n",
       "      <td>3</td>\n",
       "      <td>7</td>\n",
       "      <td>2</td>\n",
       "      <td>5</td>\n",
       "      <td>0</td>\n",
       "      <td>2</td>\n",
       "      <td>1</td>\n",
       "      <td>40</td>\n",
       "      <td>38</td>\n",
       "      <td>0</td>\n",
       "    </tr>\n",
       "    <tr>\n",
       "      <th>4</th>\n",
       "      <td>28</td>\n",
       "      <td>3</td>\n",
       "      <td>13</td>\n",
       "      <td>2</td>\n",
       "      <td>9</td>\n",
       "      <td>5</td>\n",
       "      <td>2</td>\n",
       "      <td>0</td>\n",
       "      <td>40</td>\n",
       "      <td>4</td>\n",
       "      <td>0</td>\n",
       "    </tr>\n",
       "  </tbody>\n",
       "</table>\n",
       "</div>"
      ],
      "text/plain": [
       "   age  workclass  education_num  marital_status  occupation  relationship  \\\n",
       "0   39          6             13               4           0             1   \n",
       "1   50          5             13               2           3             0   \n",
       "2   38          3              9               0           5             1   \n",
       "3   53          3              7               2           5             0   \n",
       "4   28          3             13               2           9             5   \n",
       "\n",
       "   race  sex  hours_per_week  native_country  income  \n",
       "0     4    1              40              38       0  \n",
       "1     4    1              13              38       0  \n",
       "2     4    1              40              38       0  \n",
       "3     2    1              40              38       0  \n",
       "4     2    0              40               4       0  "
      ]
     },
     "execution_count": 29,
     "metadata": {},
     "output_type": "execute_result"
    }
   ],
   "source": [
    "# encoding income, workclass, occupation, relationship, race, sex, native_country and marital_status\n",
    "encoder_income = LabelEncoder()\n",
    "data['income'] = encoder_income.fit_transform(data['income'])\n",
    "\n",
    "encoder_worklass = LabelEncoder()\n",
    "data['workclass'] = encoder_worklass.fit_transform(data['workclass'])\n",
    "\n",
    "encoder_occupation = LabelEncoder()\n",
    "data['occupation'] = encoder_occupation.fit_transform(data['occupation'])\n",
    "\n",
    "encoder_relationship = LabelEncoder()\n",
    "data['relationship'] = encoder_relationship.fit_transform(data['relationship'])\n",
    "\n",
    "encoder_race = LabelEncoder()\n",
    "data['race'] = encoder_race.fit_transform(data['race'])\n",
    "\n",
    "encoder_sex = LabelEncoder()\n",
    "data['sex'] = encoder_sex.fit_transform(data['sex'])\n",
    "\n",
    "encoder_nativecountry  = LabelEncoder()\n",
    "data['native_country'] = encoder_nativecountry.fit_transform(data['native_country'])\n",
    "\n",
    "encoder_maritalstatus  = LabelEncoder()\n",
    "data['marital_status'] = encoder_maritalstatus.fit_transform(data['marital_status'])\n",
    "\n",
    "data.head()"
   ]
  },
  {
   "cell_type": "code",
   "execution_count": 30,
   "id": "35b3afcf-7c92-4aed-a609-5cb85bf65974",
   "metadata": {},
   "outputs": [
    {
     "name": "stdout",
     "output_type": "stream",
     "text": [
      "0        0\n",
      "1        0\n",
      "2        0\n",
      "3        0\n",
      "4        0\n",
      "        ..\n",
      "32556    0\n",
      "32557    1\n",
      "32558    0\n",
      "32559    0\n",
      "32560    1\n",
      "Name: income, Length: 32537, dtype: int32\n"
     ]
    },
    {
     "data": {
      "text/html": [
       "<div>\n",
       "<style scoped>\n",
       "    .dataframe tbody tr th:only-of-type {\n",
       "        vertical-align: middle;\n",
       "    }\n",
       "\n",
       "    .dataframe tbody tr th {\n",
       "        vertical-align: top;\n",
       "    }\n",
       "\n",
       "    .dataframe thead th {\n",
       "        text-align: right;\n",
       "    }\n",
       "</style>\n",
       "<table border=\"1\" class=\"dataframe\">\n",
       "  <thead>\n",
       "    <tr style=\"text-align: right;\">\n",
       "      <th></th>\n",
       "      <th>age</th>\n",
       "      <th>workclass</th>\n",
       "      <th>education_num</th>\n",
       "      <th>marital_status</th>\n",
       "      <th>occupation</th>\n",
       "      <th>relationship</th>\n",
       "      <th>race</th>\n",
       "      <th>sex</th>\n",
       "      <th>hours_per_week</th>\n",
       "      <th>native_country</th>\n",
       "    </tr>\n",
       "  </thead>\n",
       "  <tbody>\n",
       "    <tr>\n",
       "      <th>0</th>\n",
       "      <td>39</td>\n",
       "      <td>6</td>\n",
       "      <td>13</td>\n",
       "      <td>4</td>\n",
       "      <td>0</td>\n",
       "      <td>1</td>\n",
       "      <td>4</td>\n",
       "      <td>1</td>\n",
       "      <td>40</td>\n",
       "      <td>38</td>\n",
       "    </tr>\n",
       "    <tr>\n",
       "      <th>1</th>\n",
       "      <td>50</td>\n",
       "      <td>5</td>\n",
       "      <td>13</td>\n",
       "      <td>2</td>\n",
       "      <td>3</td>\n",
       "      <td>0</td>\n",
       "      <td>4</td>\n",
       "      <td>1</td>\n",
       "      <td>13</td>\n",
       "      <td>38</td>\n",
       "    </tr>\n",
       "    <tr>\n",
       "      <th>2</th>\n",
       "      <td>38</td>\n",
       "      <td>3</td>\n",
       "      <td>9</td>\n",
       "      <td>0</td>\n",
       "      <td>5</td>\n",
       "      <td>1</td>\n",
       "      <td>4</td>\n",
       "      <td>1</td>\n",
       "      <td>40</td>\n",
       "      <td>38</td>\n",
       "    </tr>\n",
       "    <tr>\n",
       "      <th>3</th>\n",
       "      <td>53</td>\n",
       "      <td>3</td>\n",
       "      <td>7</td>\n",
       "      <td>2</td>\n",
       "      <td>5</td>\n",
       "      <td>0</td>\n",
       "      <td>2</td>\n",
       "      <td>1</td>\n",
       "      <td>40</td>\n",
       "      <td>38</td>\n",
       "    </tr>\n",
       "    <tr>\n",
       "      <th>4</th>\n",
       "      <td>28</td>\n",
       "      <td>3</td>\n",
       "      <td>13</td>\n",
       "      <td>2</td>\n",
       "      <td>9</td>\n",
       "      <td>5</td>\n",
       "      <td>2</td>\n",
       "      <td>0</td>\n",
       "      <td>40</td>\n",
       "      <td>4</td>\n",
       "    </tr>\n",
       "  </tbody>\n",
       "</table>\n",
       "</div>"
      ],
      "text/plain": [
       "   age  workclass  education_num  marital_status  occupation  relationship  \\\n",
       "0   39          6             13               4           0             1   \n",
       "1   50          5             13               2           3             0   \n",
       "2   38          3              9               0           5             1   \n",
       "3   53          3              7               2           5             0   \n",
       "4   28          3             13               2           9             5   \n",
       "\n",
       "   race  sex  hours_per_week  native_country  \n",
       "0     4    1              40              38  \n",
       "1     4    1              13              38  \n",
       "2     4    1              40              38  \n",
       "3     2    1              40              38  \n",
       "4     2    0              40               4  "
      ]
     },
     "execution_count": 30,
     "metadata": {},
     "output_type": "execute_result"
    }
   ],
   "source": [
    "# splitting dataset into features and outcome\n",
    "X = data.drop(['income'], axis=1)\n",
    "Y = data['income']\n",
    "\n",
    "print(Y)\n",
    "X.head()"
   ]
  },
  {
   "cell_type": "markdown",
   "id": "bb18a62a-f5ef-41fc-8e5b-ab9654f2ce6a",
   "metadata": {},
   "source": [
    "# learn/fit data "
   ]
  },
  {
   "cell_type": "code",
   "execution_count": 31,
   "id": "2d10cef0-b453-4d29-95ac-d23322c8c4d5",
   "metadata": {},
   "outputs": [],
   "source": [
    "# set k-fold properties\n",
    "kf = KFold(n_splits=10, shuffle=True)"
   ]
  },
  {
   "cell_type": "markdown",
   "id": "83ce9f1b-90b8-4663-abc0-0d765f258773",
   "metadata": {},
   "source": [
    "## approach 1"
   ]
  },
  {
   "cell_type": "code",
   "execution_count": 32,
   "id": "cb57b8ab-24f4-48d5-8c78-bb32a56844d1",
   "metadata": {},
   "outputs": [],
   "source": [
    "# define arrays to save the accuracy of every step of k-fold cross validation\n",
    "accuracy_kNeighbor_1 = []\n",
    "accuracy_decisionTree_1 = []\n",
    "accuracy_randomForest_1 = []\n",
    "accuracy_logisticRegression_1 = []\n",
    "accuracy_neuronalNet_1 = []"
   ]
  },
  {
   "cell_type": "code",
   "execution_count": 33,
   "id": "b19fbe07-1364-41b3-b817-0a5c3c80189e",
   "metadata": {},
   "outputs": [],
   "source": [
    "# convert the DataFrames to a NumPy array\n",
    "X_dropped = X_dropped.to_numpy()\n",
    "Y_dropped = Y_dropped.to_numpy()"
   ]
  },
  {
   "cell_type": "code",
   "execution_count": 34,
   "id": "b7919eba-f54c-4c28-aed1-ee9db7bff854",
   "metadata": {},
   "outputs": [
    {
     "name": "stdout",
     "output_type": "stream",
     "text": [
      "K Nearest Neighbor: 0.7896483078964831\n",
      "Decision Tree: 0.7607830126078301\n",
      "Random Forest: 0.8015925680159257\n",
      "Logistic Regression: 0.7926343729263438\n",
      "Neuronales Net: 0.7916390179163901\n",
      "\n",
      "\n",
      "K Nearest Neighbor: 0.787657597876576\n",
      "Decision Tree: 0.7843397478433974\n",
      "Random Forest: 0.8035832780358327\n",
      "Logistic Regression: 0.7952886529528865\n",
      "Neuronales Net: 0.822826808228268\n",
      "\n",
      "\n",
      "K Nearest Neighbor: 0.8098871930988719\n",
      "Decision Tree: 0.7946250829462508\n",
      "Random Forest: 0.809555408095554\n",
      "Logistic Regression: 0.8055739880557399\n",
      "Neuronales Net: 0.829794293297943\n",
      "\n",
      "\n",
      "K Nearest Neighbor: 0.8005972130059721\n",
      "Decision Tree: 0.7813536828135368\n",
      "Random Forest: 0.8148639681486397\n",
      "Logistic Regression: 0.8135368281353683\n",
      "Neuronales Net: 0.8301260783012607\n",
      "\n",
      "\n",
      "K Nearest Neighbor: 0.791970802919708\n",
      "Decision Tree: 0.7770404777704047\n",
      "Random Forest: 0.7976111479761114\n",
      "Logistic Regression: 0.7992700729927007\n",
      "Neuronales Net: 0.8205043132050431\n",
      "\n",
      "\n",
      "K Nearest Neighbor: 0.8049104180491041\n",
      "Decision Tree: 0.791970802919708\n",
      "Random Forest: 0.8045786330457864\n",
      "Logistic Regression: 0.8015925680159257\n",
      "Neuronales Net: 0.814200398142004\n",
      "\n",
      "\n",
      "K Nearest Neighbor: 0.8035832780358327\n",
      "Decision Tree: 0.781021897810219\n",
      "Random Forest: 0.8088918380889184\n",
      "Logistic Regression: 0.8005972130059721\n",
      "Neuronales Net: 0.8148639681486397\n",
      "\n",
      "\n",
      "K Nearest Neighbor: 0.7972793629727937\n",
      "Decision Tree: 0.7690776376907764\n",
      "Random Forest: 0.8078964830789648\n",
      "Logistic Regression: 0.8025879230258792\n",
      "Neuronales Net: 0.829794293297943\n",
      "\n",
      "\n",
      "K Nearest Neighbor: 0.8065693430656934\n",
      "Decision Tree: 0.7856668878566688\n",
      "Random Forest: 0.8045786330457864\n",
      "Logistic Regression: 0.8135368281353683\n",
      "Neuronales Net: 0.8414067684140677\n",
      "\n",
      "\n",
      "K Nearest Neighbor: 0.7919017590441421\n",
      "Decision Tree: 0.7776302688350482\n",
      "Random Forest: 0.8068370394955194\n",
      "Logistic Regression: 0.7932293395287089\n",
      "Neuronales Net: 0.8267507467640226\n",
      "\n",
      "\n"
     ]
    }
   ],
   "source": [
    "# perform k-fold cross validation\n",
    "for train_index, test_index in kf.split(X_dropped):\n",
    "    \n",
    "        X_train, X_test = X_dropped[train_index], X_dropped[test_index]\n",
    "        Y_train, Y_test = Y_dropped[train_index], Y_dropped[test_index]\n",
    "        \n",
    "    # k-Nearest Neighbors\n",
    "        kNeighbor = KNeighborsClassifier(n_neighbors=5)\n",
    "        # train random forest only on training data\n",
    "        kNeighbor = kNeighbor.fit(X_train, Y_train)\n",
    "        # test random forest with test data\n",
    "        kNeighbor_pred = kNeighbor.predict(X_test)\n",
    "        kNeighbor_accuracy = accuracy_score(Y_test, kNeighbor_pred)\n",
    "        print(f'K Nearest Neighbor: {kNeighbor_accuracy}')\n",
    "        accuracy_kNeighbor_1.append(kNeighbor_accuracy)\n",
    "        \n",
    "    # Decision Tree\n",
    "        decisionTree = DecisionTreeClassifier(random_state=0, criterion = 'entropy')\n",
    "        # train decision tree only on training data\n",
    "        decisionTree = decisionTree.fit(X_train, Y_train)\n",
    "        # test decision tree with test data\n",
    "        decisionTree_pred = decisionTree.predict(X_test)\n",
    "        decisionTree_accuracy = accuracy_score(Y_test, decisionTree_pred)\n",
    "        print(f'Decision Tree: {decisionTree_accuracy}')\n",
    "        accuracy_decisionTree_1.append(decisionTree_accuracy)\n",
    "        \n",
    "    # Random Forest\n",
    "        randomForest = RandomForestClassifier(max_depth=2, random_state=0)\n",
    "        # train random forest only on training data\n",
    "        randomForest = randomForest.fit(X_train, Y_train)\n",
    "        # test random forest with test data\n",
    "        randomForest_pred = randomForest.predict(X_test)\n",
    "        randomForest_accuracy = accuracy_score(Y_test, randomForest_pred)\n",
    "        print(f'Random Forest: {randomForest_accuracy}')\n",
    "        accuracy_randomForest_1.append(randomForest_accuracy)\n",
    "        \n",
    "    # Logistic Regression\n",
    "        logisticRegression = LogisticRegression(random_state=0, max_iter=500)\n",
    "        # train logistic regression only on training data\n",
    "        logisticRegression = logisticRegression.fit(X_train, Y_train)\n",
    "        # test logistic regression with test data\n",
    "        logisticRegression_pred = logisticRegression.predict(X_test)\n",
    "        logisticRegression_accuracy = accuracy_score(Y_test, logisticRegression_pred)\n",
    "        print(f'Logistic Regression: {logisticRegression_accuracy}')\n",
    "        accuracy_logisticRegression_1.append(logisticRegression_accuracy)\n",
    "        \n",
    "    # Neuronal Net\n",
    "        neuronalNet = MLPClassifier(random_state=1, max_iter=500).fit(X_train, Y_train)\n",
    "        neuronalNet_pred = neuronalNet.predict(X_test)\n",
    "        neuronalNet_accuracy = accuracy_score(Y_test, neuronalNet_pred)\n",
    "        print(f'Neuronal Net: {neuronalNet_accuracy}')\n",
    "        accuracy_neuronalNet_1.append(neuronalNet_accuracy)\n",
    "        print('\\n')"
   ]
  },
  {
   "cell_type": "code",
   "execution_count": 35,
   "id": "3be73e6f-9ca6-4751-963b-8d9b9dd5cd17",
   "metadata": {},
   "outputs": [
    {
     "data": {
      "image/png": "[encoded data removed]",
      "text/plain": [
       "<Figure size 1080x360 with 1 Axes>"
      ]
     },
     "metadata": {},
     "output_type": "display_data"
    }
   ],
   "source": [
    "# print accuracy of each k-fold step\n",
    "plt.figure(figsize=(15,5))\n",
    "ax = plt.subplot()\n",
    "width = 0.1\n",
    "\n",
    "X_label = ['1', '2', '3', '4', '5', '6', '7', '8', '9', '10']\n",
    "_X = np.arange(len(X_label))\n",
    "\n",
    "ax.bar(_X, accuracy_kNeighbor_1, width, label='kNeighbor')\n",
    "ax.bar(_X + width, accuracy_decisionTree_1, width, label='decision tree')\n",
    "ax.bar(_X + (2*width), accuracy_randomForest_1, width, label='random Forest')\n",
    "ax.bar(_X + (3*width), accuracy_logisticRegression_1, width, label='logistic regression')\n",
    "ax.bar(_X + (4*width), accuracy_neuronalNet_1, width, label='neuronal net')\n",
    "\n",
    "ax.set_ylabel('Accuracy')\n",
    "ax.set_ylim(0.7,1)\n",
    "ax.set_xticks(_X + width + width/2)\n",
    "ax.set_xticklabels(X_label)\n",
    "ax.set_title('Accuracy of the diffrent models in every k-fold step')\n",
    "ax.legend()\n",
    "\n",
    "plt.tight_layout()\n",
    "\n",
    "plt.show()"
   ]
  },
  {
   "cell_type": "code",
   "execution_count": 36,
   "id": "2e64566d-d245-4003-9cf7-34732ddf2027",
   "metadata": {},
   "outputs": [],
   "source": [
    "# calculate average accuracy\n",
    "avg_kNeighbor_1 = sum(accuracy_kNeighbor_1)/len(accuracy_kNeighbor_1)\n",
    "avg_decisionTree_1 = sum(accuracy_decisionTree_1)/len(accuracy_decisionTree_1)\n",
    "avg_randomForest_1 = sum(accuracy_randomForest_1)/len(accuracy_randomForest_1)\n",
    "avg_logisticRegression_1 = sum(accuracy_logisticRegression_1)/len(accuracy_logisticRegression_1)\n",
    "avg_neuronalNet_1 = sum(accuracy_neuronalNet_1)/len(accuracy_neuronalNet_1)"
   ]
  },
  {
   "cell_type": "code",
   "execution_count": 37,
   "id": "d964294b-b46b-45f1-9cbf-ebd55703979c",
   "metadata": {},
   "outputs": [
    {
     "name": "stdout",
     "output_type": "stream",
     "text": [
      "KNeighbor: 0.7984005275965178\n",
      "Decision Tree: 0.7803509499093839\n",
      "Random Forest: 0.8059988997027039\n",
      "Logistic Regression: 0.8017847786774892\n",
      "Neuronal Net: 0.8221906685715581\n"
     ]
    }
   ],
   "source": [
    "# print average accuracy\n",
    "print(f'KNeighbor: {avg_kNeighbor_1}')\n",
    "print(f'Decision Tree: {avg_decisionTree_1}')\n",
    "print(f'Random Forest: {avg_randomForest_1}')\n",
    "print(f'Logistic Regression: {avg_logisticRegression_1}')\n",
    "print(f'Neuronal Net: {avg_neuronalNet_1}')"
   ]
  },
  {
   "cell_type": "code",
   "execution_count": 38,
   "id": "249f9e40-863a-4238-a069-b2fd8da0495a",
   "metadata": {},
   "outputs": [
    {
     "data": {
      "image/png": "[encoded data removed]",
      "text/plain": [
       "<Figure size 1080x360 with 1 Axes>"
      ]
     },
     "metadata": {},
     "output_type": "display_data"
    }
   ],
   "source": [
    "# print average accuracy for each model\n",
    "plt.figure(figsize=(15,5))\n",
    "ax = plt.subplot()\n",
    "models = ['KNeighbor', 'Decision Tree', 'Random Forest', 'Logistic Regression', 'Neuronal Net']\n",
    "avg_accuracies_1 = [avg_kNeighbor_1, avg_decisionTree_1, avg_randomForest_1, avg_logisticRegression_1, avg_neuronalNet_1] \n",
    "\n",
    "ax.bar(models, avg_accuracies_1)\n",
    "\n",
    "ax.set_ylabel('Average Accuracy')\n",
    "ax.set_ylim(0.7,1)\n",
    "ax.set_title('Average Accuracy of the different models')\n",
    "\n",
    "plt.tight_layout()\n",
    "plt.show()"
   ]
  },
  {
   "cell_type": "markdown",
   "id": "5b201045-000e-43f6-b271-f0d3787669e9",
   "metadata": {},
   "source": [
    "## aproach 2"
   ]
  },
  {
   "cell_type": "code",
   "execution_count": 39,
   "id": "008bcd86-7f88-4f55-bbeb-dca9b4d69eaf",
   "metadata": {},
   "outputs": [],
   "source": [
    "# define arrays to save the accuracy of every step of k-fold cross validation\n",
    "accuracy_kNeighbor_2 = []\n",
    "accuracy_decisionTree_2 = []\n",
    "accuracy_randomForest_2 = []\n",
    "accuracy_logisticRegression_2 = []\n",
    "accuracy_neuronalNet_2 = []"
   ]
  },
  {
   "cell_type": "code",
   "execution_count": 40,
   "id": "bcddfa13-8c3f-4e2a-8b72-34e717ae3d14",
   "metadata": {},
   "outputs": [],
   "source": [
    "# convert the DataFrames to a NumPy array\n",
    "X = X.to_numpy()\n",
    "Y = Y.to_numpy()"
   ]
  },
  {
   "cell_type": "code",
   "execution_count": 41,
   "id": "28122bda-e602-4f35-accd-51d670338c04",
   "metadata": {},
   "outputs": [
    {
     "name": "stdout",
     "output_type": "stream",
     "text": [
      "K Nearest Neighbor: 0.8054701905347265\n",
      "Decision Tree: 0.7818070067609096\n",
      "Random Forest: 0.8103872157344807\n",
      "Logistic Regression: 0.8057775046097111\n",
      "Neuronales Net: 0.8211432083589428\n",
      "\n",
      "\n",
      "K Nearest Neighbor: 0.8070067609096496\n",
      "Decision Tree: 0.7845728334357713\n",
      "Random Forest: 0.8073140749846343\n",
      "Logistic Regression: 0.813460356484327\n",
      "Neuronales Net: 0.8205285802089736\n",
      "\n",
      "\n",
      "K Nearest Neighbor: 0.803318992009834\n",
      "Decision Tree: 0.7793484941610326\n",
      "Random Forest: 0.7947141979102643\n",
      "Logistic Regression: 0.8070067609096496\n",
      "Neuronales Net: 0.8239090350338045\n",
      "\n",
      "\n",
      "K Nearest Neighbor: 0.809157959434542\n",
      "Decision Tree: 0.7750460971112477\n",
      "Random Forest: 0.7907191149354641\n",
      "Logistic Regression: 0.8051628764597418\n",
      "Neuronales Net: 0.8334357713583282\n",
      "\n",
      "\n",
      "K Nearest Neighbor: 0.7980946527350953\n",
      "Decision Tree: 0.7858020897357099\n",
      "Random Forest: 0.8017824216349109\n",
      "Logistic Regression: 0.8030116779348494\n",
      "Neuronales Net: 0.8279041180086048\n",
      "\n",
      "\n",
      "K Nearest Neighbor: 0.8156115550092194\n",
      "Decision Tree: 0.8017824216349109\n",
      "Random Forest: 0.8073140749846343\n",
      "Logistic Regression: 0.8103872157344807\n",
      "Neuronales Net: 0.8337430854333129\n",
      "\n",
      "\n",
      "K Nearest Neighbor: 0.7882606023355869\n",
      "Decision Tree: 0.7753534111862324\n",
      "Random Forest: 0.7971727105101414\n",
      "Logistic Regression: 0.8020897357098955\n",
      "Neuronales Net: 0.8263675476336816\n",
      "\n",
      "\n",
      "K Nearest Neighbor: 0.8011066707654473\n",
      "Decision Tree: 0.7749769443590532\n",
      "Random Forest: 0.7983399938518291\n",
      "Logistic Regression: 0.8075622502305564\n",
      "Neuronales Net: 0.8269289886258838\n",
      "\n",
      "\n",
      "K Nearest Neighbor: 0.8127881955118352\n",
      "Decision Tree: 0.7885029203811866\n",
      "Random Forest: 0.8035659391331079\n",
      "Logistic Regression: 0.8121733784199201\n",
      "Neuronales Net: 0.8312327082692899\n",
      "\n",
      "\n",
      "K Nearest Neighbor: 0.8127881955118352\n",
      "Decision Tree: 0.780202889640332\n",
      "Random Forest: 0.784506609283738\n",
      "Logistic Regression: 0.7968029511220412\n",
      "Neuronales Net: 0.8263141715339687\n",
      "\n",
      "\n"
     ]
    }
   ],
   "source": [
    "# perform k-fold cross validation\n",
    "for train_index, test_index in kf.split(X):\n",
    "    \n",
    "        X_train, X_test = X[train_index], X[test_index]\n",
    "        Y_train, Y_test = Y[train_index], Y[test_index]\n",
    "        \n",
    "    # k-Nearest Neighbors\n",
    "        kNeighbor = KNeighborsClassifier(n_neighbors=5)\n",
    "        # train random forest only on training data\n",
    "        kNeighbor = kNeighbor.fit(X_train, Y_train)\n",
    "        # test random forest with test data\n",
    "        kNeighbor_pred = kNeighbor.predict(X_test)\n",
    "        kNeighbor_accuracy = accuracy_score(Y_test, kNeighbor_pred)\n",
    "        print(f'K Nearest Neighbor: {kNeighbor_accuracy}')\n",
    "        accuracy_kNeighbor_2.append(kNeighbor_accuracy)\n",
    "        \n",
    "    # Decision Tree\n",
    "        decisionTree = DecisionTreeClassifier(random_state=0, criterion = 'entropy')\n",
    "        # train decision tree only on training data\n",
    "        decisionTree = decisionTree.fit(X_train, Y_train)\n",
    "        # test decision tree with test data\n",
    "        decisionTree_pred = decisionTree.predict(X_test)\n",
    "        decisionTree_accuracy = accuracy_score(Y_test, decisionTree_pred)\n",
    "        print(f'Decision Tree: {decisionTree_accuracy}')\n",
    "        accuracy_decisionTree_2.append(decisionTree_accuracy)\n",
    "        \n",
    "    # Random Forest\n",
    "        randomForest = RandomForestClassifier(max_depth=2, random_state=0)\n",
    "        # train random forest only on training data\n",
    "        randomForest = randomForest.fit(X_train, Y_train)\n",
    "        # test random forest with test data\n",
    "        randomForest_pred = randomForest.predict(X_test)\n",
    "        randomForest_accuracy = accuracy_score(Y_test, randomForest_pred)\n",
    "        print(f'Random Forest: {randomForest_accuracy}')\n",
    "        accuracy_randomForest_2.append(randomForest_accuracy)\n",
    "        \n",
    "    # Logistic Regression\n",
    "        logisticRegression = LogisticRegression(random_state=0, max_iter=500)\n",
    "        # train logistic regression only on training data\n",
    "        logisticRegression = logisticRegression.fit(X_train, Y_train)\n",
    "        # test logistic regression with test data\n",
    "        logisticRegression_pred = logisticRegression.predict(X_test)\n",
    "        logisticRegression_accuracy = accuracy_score(Y_test, logisticRegression_pred)\n",
    "        print(f'Logistic Regression: {logisticRegression_accuracy}')\n",
    "        accuracy_logisticRegression_2.append(logisticRegression_accuracy)\n",
    "        \n",
    "    #Neuronal Net\n",
    "        neuronalNet = MLPClassifier(random_state=1, max_iter=500).fit(X_train, Y_train)\n",
    "        neuronalNet_pred = neuronalNet.predict(X_test)\n",
    "        neuronalNet_accuracy = accuracy_score(Y_test, neuronalNet_pred)\n",
    "        print(f'Neuronal Net: {neuronalNet_accuracy}')\n",
    "        accuracy_neuronalNet_2.append(neuronalNet_accuracy)\n",
    "        print('\\n')"
   ]
  },
  {
   "cell_type": "code",
   "execution_count": 42,
   "id": "7e6de0d5-fdfa-4cb7-a73c-27bb72a9bc70",
   "metadata": {},
   "outputs": [
    {
     "data": {
      "image/png": "[encoded data removed]",
      "text/plain": [
       "<Figure size 1080x360 with 1 Axes>"
      ]
     },
     "metadata": {},
     "output_type": "display_data"
    }
   ],
   "source": [
    "# print accuracy of each k-fold step\n",
    "plt.figure(figsize=(15,5))\n",
    "ax = plt.subplot()\n",
    "width = 0.1\n",
    "\n",
    "X_label = ['1', '2', '3', '4', '5', '6', '7', '8', '9', '10']\n",
    "_X = np.arange(len(X_label))\n",
    "\n",
    "ax.bar(_X, accuracy_kNeighbor_2, width, label='kNeighbor')\n",
    "ax.bar(_X + width, accuracy_decisionTree_2, width, label='decision tree')\n",
    "ax.bar(_X + (2*width), accuracy_randomForest_2, width, label='random Forest')\n",
    "ax.bar(_X + (3*width), accuracy_logisticRegression_2, width, label='logistic regression')\n",
    "ax.bar(_X + (4*width), accuracy_neuronalNet_2, width, label='neuronal net')\n",
    "\n",
    "ax.set_ylabel('Accuracy')\n",
    "ax.set_ylim(0.7,1)\n",
    "ax.set_xticks(_X + width + width/2)\n",
    "ax.set_xticklabels(X_label)\n",
    "ax.set_title('Accuracy of the different models in every k-fold step')\n",
    "ax.legend()\n",
    "\n",
    "plt.tight_layout()\n",
    "\n",
    "plt.show()"
   ]
  },
  {
   "cell_type": "code",
   "execution_count": 43,
   "id": "e4eb765d-f80b-4821-b94b-a94e2888472d",
   "metadata": {},
   "outputs": [],
   "source": [
    "# calculate average accuracy\n",
    "avg_kNeighbor_2 = sum(accuracy_kNeighbor_2)/len(accuracy_kNeighbor_2)\n",
    "avg_decisionTree_2 = sum(accuracy_decisionTree_2)/len(accuracy_decisionTree_2)\n",
    "avg_randomForest_2 = sum(accuracy_randomForest_2)/len(accuracy_randomForest_2)\n",
    "avg_logisticRegression_2 = sum(accuracy_logisticRegression_2)/len(accuracy_logisticRegression_2)\n",
    "avg_neuronalNet_2 = sum(accuracy_neuronalNet_2)/len(accuracy_neuronalNet_2)"
   ]
  },
  {
   "cell_type": "code",
   "execution_count": 44,
   "id": "ff4551cd-5c62-4fa6-aaf8-83bfb0de10e0",
   "metadata": {},
   "outputs": [
    {
     "name": "stdout",
     "output_type": "stream",
     "text": [
      "KNeighbor: 0.8053603774757772\n",
      "Decision Tree: 0.7827395108406386\n",
      "Random Forest: 0.7995816352963205\n",
      "Logistic Regression: 0.8063434707615172\n",
      "Neuronal Net: 0.8271507214464793\n"
     ]
    }
   ],
   "source": [
    "# print average accuracy\n",
    "print(f'KNeighbor: {avg_kNeighbor_2}')\n",
    "print(f'Decision Tree: {avg_decisionTree_2}')\n",
    "print(f'Random Forest: {avg_randomForest_2}')\n",
    "print(f'Logistic Regression: {avg_logisticRegression_2}')\n",
    "print(f'Neuronal Net: {avg_neuronalNet_2}')"
   ]
  },
  {
   "cell_type": "code",
   "execution_count": 45,
   "id": "663b29d4-0c6c-404c-81f3-610f03842208",
   "metadata": {},
   "outputs": [
    {
     "data": {
      "image/png": "[encoded data removed]",
      "text/plain": [
       "<Figure size 1080x360 with 1 Axes>"
      ]
     },
     "metadata": {},
     "output_type": "display_data"
    }
   ],
   "source": [
    "# print average accuracy of each model\n",
    "plt.figure(figsize=(15,5))\n",
    "ax = plt.subplot()\n",
    "models = ['KNeighbor', 'Decision Tree', 'Random Forest', 'Logistic Regression', 'Neuronal Net']\n",
    "avg_accuracies_2 = [avg_kNeighbor_2, avg_decisionTree_2, avg_randomForest_2, avg_logisticRegression_2, avg_neuronalNet_2] \n",
    "\n",
    "ax.bar(models, avg_accuracies_2)\n",
    "\n",
    "ax.set_ylabel('Average Accuracy')\n",
    "ax.set_ylim(0.7,1)\n",
    "ax.set_title('Average Accuracy of the different models')\n",
    "\n",
    "plt.tight_layout()\n",
    "plt.show()"
   ]
  },
  {
   "cell_type": "markdown",
   "id": "33406909-371d-4e05-9ae0-354862cfcb07",
   "metadata": {},
   "source": [
    "# evaluation"
   ]
  },
  {
   "cell_type": "code",
   "execution_count": 46,
   "id": "23bc7625-2671-49d5-b762-10332c89e837",
   "metadata": {},
   "outputs": [
    {
     "data": {
      "image/png": "[encoded data removed]",
      "text/plain": [
       "<Figure size 720x360 with 1 Axes>"
      ]
     },
     "metadata": {},
     "output_type": "display_data"
    }
   ],
   "source": [
    "# interpret  model results and provide recommmendations\n",
    "# print average accuracy of each approach\n",
    "plt.figure(figsize=(10,5))\n",
    "ax = plt.subplot()vpn\n",
    "width = 0.1\n",
    "\n",
    "X_label = ['KNeighbor', 'Decision Tree', 'Random Forest', 'Logistic Regression', 'Neuronal Net']\n",
    "_X = np.arange(len(X_label))\n",
    "\n",
    "ax.bar(_X, avg_accuracies_1, width, label='approach 1')\n",
    "ax.bar(_X + width, avg_accuracies_2, width, label='approach 2')\n",
    "\n",
    "ax.set_ylabel('Average Accuracy')\n",
    "ax.set_ylim(0.7,1)\n",
    "ax.set_xticks(_X + width + width/2)\n",
    "ax.set_xticklabels(X_label)\n",
    "ax.set_title('Accuracy of the different models in the different approaches')\n",
    "ax.legend()\n",
    "\n",
    "plt.tight_layout()\n",
    "\n",
    "plt.show()"
   ]
  }
 ],
 "metadata": {
  "kernelspec": {
   "display_name": "Python 3",
   "language": "python",
   "name": "python3"
  },
  "language_info": {
   "codemirror_mode": {
    "name": "ipython",
    "version": 3
   },
   "file_extension": ".py",
   "mimetype": "text/x-python",
   "name": "python",
   "nbconvert_exporter": "python",
   "pygments_lexer": "ipython3",
   "version": "3.8.8"
  }
 },
 "nbformat": 4,
 "nbformat_minor": 5
}
