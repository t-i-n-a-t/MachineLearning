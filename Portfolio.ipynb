{
 "cells": [
  {
   "cell_type": "code",
   "execution_count": 1,
   "id": "66212b86-8e79-4cca-8811-5562c17beaf8",
   "metadata": {},
   "outputs": [],
   "source": [
    "#import necessary libraries\n",
    "import pandas as pd\n",
    "import numpy as np\n",
    "\n",
    "import matplotlib.pyplot as plt\n",
    "import seaborn as sns\n",
    "from sklearn.tree import DecisionTreeClassifier\n",
    "from sklearn import preprocessing\n",
    "from sklearn.preprocessing import LabelEncoder\n",
    "from sklearn import tree\n",
    "from sklearn.ensemble import RandomForestClassifier\n",
    "from sklearn.neural_network import MLPClassifier\n",
    "from sklearn.neighbors import KNeighborsClassifier\n",
    "from sklearn.linear_model import LogisticRegression\n",
    "from sklearn.datasets import make_classification\n",
    "from sklearn.metrics import confusion_matrix, accuracy_score\n",
    "from sklearn.model_selection import KFold\n",
    "from sklearn.model_selection import train_test_split\n",
    "\n",
    "# supress error\n",
    "pd.options.mode.chained_assignment = None"
   ]
  },
  {
   "cell_type": "markdown",
   "id": "b800f93f-551e-4a9d-b5f6-9ac64b63a69d",
   "metadata": {},
   "source": [
    "# load data"
   ]
  },
  {
   "cell_type": "code",
   "execution_count": 2,
   "id": "bb61be5f-a55c-4733-9570-a4f383ae4d8a",
   "metadata": {},
   "outputs": [
    {
     "data": {
      "text/html": [
       "<div>\n",
       "<style scoped>\n",
       "    .dataframe tbody tr th:only-of-type {\n",
       "        vertical-align: middle;\n",
       "    }\n",
       "\n",
       "    .dataframe tbody tr th {\n",
       "        vertical-align: top;\n",
       "    }\n",
       "\n",
       "    .dataframe thead th {\n",
       "        text-align: right;\n",
       "    }\n",
       "</style>\n",
       "<table border=\"1\" class=\"dataframe\">\n",
       "  <thead>\n",
       "    <tr style=\"text-align: right;\">\n",
       "      <th></th>\n",
       "      <th>age</th>\n",
       "      <th>workclass</th>\n",
       "      <th>fnlwgt</th>\n",
       "      <th>education</th>\n",
       "      <th>education_num</th>\n",
       "      <th>marital_status</th>\n",
       "      <th>occupation</th>\n",
       "      <th>relationship</th>\n",
       "      <th>race</th>\n",
       "      <th>sex</th>\n",
       "      <th>capital_gain</th>\n",
       "      <th>capital_loss</th>\n",
       "      <th>hours_per_week</th>\n",
       "      <th>native_country</th>\n",
       "      <th>income</th>\n",
       "    </tr>\n",
       "  </thead>\n",
       "  <tbody>\n",
       "    <tr>\n",
       "      <th>0</th>\n",
       "      <td>39</td>\n",
       "      <td>State-gov</td>\n",
       "      <td>77516</td>\n",
       "      <td>Bachelors</td>\n",
       "      <td>13</td>\n",
       "      <td>Never-married</td>\n",
       "      <td>Adm-clerical</td>\n",
       "      <td>Not-in-family</td>\n",
       "      <td>White</td>\n",
       "      <td>Male</td>\n",
       "      <td>2174</td>\n",
       "      <td>0</td>\n",
       "      <td>40</td>\n",
       "      <td>United-States</td>\n",
       "      <td>&lt;=50K</td>\n",
       "    </tr>\n",
       "    <tr>\n",
       "      <th>1</th>\n",
       "      <td>50</td>\n",
       "      <td>Self-emp-not-inc</td>\n",
       "      <td>83311</td>\n",
       "      <td>Bachelors</td>\n",
       "      <td>13</td>\n",
       "      <td>Married-civ-spouse</td>\n",
       "      <td>Exec-managerial</td>\n",
       "      <td>Husband</td>\n",
       "      <td>White</td>\n",
       "      <td>Male</td>\n",
       "      <td>0</td>\n",
       "      <td>0</td>\n",
       "      <td>13</td>\n",
       "      <td>United-States</td>\n",
       "      <td>&lt;=50K</td>\n",
       "    </tr>\n",
       "  </tbody>\n",
       "</table>\n",
       "</div>"
      ],
      "text/plain": [
       "   age         workclass  fnlwgt  education  education_num  \\\n",
       "0   39         State-gov   77516  Bachelors             13   \n",
       "1   50  Self-emp-not-inc   83311  Bachelors             13   \n",
       "\n",
       "       marital_status       occupation   relationship   race   sex  \\\n",
       "0       Never-married     Adm-clerical  Not-in-family  White  Male   \n",
       "1  Married-civ-spouse  Exec-managerial        Husband  White  Male   \n",
       "\n",
       "   capital_gain  capital_loss  hours_per_week native_country income  \n",
       "0          2174             0              40  United-States  <=50K  \n",
       "1             0             0              13  United-States  <=50K  "
      ]
     },
     "execution_count": 2,
     "metadata": {},
     "output_type": "execute_result"
    }
   ],
   "source": [
    "# importing data and reading data from csv file\n",
    "# entries do have whitespace at before chars --> remove them with skipinitialspace\n",
    "data = pd.read_csv('data/adult.csv', header = None, skipinitialspace=True)\n",
    "# name columns\n",
    "data.columns = ['age', 'workclass', \"fnlwgt\", \"education\", \"education_num\", \"marital_status\", \"occupation\", \"relationship\", \"race\", \"sex\", \"capital_gain\", \"capital_loss\", \"hours_per_week\", \"native_country\", \"income\" ]\n",
    "# show dataset\n",
    "data.head(2)"
   ]
  },
  {
   "cell_type": "markdown",
   "id": "f4ac072a-503c-4eb2-8e65-9392812b8b04",
   "metadata": {},
   "source": [
    "# describe dataset"
   ]
  },
  {
   "cell_type": "code",
   "execution_count": 3,
   "id": "eae074d3-fbab-4b96-bb3d-72dbf0fe4197",
   "metadata": {},
   "outputs": [
    {
     "data": {
      "text/plain": [
       "(32561, 15)"
      ]
     },
     "execution_count": 3,
     "metadata": {},
     "output_type": "execute_result"
    }
   ],
   "source": [
    "# 32561 rows, 15 columns\n",
    "data.shape"
   ]
  },
  {
   "cell_type": "code",
   "execution_count": 4,
   "id": "5b005c79-4283-4d6e-8208-affb120a849c",
   "metadata": {},
   "outputs": [
    {
     "data": {
      "text/plain": [
       "age               0\n",
       "workclass         0\n",
       "fnlwgt            0\n",
       "education         0\n",
       "education_num     0\n",
       "marital_status    0\n",
       "occupation        0\n",
       "relationship      0\n",
       "race              0\n",
       "sex               0\n",
       "capital_gain      0\n",
       "capital_loss      0\n",
       "hours_per_week    0\n",
       "native_country    0\n",
       "income            0\n",
       "dtype: int64"
      ]
     },
     "execution_count": 4,
     "metadata": {},
     "output_type": "execute_result"
    }
   ],
   "source": [
    "# Check for Null Data\n",
    "data.isna().sum()"
   ]
  },
  {
   "cell_type": "code",
   "execution_count": 5,
   "id": "2997a649-800b-40f1-ab3e-096929769b72",
   "metadata": {},
   "outputs": [
    {
     "data": {
      "text/plain": [
       "workclass         1836\n",
       "education            0\n",
       "marital_status       0\n",
       "occupation        1843\n",
       "relationship         0\n",
       "race                 0\n",
       "sex                  0\n",
       "native_country     583\n",
       "income               0\n",
       "dtype: int64"
      ]
     },
     "execution_count": 5,
     "metadata": {},
     "output_type": "execute_result"
    }
   ],
   "source": [
    "# dataset has no NaNs but a lot of ?\n",
    "data.select_dtypes(object).apply(lambda x: x.str.contains('?', regex=False)).sum()"
   ]
  },
  {
   "cell_type": "code",
   "execution_count": 6,
   "id": "7e1ddd50-81ce-4656-918e-0f68c1e72ed8",
   "metadata": {},
   "outputs": [],
   "source": [
    "# replace ? with Nans\n",
    "data = data.replace('?', np.NaN )"
   ]
  },
  {
   "cell_type": "code",
   "execution_count": 7,
   "id": "629e0d9b-d524-465a-b254-ae21bc8421cc",
   "metadata": {},
   "outputs": [
    {
     "data": {
      "text/plain": [
       "age                  0\n",
       "workclass         1836\n",
       "fnlwgt               0\n",
       "education            0\n",
       "education_num        0\n",
       "marital_status       0\n",
       "occupation        1843\n",
       "relationship         0\n",
       "race                 0\n",
       "sex                  0\n",
       "capital_gain         0\n",
       "capital_loss         0\n",
       "hours_per_week       0\n",
       "native_country     583\n",
       "income               0\n",
       "dtype: int64"
      ]
     },
     "execution_count": 7,
     "metadata": {},
     "output_type": "execute_result"
    }
   ],
   "source": [
    "# Check for again for null data\n",
    "data.isna().sum()"
   ]
  },
  {
   "cell_type": "code",
   "execution_count": 8,
   "id": "2d0db84f-e1f4-4b01-8e67-b743501bb0a6",
   "metadata": {},
   "outputs": [
    {
     "data": {
      "text/plain": [
       "age                int64\n",
       "workclass         object\n",
       "fnlwgt             int64\n",
       "education         object\n",
       "education_num      int64\n",
       "marital_status    object\n",
       "occupation        object\n",
       "relationship      object\n",
       "race              object\n",
       "sex               object\n",
       "capital_gain       int64\n",
       "capital_loss       int64\n",
       "hours_per_week     int64\n",
       "native_country    object\n",
       "income            object\n",
       "dtype: object"
      ]
     },
     "execution_count": 8,
     "metadata": {},
     "output_type": "execute_result"
    }
   ],
   "source": [
    "# Get data types\n",
    "data.dtypes"
   ]
  },
  {
   "cell_type": "code",
   "execution_count": 9,
   "id": "5d2f8b76-28b2-4286-bdcf-fbe32862327e",
   "metadata": {},
   "outputs": [
    {
     "name": "stdout",
     "output_type": "stream",
     "text": [
      "Duplicated entries: 24\n"
     ]
    }
   ],
   "source": [
    "# show all duplicated entries of the dataset\n",
    "print('Duplicated entries:',data.duplicated().sum())\n",
    "# # check if duplicated entries are NaN --> is not the case DELETE?\n",
    "# data[data.duplicated()].isna().mean()"
   ]
  },
  {
   "cell_type": "code",
   "execution_count": 10,
   "id": "997684e5-b302-4f62-b4b6-fcfd285731be",
   "metadata": {},
   "outputs": [
    {
     "name": "stdout",
     "output_type": "stream",
     "text": [
      "Duplicated entries:  0\n"
     ]
    }
   ],
   "source": [
    "# remove 24 duplicates\n",
    "data = data.drop_duplicates()\n",
    "print('Duplicated entries: ', data.duplicated().sum())"
   ]
  },
  {
   "cell_type": "markdown",
   "id": "d5ba75d6-1016-4292-bf48-3e44fd0d1cf9",
   "metadata": {},
   "source": [
    "## visualization"
   ]
  },
  {
   "cell_type": "code",
   "execution_count": 11,
   "id": "9e6a8a20-4d48-4f74-b60b-07314e838a65",
   "metadata": {},
   "outputs": [
    {
     "data": {
      "text/plain": [
       "<AxesSubplot:xlabel='income', ylabel='count'>"
      ]
     },
     "execution_count": 11,
     "metadata": {},
     "output_type": "execute_result"
    },
    {
     "data": {
      "image/png": "[encoded data removed]",
      "text/plain": [
       "<Figure size 432x288 with 1 Axes>"
      ]
     },
     "metadata": {},
     "output_type": "display_data"
    }
   ],
   "source": [
    "# Count of >50K & <=50K\n",
    "sns.set_theme(style=\"darkgrid\")\n",
    "sns.countplot(x=\"income\", data=data)"
   ]
  },
  {
   "cell_type": "code",
   "execution_count": 12,
   "id": "daebb82d-62da-4347-bfd8-84afd619798e",
   "metadata": {},
   "outputs": [
    {
     "data": {
      "text/plain": [
       "<AxesSubplot:xlabel='sex', ylabel='count'>"
      ]
     },
     "execution_count": 12,
     "metadata": {},
     "output_type": "execute_result"
    },
    {
     "data": {
      "image/png": "[encoded data removed]",
      "text/plain": [
       "<Figure size 432x288 with 1 Axes>"
      ]
     },
     "metadata": {},
     "output_type": "display_data"
    }
   ],
   "source": [
    "#difference male and female\n",
    "sns.countplot(x=\"sex\", hue='income', data=data)"
   ]
  },
  {
   "cell_type": "code",
   "execution_count": 13,
   "id": "692f23b7-b72b-4565-86a3-9ecb469e16f7",
   "metadata": {},
   "outputs": [],
   "source": [
    "# Alter wird hier durch Young, Adult und Old ersetzt --> macht das Sinn? Zahlen passen doch auch, oder? @Tina\n",
    "# data_vis = data;\n",
    "# data_vis['age'] = pd.cut(data_vis['age'], bins = [0, 25, 50, 100], labels = ['Young', 'Adult', 'Old'])\n",
    "# sns.countplot(x = 'income', hue = 'age', data = data_vis)"
   ]
  },
  {
   "cell_type": "code",
   "execution_count": 14,
   "id": "2f94fe6a-834d-44f8-868f-e70760a19b19",
   "metadata": {},
   "outputs": [
    {
     "data": {
      "text/plain": [
       "<AxesSubplot:xlabel='education_num', ylabel='count'>"
      ]
     },
     "execution_count": 14,
     "metadata": {},
     "output_type": "execute_result"
    },
    {
     "data": {
      "image/png": "[encoded data removed]",
      "text/plain": [
       "<Figure size 432x288 with 1 Axes>"
      ]
     },
     "metadata": {},
     "output_type": "display_data"
    }
   ],
   "source": [
    "# income in correlation with education years\n",
    "sns.countplot(x = 'education_num', hue = 'income', data = data)"
   ]
  },
  {
   "cell_type": "code",
   "execution_count": 15,
   "id": "93ae8d15-6f3b-4702-9c7a-d582e92029ea",
   "metadata": {},
   "outputs": [
    {
     "data": {
      "text/plain": [
       "<AxesSubplot:xlabel='income', ylabel='count'>"
      ]
     },
     "execution_count": 15,
     "metadata": {},
     "output_type": "execute_result"
    },
    {
     "data": {
      "image/png": "[encoded data removed]",
      "text/plain": [
       "<Figure size 432x288 with 1 Axes>"
      ]
     },
     "metadata": {},
     "output_type": "display_data"
    }
   ],
   "source": [
    "#Plotting workclass corresponding to the income\n",
    "sns.countplot(x = 'income', hue = 'workclass', data = data)"
   ]
  },
  {
   "cell_type": "code",
   "execution_count": 16,
   "id": "d68df570-69d2-43ff-980a-979389b5a082",
   "metadata": {},
   "outputs": [
    {
     "data": {
      "image/png": "[encoded data removed]",
      "text/plain": [
       "<Figure size 1080x720 with 1 Axes>"
      ]
     },
     "metadata": {},
     "output_type": "display_data"
    }
   ],
   "source": [
    "#Plot of Country corresponding to income\n",
    "# plt.bar(count.index, count.values)\n",
    "# plt.xlabel('Countries')\n",
    "# plt.ylabel('Count')\n",
    "# plt.title('Count from each Country')\n",
    "plt.figure(figsize=(15,10))\n",
    "ax = sns.countplot(x = 'native_country', data = data)\n",
    "ax.set_xticklabels(ax.get_xticklabels(), rotation=40, ha=\"right\")\n",
    "plt.tight_layout()\n",
    "plt.show()"
   ]
  },
  {
   "cell_type": "code",
   "execution_count": 17,
   "id": "8426e21a-7316-43d3-800f-8425149e23a8",
   "metadata": {},
   "outputs": [],
   "source": [
    "# visualize race"
   ]
  },
  {
   "cell_type": "markdown",
   "id": "9d51b451-a33f-4e38-95d1-adc37e78b300",
   "metadata": {},
   "source": [
    "# preprocess data"
   ]
  },
  {
   "cell_type": "code",
   "execution_count": 18,
   "id": "d62ddbed-a40c-484b-9bcd-aaad29aba5f3",
   "metadata": {},
   "outputs": [
    {
     "name": "stdout",
     "output_type": "stream",
     "text": [
      "(32537, 15)\n",
      "(119,)\n"
     ]
    },
    {
     "data": {
      "text/plain": [
       "(92,)"
      ]
     },
     "execution_count": 18,
     "metadata": {},
     "output_type": "execute_result"
    }
   ],
   "source": [
    "print(data.shape)\n",
    "print(data.capital_gain.unique().shape)\n",
    "data.capital_loss.unique().shape"
   ]
  },
  {
   "cell_type": "code",
   "execution_count": 19,
   "id": "7fb32dad-15e2-4917-98b5-819cd820e3c2",
   "metadata": {},
   "outputs": [],
   "source": [
    "# dropping unimportant columns\n",
    "# The ‘fnlwgt’ variable (stands for final weight) is removed as it has no predictive power since it is a feature aimed to allocate similar weights to people with similar demographic characteristics. \n",
    "# capital gain and capital loss are mostly 0\n",
    "# education can be described by education-num \n",
    "data.drop(['fnlwgt', 'capital_gain', 'capital_loss', 'education'], axis=1, inplace=True)"
   ]
  },
  {
   "cell_type": "markdown",
   "id": "b76957f1-2cb7-48f9-95e3-b4a241222228",
   "metadata": {},
   "source": [
    "## approach 1 with dropping rows with any na in it"
   ]
  },
  {
   "cell_type": "code",
   "execution_count": 20,
   "id": "8649659b-dba0-461d-b827-7bb8fa2149eb",
   "metadata": {},
   "outputs": [
    {
     "name": "stdout",
     "output_type": "stream",
     "text": [
      "age               0\n",
      "workclass         0\n",
      "education_num     0\n",
      "marital_status    0\n",
      "occupation        0\n",
      "relationship      0\n",
      "race              0\n",
      "sex               0\n",
      "hours_per_week    0\n",
      "native_country    0\n",
      "income            0\n",
      "dtype: int64\n",
      "(30139, 11)\n"
     ]
    }
   ],
   "source": [
    "# drop Na \n",
    "data_dropped = data.dropna(how='any')\n",
    "# reset index after dropping rows\n",
    "data_dropped = data_dropped.reset_index(drop=True)\n",
    "print(data_dropped.isna().sum())\n",
    "print(data_dropped.shape)"
   ]
  },
  {
   "cell_type": "markdown",
   "id": "2978f183-df0b-4adc-824e-b15af961c87e",
   "metadata": {},
   "source": [
    "## approach 2 with replacing na values with mode"
   ]
  },
  {
   "cell_type": "code",
   "execution_count": 21,
   "id": "255b7dd2-12a0-4285-be40-bfa3f1da5fb6",
   "metadata": {},
   "outputs": [
    {
     "data": {
      "text/plain": [
       "age                  0\n",
       "workclass         1836\n",
       "education_num        0\n",
       "marital_status       0\n",
       "occupation        1843\n",
       "relationship         0\n",
       "race                 0\n",
       "sex                  0\n",
       "hours_per_week       0\n",
       "native_country     582\n",
       "income               0\n",
       "dtype: int64"
      ]
     },
     "execution_count": 21,
     "metadata": {},
     "output_type": "execute_result"
    }
   ],
   "source": [
    "data.isnull().sum(axis = 0)"
   ]
  },
  {
   "cell_type": "code",
   "execution_count": 22,
   "id": "719f6a33-952a-4326-bef7-62b9bc3a48bd",
   "metadata": {},
   "outputs": [
    {
     "name": "stdout",
     "output_type": "stream",
     "text": [
      "count              30694\n",
      "unique                14\n",
      "top       Prof-specialty\n",
      "freq                4136\n",
      "Name: occupation, dtype: object\n"
     ]
    }
   ],
   "source": [
    "print(data['occupation'].describe())\n",
    "data['occupation'] = data['occupation'].fillna('Prof-specialty')"
   ]
  },
  {
   "cell_type": "code",
   "execution_count": 23,
   "id": "33e0cab1-2aba-48f4-876a-a033547fc01c",
   "metadata": {},
   "outputs": [
    {
     "name": "stdout",
     "output_type": "stream",
     "text": [
      "count       30701\n",
      "unique          8\n",
      "top       Private\n",
      "freq        22673\n",
      "Name: workclass, dtype: object\n"
     ]
    }
   ],
   "source": [
    "print(data['workclass'].describe())\n",
    "data['workclass'] = data['workclass'].fillna('Private')"
   ]
  },
  {
   "cell_type": "code",
   "execution_count": 24,
   "id": "612afea6-74aa-49c1-9865-3e2425242824",
   "metadata": {},
   "outputs": [
    {
     "name": "stdout",
     "output_type": "stream",
     "text": [
      "count             31955\n",
      "unique               41\n",
      "top       United-States\n",
      "freq              29153\n",
      "Name: native_country, dtype: object\n"
     ]
    }
   ],
   "source": [
    "print(data['native_country'].describe())\n",
    "data['native_country'] = data['native_country'].fillna('United-States')"
   ]
  },
  {
   "cell_type": "code",
   "execution_count": 25,
   "id": "395c8b51-2a35-4993-8c94-66b3739ef737",
   "metadata": {},
   "outputs": [
    {
     "name": "stdout",
     "output_type": "stream",
     "text": [
      "(32537, 11)\n"
     ]
    }
   ],
   "source": [
    "data.isna().sum()\n",
    "print(data.shape)"
   ]
  },
  {
   "cell_type": "markdown",
   "id": "4946f3b2-d342-4684-be63-22f4ed752655",
   "metadata": {},
   "source": [
    "## encoding approach 1"
   ]
  },
  {
   "cell_type": "code",
   "execution_count": 26,
   "id": "d2f53bc2-ddff-4faa-b9f2-ebfc4fdbd8f0",
   "metadata": {},
   "outputs": [
    {
     "data": {
      "text/html": [
       "<div>\n",
       "<style scoped>\n",
       "    .dataframe tbody tr th:only-of-type {\n",
       "        vertical-align: middle;\n",
       "    }\n",
       "\n",
       "    .dataframe tbody tr th {\n",
       "        vertical-align: top;\n",
       "    }\n",
       "\n",
       "    .dataframe thead th {\n",
       "        text-align: right;\n",
       "    }\n",
       "</style>\n",
       "<table border=\"1\" class=\"dataframe\">\n",
       "  <thead>\n",
       "    <tr style=\"text-align: right;\">\n",
       "      <th></th>\n",
       "      <th>age</th>\n",
       "      <th>workclass</th>\n",
       "      <th>education_num</th>\n",
       "      <th>marital_status</th>\n",
       "      <th>occupation</th>\n",
       "      <th>relationship</th>\n",
       "      <th>race</th>\n",
       "      <th>sex</th>\n",
       "      <th>hours_per_week</th>\n",
       "      <th>native_country</th>\n",
       "      <th>income</th>\n",
       "    </tr>\n",
       "  </thead>\n",
       "  <tbody>\n",
       "    <tr>\n",
       "      <th>0</th>\n",
       "      <td>39</td>\n",
       "      <td>5</td>\n",
       "      <td>13</td>\n",
       "      <td>4</td>\n",
       "      <td>0</td>\n",
       "      <td>1</td>\n",
       "      <td>4</td>\n",
       "      <td>1</td>\n",
       "      <td>40</td>\n",
       "      <td>38</td>\n",
       "      <td>0</td>\n",
       "    </tr>\n",
       "    <tr>\n",
       "      <th>1</th>\n",
       "      <td>50</td>\n",
       "      <td>4</td>\n",
       "      <td>13</td>\n",
       "      <td>2</td>\n",
       "      <td>3</td>\n",
       "      <td>0</td>\n",
       "      <td>4</td>\n",
       "      <td>1</td>\n",
       "      <td>13</td>\n",
       "      <td>38</td>\n",
       "      <td>0</td>\n",
       "    </tr>\n",
       "    <tr>\n",
       "      <th>2</th>\n",
       "      <td>38</td>\n",
       "      <td>2</td>\n",
       "      <td>9</td>\n",
       "      <td>0</td>\n",
       "      <td>5</td>\n",
       "      <td>1</td>\n",
       "      <td>4</td>\n",
       "      <td>1</td>\n",
       "      <td>40</td>\n",
       "      <td>38</td>\n",
       "      <td>0</td>\n",
       "    </tr>\n",
       "    <tr>\n",
       "      <th>3</th>\n",
       "      <td>53</td>\n",
       "      <td>2</td>\n",
       "      <td>7</td>\n",
       "      <td>2</td>\n",
       "      <td>5</td>\n",
       "      <td>0</td>\n",
       "      <td>2</td>\n",
       "      <td>1</td>\n",
       "      <td>40</td>\n",
       "      <td>38</td>\n",
       "      <td>0</td>\n",
       "    </tr>\n",
       "    <tr>\n",
       "      <th>4</th>\n",
       "      <td>28</td>\n",
       "      <td>2</td>\n",
       "      <td>13</td>\n",
       "      <td>2</td>\n",
       "      <td>9</td>\n",
       "      <td>5</td>\n",
       "      <td>2</td>\n",
       "      <td>0</td>\n",
       "      <td>40</td>\n",
       "      <td>4</td>\n",
       "      <td>0</td>\n",
       "    </tr>\n",
       "  </tbody>\n",
       "</table>\n",
       "</div>"
      ],
      "text/plain": [
       "   age  workclass  education_num  marital_status  occupation  relationship  \\\n",
       "0   39          5             13               4           0             1   \n",
       "1   50          4             13               2           3             0   \n",
       "2   38          2              9               0           5             1   \n",
       "3   53          2              7               2           5             0   \n",
       "4   28          2             13               2           9             5   \n",
       "\n",
       "   race  sex  hours_per_week  native_country  income  \n",
       "0     4    1              40              38       0  \n",
       "1     4    1              13              38       0  \n",
       "2     4    1              40              38       0  \n",
       "3     2    1              40              38       0  \n",
       "4     2    0              40               4       0  "
      ]
     },
     "execution_count": 26,
     "metadata": {},
     "output_type": "execute_result"
    }
   ],
   "source": [
    "# encoding\n",
    "# 1 = >50K; 0 = <=50K \n",
    "encoder_income = LabelEncoder()\n",
    "data_dropped['income'] = encoder_income.fit_transform(data_dropped['income'])\n",
    "encoder_worklass = LabelEncoder()\n",
    "data_dropped['workclass'] = encoder_worklass.fit_transform(data_dropped['workclass'])\n",
    "encoder_occupation = LabelEncoder()\n",
    "data_dropped['occupation'] = encoder_occupation.fit_transform(data_dropped['occupation'])\n",
    "encoder_relationship = LabelEncoder()\n",
    "data_dropped['relationship'] = encoder_relationship.fit_transform(data_dropped['relationship'])\n",
    "encoder_race = LabelEncoder()\n",
    "data_dropped['race'] = encoder_race.fit_transform(data_dropped['race'])\n",
    "encoder_sex = LabelEncoder()\n",
    "data_dropped['sex'] = encoder_sex.fit_transform(data_dropped['sex'])\n",
    "encoder_nativecountry  = LabelEncoder()\n",
    "data_dropped['native_country'] = encoder_nativecountry.fit_transform(data_dropped['native_country'])\n",
    "encoder_maritalstatus  = LabelEncoder()\n",
    "data_dropped['marital_status'] = encoder_maritalstatus.fit_transform(data_dropped['marital_status'])\n",
    "data_dropped.head()"
   ]
  },
  {
   "cell_type": "code",
   "execution_count": 27,
   "id": "763ec06f-4fce-430a-b05a-7507ddc5530b",
   "metadata": {},
   "outputs": [
    {
     "name": "stdout",
     "output_type": "stream",
     "text": [
      "0        0\n",
      "1        0\n",
      "2        0\n",
      "3        0\n",
      "4        0\n",
      "        ..\n",
      "30134    0\n",
      "30135    1\n",
      "30136    0\n",
      "30137    0\n",
      "30138    1\n",
      "Name: income, Length: 30139, dtype: int32\n"
     ]
    },
    {
     "data": {
      "text/html": [
       "<div>\n",
       "<style scoped>\n",
       "    .dataframe tbody tr th:only-of-type {\n",
       "        vertical-align: middle;\n",
       "    }\n",
       "\n",
       "    .dataframe tbody tr th {\n",
       "        vertical-align: top;\n",
       "    }\n",
       "\n",
       "    .dataframe thead th {\n",
       "        text-align: right;\n",
       "    }\n",
       "</style>\n",
       "<table border=\"1\" class=\"dataframe\">\n",
       "  <thead>\n",
       "    <tr style=\"text-align: right;\">\n",
       "      <th></th>\n",
       "      <th>age</th>\n",
       "      <th>workclass</th>\n",
       "      <th>education_num</th>\n",
       "      <th>marital_status</th>\n",
       "      <th>occupation</th>\n",
       "      <th>relationship</th>\n",
       "      <th>race</th>\n",
       "      <th>sex</th>\n",
       "      <th>hours_per_week</th>\n",
       "      <th>native_country</th>\n",
       "    </tr>\n",
       "  </thead>\n",
       "  <tbody>\n",
       "    <tr>\n",
       "      <th>0</th>\n",
       "      <td>39</td>\n",
       "      <td>5</td>\n",
       "      <td>13</td>\n",
       "      <td>4</td>\n",
       "      <td>0</td>\n",
       "      <td>1</td>\n",
       "      <td>4</td>\n",
       "      <td>1</td>\n",
       "      <td>40</td>\n",
       "      <td>38</td>\n",
       "    </tr>\n",
       "    <tr>\n",
       "      <th>1</th>\n",
       "      <td>50</td>\n",
       "      <td>4</td>\n",
       "      <td>13</td>\n",
       "      <td>2</td>\n",
       "      <td>3</td>\n",
       "      <td>0</td>\n",
       "      <td>4</td>\n",
       "      <td>1</td>\n",
       "      <td>13</td>\n",
       "      <td>38</td>\n",
       "    </tr>\n",
       "    <tr>\n",
       "      <th>2</th>\n",
       "      <td>38</td>\n",
       "      <td>2</td>\n",
       "      <td>9</td>\n",
       "      <td>0</td>\n",
       "      <td>5</td>\n",
       "      <td>1</td>\n",
       "      <td>4</td>\n",
       "      <td>1</td>\n",
       "      <td>40</td>\n",
       "      <td>38</td>\n",
       "    </tr>\n",
       "    <tr>\n",
       "      <th>3</th>\n",
       "      <td>53</td>\n",
       "      <td>2</td>\n",
       "      <td>7</td>\n",
       "      <td>2</td>\n",
       "      <td>5</td>\n",
       "      <td>0</td>\n",
       "      <td>2</td>\n",
       "      <td>1</td>\n",
       "      <td>40</td>\n",
       "      <td>38</td>\n",
       "    </tr>\n",
       "    <tr>\n",
       "      <th>4</th>\n",
       "      <td>28</td>\n",
       "      <td>2</td>\n",
       "      <td>13</td>\n",
       "      <td>2</td>\n",
       "      <td>9</td>\n",
       "      <td>5</td>\n",
       "      <td>2</td>\n",
       "      <td>0</td>\n",
       "      <td>40</td>\n",
       "      <td>4</td>\n",
       "    </tr>\n",
       "  </tbody>\n",
       "</table>\n",
       "</div>"
      ],
      "text/plain": [
       "   age  workclass  education_num  marital_status  occupation  relationship  \\\n",
       "0   39          5             13               4           0             1   \n",
       "1   50          4             13               2           3             0   \n",
       "2   38          2              9               0           5             1   \n",
       "3   53          2              7               2           5             0   \n",
       "4   28          2             13               2           9             5   \n",
       "\n",
       "   race  sex  hours_per_week  native_country  \n",
       "0     4    1              40              38  \n",
       "1     4    1              13              38  \n",
       "2     4    1              40              38  \n",
       "3     2    1              40              38  \n",
       "4     2    0              40               4  "
      ]
     },
     "execution_count": 27,
     "metadata": {},
     "output_type": "execute_result"
    }
   ],
   "source": [
    "#Splitting the data set into features and outcome\n",
    "X_dropped = data_dropped.drop(['income'], axis=1)\n",
    "Y_dropped = data_dropped['income']\n",
    "print(Y_dropped)\n",
    "X_dropped.head()"
   ]
  },
  {
   "cell_type": "markdown",
   "id": "418821f2-c722-4cb7-8fa7-acd18edb7c01",
   "metadata": {},
   "source": [
    "## encoding approach 2"
   ]
  },
  {
   "cell_type": "code",
   "execution_count": 28,
   "id": "666e0191-61c1-47e5-8a3a-8f90e1721ea4",
   "metadata": {},
   "outputs": [
    {
     "data": {
      "text/html": [
       "<div>\n",
       "<style scoped>\n",
       "    .dataframe tbody tr th:only-of-type {\n",
       "        vertical-align: middle;\n",
       "    }\n",
       "\n",
       "    .dataframe tbody tr th {\n",
       "        vertical-align: top;\n",
       "    }\n",
       "\n",
       "    .dataframe thead th {\n",
       "        text-align: right;\n",
       "    }\n",
       "</style>\n",
       "<table border=\"1\" class=\"dataframe\">\n",
       "  <thead>\n",
       "    <tr style=\"text-align: right;\">\n",
       "      <th></th>\n",
       "      <th>age</th>\n",
       "      <th>workclass</th>\n",
       "      <th>education_num</th>\n",
       "      <th>marital_status</th>\n",
       "      <th>occupation</th>\n",
       "      <th>relationship</th>\n",
       "      <th>race</th>\n",
       "      <th>sex</th>\n",
       "      <th>hours_per_week</th>\n",
       "      <th>native_country</th>\n",
       "      <th>income</th>\n",
       "    </tr>\n",
       "  </thead>\n",
       "  <tbody>\n",
       "    <tr>\n",
       "      <th>0</th>\n",
       "      <td>39</td>\n",
       "      <td>6</td>\n",
       "      <td>13</td>\n",
       "      <td>4</td>\n",
       "      <td>0</td>\n",
       "      <td>1</td>\n",
       "      <td>4</td>\n",
       "      <td>1</td>\n",
       "      <td>40</td>\n",
       "      <td>38</td>\n",
       "      <td>0</td>\n",
       "    </tr>\n",
       "    <tr>\n",
       "      <th>1</th>\n",
       "      <td>50</td>\n",
       "      <td>5</td>\n",
       "      <td>13</td>\n",
       "      <td>2</td>\n",
       "      <td>3</td>\n",
       "      <td>0</td>\n",
       "      <td>4</td>\n",
       "      <td>1</td>\n",
       "      <td>13</td>\n",
       "      <td>38</td>\n",
       "      <td>0</td>\n",
       "    </tr>\n",
       "    <tr>\n",
       "      <th>2</th>\n",
       "      <td>38</td>\n",
       "      <td>3</td>\n",
       "      <td>9</td>\n",
       "      <td>0</td>\n",
       "      <td>5</td>\n",
       "      <td>1</td>\n",
       "      <td>4</td>\n",
       "      <td>1</td>\n",
       "      <td>40</td>\n",
       "      <td>38</td>\n",
       "      <td>0</td>\n",
       "    </tr>\n",
       "    <tr>\n",
       "      <th>3</th>\n",
       "      <td>53</td>\n",
       "      <td>3</td>\n",
       "      <td>7</td>\n",
       "      <td>2</td>\n",
       "      <td>5</td>\n",
       "      <td>0</td>\n",
       "      <td>2</td>\n",
       "      <td>1</td>\n",
       "      <td>40</td>\n",
       "      <td>38</td>\n",
       "      <td>0</td>\n",
       "    </tr>\n",
       "    <tr>\n",
       "      <th>4</th>\n",
       "      <td>28</td>\n",
       "      <td>3</td>\n",
       "      <td>13</td>\n",
       "      <td>2</td>\n",
       "      <td>9</td>\n",
       "      <td>5</td>\n",
       "      <td>2</td>\n",
       "      <td>0</td>\n",
       "      <td>40</td>\n",
       "      <td>4</td>\n",
       "      <td>0</td>\n",
       "    </tr>\n",
       "  </tbody>\n",
       "</table>\n",
       "</div>"
      ],
      "text/plain": [
       "   age  workclass  education_num  marital_status  occupation  relationship  \\\n",
       "0   39          6             13               4           0             1   \n",
       "1   50          5             13               2           3             0   \n",
       "2   38          3              9               0           5             1   \n",
       "3   53          3              7               2           5             0   \n",
       "4   28          3             13               2           9             5   \n",
       "\n",
       "   race  sex  hours_per_week  native_country  income  \n",
       "0     4    1              40              38       0  \n",
       "1     4    1              13              38       0  \n",
       "2     4    1              40              38       0  \n",
       "3     2    1              40              38       0  \n",
       "4     2    0              40               4       0  "
      ]
     },
     "execution_count": 28,
     "metadata": {},
     "output_type": "execute_result"
    }
   ],
   "source": [
    "# encoding\n",
    "# 1 = >50K; 0 = <=50K \n",
    "encoder_income = LabelEncoder()\n",
    "data['income'] = encoder_income.fit_transform(data['income'])\n",
    "encoder_worklass = LabelEncoder()\n",
    "data['workclass'] = encoder_worklass.fit_transform(data['workclass'])\n",
    "encoder_occupation = LabelEncoder()\n",
    "data['occupation'] = encoder_occupation.fit_transform(data['occupation'])\n",
    "encoder_relationship = LabelEncoder()\n",
    "data['relationship'] = encoder_relationship.fit_transform(data['relationship'])\n",
    "encoder_race = LabelEncoder()\n",
    "data['race'] = encoder_race.fit_transform(data['race'])\n",
    "encoder_sex = LabelEncoder()\n",
    "data['sex'] = encoder_sex.fit_transform(data['sex'])\n",
    "encoder_nativecountry  = LabelEncoder()\n",
    "data['native_country'] = encoder_nativecountry.fit_transform(data['native_country'])\n",
    "encoder_maritalstatus  = LabelEncoder()\n",
    "data['marital_status'] = encoder_maritalstatus.fit_transform(data['marital_status'])\n",
    "data.head()"
   ]
  },
  {
   "cell_type": "code",
   "execution_count": 29,
   "id": "35b3afcf-7c92-4aed-a609-5cb85bf65974",
   "metadata": {},
   "outputs": [
    {
     "name": "stdout",
     "output_type": "stream",
     "text": [
      "0        0\n",
      "1        0\n",
      "2        0\n",
      "3        0\n",
      "4        0\n",
      "        ..\n",
      "32556    0\n",
      "32557    1\n",
      "32558    0\n",
      "32559    0\n",
      "32560    1\n",
      "Name: income, Length: 32537, dtype: int32\n"
     ]
    },
    {
     "data": {
      "text/html": [
       "<div>\n",
       "<style scoped>\n",
       "    .dataframe tbody tr th:only-of-type {\n",
       "        vertical-align: middle;\n",
       "    }\n",
       "\n",
       "    .dataframe tbody tr th {\n",
       "        vertical-align: top;\n",
       "    }\n",
       "\n",
       "    .dataframe thead th {\n",
       "        text-align: right;\n",
       "    }\n",
       "</style>\n",
       "<table border=\"1\" class=\"dataframe\">\n",
       "  <thead>\n",
       "    <tr style=\"text-align: right;\">\n",
       "      <th></th>\n",
       "      <th>age</th>\n",
       "      <th>workclass</th>\n",
       "      <th>education_num</th>\n",
       "      <th>marital_status</th>\n",
       "      <th>occupation</th>\n",
       "      <th>relationship</th>\n",
       "      <th>race</th>\n",
       "      <th>sex</th>\n",
       "      <th>hours_per_week</th>\n",
       "      <th>native_country</th>\n",
       "    </tr>\n",
       "  </thead>\n",
       "  <tbody>\n",
       "    <tr>\n",
       "      <th>0</th>\n",
       "      <td>39</td>\n",
       "      <td>6</td>\n",
       "      <td>13</td>\n",
       "      <td>4</td>\n",
       "      <td>0</td>\n",
       "      <td>1</td>\n",
       "      <td>4</td>\n",
       "      <td>1</td>\n",
       "      <td>40</td>\n",
       "      <td>38</td>\n",
       "    </tr>\n",
       "    <tr>\n",
       "      <th>1</th>\n",
       "      <td>50</td>\n",
       "      <td>5</td>\n",
       "      <td>13</td>\n",
       "      <td>2</td>\n",
       "      <td>3</td>\n",
       "      <td>0</td>\n",
       "      <td>4</td>\n",
       "      <td>1</td>\n",
       "      <td>13</td>\n",
       "      <td>38</td>\n",
       "    </tr>\n",
       "    <tr>\n",
       "      <th>2</th>\n",
       "      <td>38</td>\n",
       "      <td>3</td>\n",
       "      <td>9</td>\n",
       "      <td>0</td>\n",
       "      <td>5</td>\n",
       "      <td>1</td>\n",
       "      <td>4</td>\n",
       "      <td>1</td>\n",
       "      <td>40</td>\n",
       "      <td>38</td>\n",
       "    </tr>\n",
       "    <tr>\n",
       "      <th>3</th>\n",
       "      <td>53</td>\n",
       "      <td>3</td>\n",
       "      <td>7</td>\n",
       "      <td>2</td>\n",
       "      <td>5</td>\n",
       "      <td>0</td>\n",
       "      <td>2</td>\n",
       "      <td>1</td>\n",
       "      <td>40</td>\n",
       "      <td>38</td>\n",
       "    </tr>\n",
       "    <tr>\n",
       "      <th>4</th>\n",
       "      <td>28</td>\n",
       "      <td>3</td>\n",
       "      <td>13</td>\n",
       "      <td>2</td>\n",
       "      <td>9</td>\n",
       "      <td>5</td>\n",
       "      <td>2</td>\n",
       "      <td>0</td>\n",
       "      <td>40</td>\n",
       "      <td>4</td>\n",
       "    </tr>\n",
       "  </tbody>\n",
       "</table>\n",
       "</div>"
      ],
      "text/plain": [
       "   age  workclass  education_num  marital_status  occupation  relationship  \\\n",
       "0   39          6             13               4           0             1   \n",
       "1   50          5             13               2           3             0   \n",
       "2   38          3              9               0           5             1   \n",
       "3   53          3              7               2           5             0   \n",
       "4   28          3             13               2           9             5   \n",
       "\n",
       "   race  sex  hours_per_week  native_country  \n",
       "0     4    1              40              38  \n",
       "1     4    1              13              38  \n",
       "2     4    1              40              38  \n",
       "3     2    1              40              38  \n",
       "4     2    0              40               4  "
      ]
     },
     "execution_count": 29,
     "metadata": {},
     "output_type": "execute_result"
    }
   ],
   "source": [
    "#Splitting the data set into features and outcome\n",
    "X = data.drop(['income'], axis=1)\n",
    "Y = data['income']\n",
    "print(Y)\n",
    "X.head()"
   ]
  },
  {
   "cell_type": "markdown",
   "id": "bb18a62a-f5ef-41fc-8e5b-ab9654f2ce6a",
   "metadata": {},
   "source": [
    "# train data "
   ]
  },
  {
   "cell_type": "code",
   "execution_count": 30,
   "id": "2d10cef0-b453-4d29-95ac-d23322c8c4d5",
   "metadata": {},
   "outputs": [],
   "source": [
    "# define k-fold properties\n",
    "# @Tim welches n_splits ist sinnvoll?\n",
    "kf = KFold(n_splits=5, shuffle=True)"
   ]
  },
  {
   "cell_type": "markdown",
   "id": "83ce9f1b-90b8-4663-abc0-0d765f258773",
   "metadata": {},
   "source": [
    "## approach 1"
   ]
  },
  {
   "cell_type": "code",
   "execution_count": 31,
   "id": "cb57b8ab-24f4-48d5-8c78-bb32a56844d1",
   "metadata": {},
   "outputs": [],
   "source": [
    "# define arrays to save the accuracy of every step of k-fold cross validation\n",
    "accuracy_kNeighbor_1 = []\n",
    "accuracy_decisionTree_1 = []\n",
    "accuracy_randomForest_1 = []\n",
    "accuracy_logisticRegression_1 = []\n",
    "accuracy_neuronalNet_1 = []"
   ]
  },
  {
   "cell_type": "code",
   "execution_count": 32,
   "id": "b19fbe07-1364-41b3-b817-0a5c3c80189e",
   "metadata": {},
   "outputs": [],
   "source": [
    "X_dropped = X_dropped.to_numpy()\n",
    "Y_dropped = Y_dropped.to_numpy().reshape(-1)"
   ]
  },
  {
   "cell_type": "code",
   "execution_count": 33,
   "id": "b7919eba-f54c-4c28-aed1-ee9db7bff854",
   "metadata": {},
   "outputs": [
    {
     "name": "stdout",
     "output_type": "stream",
     "text": [
      "KNeighbor: 0.7947909754479098\n",
      "Decision Tree: 0.7702388852023888\n",
      "Random Forest: 0.8100530856005309\n",
      "Logistic Regression: 0.7991041804910418\n",
      "Neuronales Netz: 0.8218314532183145\n",
      "\n",
      "\n",
      "KNeighbor: 0.7959522229595223\n",
      "Decision Tree: 0.7790311877903119\n",
      "Random Forest: 0.80092899800929\n",
      "Logistic Regression: 0.7981088254810883\n",
      "Neuronales Netz: 0.8239880557398805\n",
      "\n",
      "\n",
      "KNeighbor: 0.805242203052422\n",
      "Decision Tree: 0.7767086927670869\n",
      "Random Forest: 0.8044127405441274\n",
      "Logistic Regression: 0.8044127405441274\n",
      "Neuronales Netz: 0.8198407431984074\n",
      "\n",
      "\n",
      "KNeighbor: 0.7972793629727937\n",
      "Decision Tree: 0.7848374253483743\n",
      "Random Forest: 0.8035832780358327\n",
      "Logistic Regression: 0.8049104180491041\n",
      "Neuronales Netz: 0.8233244857332449\n",
      "\n",
      "\n",
      "KNeighbor: 0.7979094076655052\n",
      "Decision Tree: 0.7803218848515016\n",
      "Random Forest: 0.8086942093910735\n",
      "Logistic Regression: 0.8027210884353742\n",
      "Neuronales Netz: 0.8281068524970964\n",
      "\n",
      "\n"
     ]
    }
   ],
   "source": [
    "for train_index, test_index in kf.split(X_dropped):\n",
    "    \n",
    "        X_train, X_test = X_dropped[train_index], X_dropped[test_index]\n",
    "        Y_train, Y_test = Y_dropped[train_index], Y_dropped[test_index]\n",
    "        \n",
    "    #KNeighbor\n",
    "        kNeighbor = KNeighborsClassifier(n_neighbors=5)\n",
    "        #train random forest only on training data\n",
    "        kNeighbor = kNeighbor.fit(X_train, Y_train)\n",
    "        #test random forest with test data\n",
    "        kNeighbor_pred = kNeighbor.predict(X_test)\n",
    "        kNeighbor_accuracy = accuracy_score(Y_test, kNeighbor_pred)\n",
    "        print(f'KNeighbor: {kNeighbor_accuracy}')\n",
    "        accuracy_kNeighbor_1.append(kNeighbor_accuracy)\n",
    "        \n",
    "    #Decision Tree\n",
    "        decisionTree = DecisionTreeClassifier(random_state=0, criterion = 'entropy')\n",
    "        #train decision tree only on training data\n",
    "        decisionTree = decisionTree.fit(X_train, Y_train)\n",
    "        #test decision tree with test data\n",
    "        decisionTree_pred = decisionTree.predict(X_test)\n",
    "        decisionTree_accuracy = accuracy_score(Y_test, decisionTree_pred)\n",
    "        print(f'Decision Tree: {decisionTree_accuracy}')\n",
    "        accuracy_decisionTree_1.append(decisionTree_accuracy)\n",
    "        \n",
    "    #Random Forest\n",
    "        randomForest = RandomForestClassifier(max_depth=2, random_state=0)\n",
    "        #train random forest only on training data\n",
    "        randomForest = randomForest.fit(X_train, Y_train)\n",
    "        #test random forest with test data\n",
    "        randomForest_pred = randomForest.predict(X_test)\n",
    "        randomForest_accuracy = accuracy_score(Y_test, randomForest_pred)\n",
    "        print(f'Random Forest: {randomForest_accuracy}')\n",
    "        accuracy_randomForest_1.append(randomForest_accuracy)\n",
    "        \n",
    "    #Logistic Regression\n",
    "        logisticRegression = LogisticRegression(random_state=0, max_iter=500)\n",
    "        #train logistic regression only on training data\n",
    "        logisticRegression = logisticRegression.fit(X_train, Y_train)\n",
    "        #test random forest with test data\n",
    "        logisticRegression_pred = logisticRegression.predict(X_test)\n",
    "        logisticRegression_accuracy = accuracy_score(Y_test, logisticRegression_pred)\n",
    "        print(f'Logistic Regression: {logisticRegression_accuracy}')\n",
    "        accuracy_logisticRegression_1.append(logisticRegression_accuracy)\n",
    "        \n",
    "    #Neuronal Net\n",
    "        #@Tim welche max_iter sinnvoll? --> dauert so sehr lange schlimm?\n",
    "        neuronalNet = MLPClassifier(random_state=1, max_iter=500).fit(X_train, Y_train)\n",
    "        neuronalNet_pred = neuronalNet.predict(X_test)\n",
    "        neuronalNet_accuracy = accuracy_score(Y_test, neuronalNet_pred)\n",
    "        print(f'Neuronales Netz: {neuronalNet_accuracy}')\n",
    "        accuracy_neuronalNet_1.append(neuronalNet_accuracy)\n",
    "        print('\\n')"
   ]
  },
  {
   "cell_type": "code",
   "execution_count": 34,
   "id": "3be73e6f-9ca6-4751-963b-8d9b9dd5cd17",
   "metadata": {},
   "outputs": [
    {
     "data": {
      "image/png": "[encoded data removed]",
      "text/plain": [
       "<Figure size 1080x360 with 1 Axes>"
      ]
     },
     "metadata": {},
     "output_type": "display_data"
    }
   ],
   "source": [
    "# print accuracy of each kfold step\n",
    "plt.figure(figsize=(15,5))\n",
    "ax = plt.subplot()\n",
    "width = 0.1\n",
    "\n",
    "X_label = ['1', '2', '3', '4', '5']\n",
    "_X = np.arange(len(X_label))\n",
    "\n",
    "ax.bar(_X, accuracy_kNeighbor_1, width, label='kNeighbor')\n",
    "ax.bar(_X + width, accuracy_decisionTree_1, width, label='decision tree')\n",
    "ax.bar(_X + (2*width), accuracy_randomForest_1, width, label='random Forest')\n",
    "ax.bar(_X + (3*width), accuracy_logisticRegression_1, width, label='logistic regression')\n",
    "ax.bar(_X + (4*width), accuracy_neuronalNet_1, width, label='neuronal net')\n",
    "\n",
    "ax.set_ylabel('Accuracy')\n",
    "ax.set_ylim(0,1)\n",
    "ax.set_xticks(_X + width + width/2)\n",
    "ax.set_xticklabels(X_label)\n",
    "ax.set_xlabel('Different models')\n",
    "ax.set_title('Accurancy of the diffrent models in every kfold step')\n",
    "ax.legend()\n",
    "\n",
    "plt.tight_layout()\n",
    "\n",
    "plt.show()"
   ]
  },
  {
   "cell_type": "code",
   "execution_count": 35,
   "id": "2e64566d-d245-4003-9cf7-34732ddf2027",
   "metadata": {},
   "outputs": [],
   "source": [
    "# calculate average accuracy\n",
    "avg_kNeigbor_1 = sum(accuracy_kNeighbor_1)/len(accuracy_kNeighbor_1)\n",
    "avg_decisionTree_1 = sum(accuracy_decisionTree_1)/len(accuracy_decisionTree_1)\n",
    "avg_randomForest_1 = sum(accuracy_randomForest_1)/len(accuracy_randomForest_1)\n",
    "avg_logisticRegression_1 = sum(accuracy_logisticRegression_1)/len(accuracy_logisticRegression_1)\n",
    "avg_neuronalNet_1 = sum(accuracy_neuronalNet_1)/len(accuracy_neuronalNet_1)"
   ]
  },
  {
   "cell_type": "code",
   "execution_count": 36,
   "id": "d964294b-b46b-45f1-9cbf-ebd55703979c",
   "metadata": {},
   "outputs": [
    {
     "name": "stdout",
     "output_type": "stream",
     "text": [
      "KNeighbor: 0.7982348344196306\n",
      "Decision Tree: 0.7782276151919327\n",
      "Random Forest: 0.8055344623161709\n",
      "Logistic Regression: 0.8018514506001472\n",
      "Neuronal Net: 0.8234183180773886\n"
     ]
    }
   ],
   "source": [
    "print(f'KNeighbor: {avg_kNeigbor_1}')\n",
    "print(f'Decision Tree: {avg_decisionTree_1}')\n",
    "print(f'Random Forest: {avg_randomForest_1}')\n",
    "print(f'Logistic Regression: {avg_logisticRegression_1}')\n",
    "print(f'Neuronal Net: {avg_neuronalNet_1}')"
   ]
  },
  {
   "cell_type": "code",
   "execution_count": 37,
   "id": "249f9e40-863a-4238-a069-b2fd8da0495a",
   "metadata": {},
   "outputs": [
    {
     "data": {
      "image/png": "[encoded data removed]",
      "text/plain": [
       "<Figure size 1080x360 with 1 Axes>"
      ]
     },
     "metadata": {},
     "output_type": "display_data"
    }
   ],
   "source": [
    "# print average accuracy of each model\n",
    "plt.figure(figsize=(15,5))\n",
    "ax = plt.subplot()\n",
    "models = ['KNeigbor', 'Decision Tree', 'Random Forest', 'Logistic Regression', 'Neuronal Net']\n",
    "avg_accuracies_1 = [avg_kNeigbor_1, avg_decisionTree_1, avg_randomForest_1, avg_logisticRegression_1, avg_neuronalNet_1] \n",
    "\n",
    "ax.bar(models, avg_accuracies_1)\n",
    "\n",
    "ax.set_ylabel('Average Accuracy')\n",
    "ax.set_ylim(0,1)\n",
    "ax.set_title('Average Accurancy of the different models')\n",
    "\n",
    "plt.tight_layout()\n",
    "plt.show()"
   ]
  },
  {
   "cell_type": "markdown",
   "id": "5b201045-000e-43f6-b271-f0d3787669e9",
   "metadata": {},
   "source": [
    "## aproach 2"
   ]
  },
  {
   "cell_type": "code",
   "execution_count": 38,
   "id": "008bcd86-7f88-4f55-bbeb-dca9b4d69eaf",
   "metadata": {},
   "outputs": [],
   "source": [
    "# define arrays to save the accuracy of every step of k-fold cross validation\n",
    "accuracy_kNeighbor_2 = []\n",
    "accuracy_decisionTree_2 = []\n",
    "accuracy_randomForest_2 = []\n",
    "accuracy_logisticRegression_2 = []\n",
    "accuracy_neuronalNet_2 = []"
   ]
  },
  {
   "cell_type": "code",
   "execution_count": 39,
   "id": "bcddfa13-8c3f-4e2a-8b72-34e717ae3d14",
   "metadata": {},
   "outputs": [],
   "source": [
    "X = X.to_numpy()\n",
    "Y = Y.to_numpy().reshape(-1)"
   ]
  },
  {
   "cell_type": "code",
   "execution_count": 40,
   "id": "28122bda-e602-4f35-accd-51d670338c04",
   "metadata": {},
   "outputs": [
    {
     "name": "stdout",
     "output_type": "stream",
     "text": [
      "KNeighbor: 0.7913337430854334\n",
      "Decision Tree: 0.7701290719114936\n",
      "Random Forest: 0.794099569760295\n",
      "Logistic Regression: 0.8014751075599262\n",
      "Neuronales Netz: 0.8240626920712969\n",
      "\n",
      "\n",
      "KNeighbor: 0.8040872771972957\n",
      "Decision Tree: 0.7904118008604795\n",
      "Random Forest: 0.8051628764597418\n",
      "Logistic Regression: 0.8011677934849416\n",
      "Neuronales Netz: 0.8277504609711125\n",
      "\n",
      "\n",
      "KNeighbor: 0.8002151529122483\n",
      "Decision Tree: 0.781312432764715\n",
      "Random Forest: 0.8009835561702782\n",
      "Logistic Regression: 0.8003688335638544\n",
      "Neuronales Netz: 0.8232672506531428\n",
      "\n",
      "\n",
      "KNeighbor: 0.8091286307053942\n",
      "Decision Tree: 0.7871522975257416\n",
      "Random Forest: 0.8115875211310896\n",
      "Logistic Regression: 0.8112801598278777\n",
      "Neuronales Netz: 0.8377132319041033\n",
      "\n",
      "\n",
      "KNeighbor: 0.8074381435377286\n",
      "Decision Tree: 0.7831566005839865\n",
      "Random Forest: 0.8123559243891194\n",
      "Logistic Regression: 0.8160442600276625\n",
      "Neuronales Netz: 0.7943752881512217\n",
      "\n",
      "\n"
     ]
    }
   ],
   "source": [
    "for train_index, test_index in kf.split(X):\n",
    "    \n",
    "        X_train, X_test = X[train_index], X[test_index]\n",
    "        Y_train, Y_test = Y[train_index], Y[test_index]\n",
    "        \n",
    "    #KNeighbor\n",
    "        kNeighbor = KNeighborsClassifier(n_neighbors=5)\n",
    "        #train random forest only on training data\n",
    "        kNeighbor = kNeighbor.fit(X_train, Y_train)\n",
    "        #test random forest with test data\n",
    "        kNeighbor_pred = kNeighbor.predict(X_test)\n",
    "        kNeighbor_accuracy = accuracy_score(Y_test, kNeighbor_pred)\n",
    "        print(f'KNeighbor: {kNeighbor_accuracy}')\n",
    "        accuracy_kNeighbor_2.append(kNeighbor_accuracy)\n",
    "        \n",
    "    #Decision Tree\n",
    "        decisionTree = DecisionTreeClassifier(random_state=0, criterion = 'entropy')\n",
    "        #train decision tree only on training data\n",
    "        decisionTree = decisionTree.fit(X_train, Y_train)\n",
    "        #test decision tree with test data\n",
    "        decisionTree_pred = decisionTree.predict(X_test)\n",
    "        decisionTree_accuracy = accuracy_score(Y_test, decisionTree_pred)\n",
    "        print(f'Decision Tree: {decisionTree_accuracy}')\n",
    "        accuracy_decisionTree_2.append(decisionTree_accuracy)\n",
    "        \n",
    "    #Random Forest\n",
    "        randomForest = RandomForestClassifier(max_depth=2, random_state=0)\n",
    "        #train random forest only on training data\n",
    "        randomForest = randomForest.fit(X_train, Y_train)\n",
    "        #test random forest with test data\n",
    "        randomForest_pred = randomForest.predict(X_test)\n",
    "        randomForest_accuracy = accuracy_score(Y_test, randomForest_pred)\n",
    "        print(f'Random Forest: {randomForest_accuracy}')\n",
    "        accuracy_randomForest_2.append(randomForest_accuracy)\n",
    "        \n",
    "    #Logistic Regression\n",
    "        logisticRegression = LogisticRegression(random_state=0, max_iter=500)\n",
    "        #train logistic regression only on training data\n",
    "        logisticRegression = logisticRegression.fit(X_train, Y_train)\n",
    "        #test random forest with test data\n",
    "        logisticRegression_pred = logisticRegression.predict(X_test)\n",
    "        logisticRegression_accuracy = accuracy_score(Y_test, logisticRegression_pred)\n",
    "        print(f'Logistic Regression: {logisticRegression_accuracy}')\n",
    "        accuracy_logisticRegression_2.append(logisticRegression_accuracy)\n",
    "        \n",
    "    #Neuronal Net\n",
    "        #@Tim welche max_iter sinnvoll? --> dauert so sehr lange schlimm?\n",
    "        neuronalNet = MLPClassifier(random_state=1, max_iter=500).fit(X_train, Y_train)\n",
    "        neuronalNet_pred = neuronalNet.predict(X_test)\n",
    "        neuronalNet_accuracy = accuracy_score(Y_test, neuronalNet_pred)\n",
    "        print(f'Neuronales Netz: {neuronalNet_accuracy}')\n",
    "        accuracy_neuronalNet_2.append(neuronalNet_accuracy)\n",
    "        print('\\n')"
   ]
  },
  {
   "cell_type": "code",
   "execution_count": 41,
   "id": "7e6de0d5-fdfa-4cb7-a73c-27bb72a9bc70",
   "metadata": {},
   "outputs": [
    {
     "data": {
      "image/png": "[encoded data removed]",
      "text/plain": [
       "<Figure size 1080x360 with 1 Axes>"
      ]
     },
     "metadata": {},
     "output_type": "display_data"
    }
   ],
   "source": [
    "# print accuracy of each kfold step\n",
    "plt.figure(figsize=(15,5))\n",
    "ax = plt.subplot()\n",
    "width = 0.1\n",
    "\n",
    "X_label = ['1', '2', '3', '4', '5']\n",
    "_X = np.arange(len(X_label))\n",
    "\n",
    "ax.bar(_X, accuracy_kNeighbor_2, width, label='kNeighbor')\n",
    "ax.bar(_X + width, accuracy_decisionTree_2, width, label='decision tree')\n",
    "ax.bar(_X + (2*width), accuracy_randomForest_2, width, label='random Forest')\n",
    "ax.bar(_X + (3*width), accuracy_logisticRegression_2, width, label='logistic regression')\n",
    "ax.bar(_X + (4*width), accuracy_neuronalNet_2, width, label='neuronal net')\n",
    "\n",
    "ax.set_ylabel('Accuracy')\n",
    "ax.set_ylim(0,1)\n",
    "ax.set_xticks(_X + width + width/2)\n",
    "ax.set_xticklabels(X_label)\n",
    "ax.set_xlabel('Different models')\n",
    "ax.set_title('Accurancy of the different models in every kfold step')\n",
    "ax.legend()\n",
    "\n",
    "plt.tight_layout()\n",
    "\n",
    "plt.show()"
   ]
  },
  {
   "cell_type": "code",
   "execution_count": 42,
   "id": "e4eb765d-f80b-4821-b94b-a94e2888472d",
   "metadata": {},
   "outputs": [],
   "source": [
    "# calculate average accuracy\n",
    "avg_kNeigbor_2 = sum(accuracy_kNeighbor_2)/len(accuracy_kNeighbor_2)\n",
    "avg_decisionTree_2 = sum(accuracy_decisionTree_2)/len(accuracy_decisionTree_2)\n",
    "avg_randomForest_2 = sum(accuracy_randomForest_2)/len(accuracy_randomForest_2)\n",
    "avg_logisticRegression_2 = sum(accuracy_logisticRegression_2)/len(accuracy_logisticRegression_2)\n",
    "avg_neuronalNet_2 = sum(accuracy_neuronalNet_2)/len(accuracy_neuronalNet_2)"
   ]
  },
  {
   "cell_type": "code",
   "execution_count": 43,
   "id": "ff4551cd-5c62-4fa6-aaf8-83bfb0de10e0",
   "metadata": {},
   "outputs": [
    {
     "name": "stdout",
     "output_type": "stream",
     "text": [
      "KNeighbor: 0.80244058948762\n",
      "Decision Tree: 0.7824324407292832\n",
      "Random Forest: 0.8048378895821049\n",
      "Logistic Regression: 0.8060672308928526\n",
      "Neuronal Net: 0.8214337847501755\n"
     ]
    }
   ],
   "source": [
    "print(f'KNeighbor: {avg_kNeigbor_2}')\n",
    "print(f'Decision Tree: {avg_decisionTree_2}')\n",
    "print(f'Random Forest: {avg_randomForest_2}')\n",
    "print(f'Logistic Regression: {avg_logisticRegression_2}')\n",
    "print(f'Neuronal Net: {avg_neuronalNet_2}')"
   ]
  },
  {
   "cell_type": "code",
   "execution_count": 44,
   "id": "663b29d4-0c6c-404c-81f3-610f03842208",
   "metadata": {},
   "outputs": [
    {
     "data": {
      "image/png": "[encoded data removed]",
      "text/plain": [
       "<Figure size 1080x360 with 1 Axes>"
      ]
     },
     "metadata": {},
     "output_type": "display_data"
    }
   ],
   "source": [
    "# print average accuracy of each model\n",
    "plt.figure(figsize=(15,5))\n",
    "ax = plt.subplot()\n",
    "models = ['KNeigbor', 'Decision Tree', 'Random Forest', 'Logistic Regression', 'Neuronal Net']\n",
    "avg_accuracies_2 = [avg_kNeigbor_2, avg_decisionTree_2, avg_randomForest_2, avg_logisticRegression_2, avg_neuronalNet_2] \n",
    "\n",
    "ax.bar(models, avg_accuracies_2)\n",
    "\n",
    "ax.set_ylabel('Average Accuracy')\n",
    "ax.set_ylim(0,1)\n",
    "ax.set_title('Average Accurancy of the diffrent models')\n",
    "\n",
    "plt.tight_layout()\n",
    "plt.show()"
   ]
  },
  {
   "cell_type": "markdown",
   "id": "33406909-371d-4e05-9ae0-354862cfcb07",
   "metadata": {},
   "source": [
    "## compare approaches"
   ]
  },
  {
   "cell_type": "code",
   "execution_count": 45,
   "id": "23bc7625-2671-49d5-b762-10332c89e837",
   "metadata": {},
   "outputs": [
    {
     "data": {
      "image/png": "[encoded data removed]",
      "text/plain": [
       "<Figure size 720x360 with 1 Axes>"
      ]
     },
     "metadata": {},
     "output_type": "display_data"
    }
   ],
   "source": [
    "# print average accuracy of each approach\n",
    "plt.figure(figsize=(10,5))\n",
    "ax = plt.subplot()\n",
    "width = 0.1\n",
    "\n",
    "X_label = ['KNeigbor', 'Decision Tree', 'Random Forest', 'Logistic Regression', 'Neuronal Net']\n",
    "_X = np.arange(len(X_label))\n",
    "\n",
    "ax.bar(_X, avg_accuracies_1, width, label='approach 1')\n",
    "ax.bar(_X + width, avg_accuracies_2, width, label='approach 2')\n",
    "\n",
    "ax.set_ylabel('Average Accuracy')\n",
    "ax.set_ylim(0,1)\n",
    "ax.set_xticks(_X + width + width/2)\n",
    "ax.set_xticklabels(X_label)\n",
    "ax.set_title('Accurancy of the different models in the different approaches')\n",
    "ax.legend()\n",
    "\n",
    "plt.tight_layout()\n",
    "\n",
    "plt.show()"
   ]
  },
  {
   "cell_type": "markdown",
   "id": "ad0b037e-0938-48e1-807e-b886f5a141a3",
   "metadata": {},
   "source": [
    "# evaluation"
   ]
  },
  {
   "cell_type": "markdown",
   "id": "c17089f7-cdd7-4f1c-a1c4-d23987803fd4",
   "metadata": {},
   "source": [
    "## approach 1"
   ]
  },
  {
   "cell_type": "code",
   "execution_count": null,
   "id": "ca8f751c-6383-429b-bff7-6e09ce0e4f87",
   "metadata": {},
   "outputs": [],
   "source": []
  }
 ],
 "metadata": {
  "kernelspec": {
   "display_name": "Python 3",
   "language": "python",
   "name": "python3"
  },
  "language_info": {
   "codemirror_mode": {
    "name": "ipython",
    "version": 3
   },
   "file_extension": ".py",
   "mimetype": "text/x-python",
   "name": "python",
   "nbconvert_exporter": "python",
   "pygments_lexer": "ipython3",
   "version": "3.8.8"
  }
 },
 "nbformat": 4,
 "nbformat_minor": 5
}
